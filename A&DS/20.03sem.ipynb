{
 "cells": [
  {
   "cell_type": "markdown",
   "id": "cfac89f8",
   "metadata": {},
   "source": [
    "Класс – строка символов.\n",
    "Методы класса – расчет длины строки\n",
    "и коли-чества слов. Поля класса –\n",
    "строка, длина  строки, кол–во слов\n",
    "в строке"
   ]
  },
  {
   "cell_type": "code",
   "execution_count": 3,
   "id": "b4b489f7",
   "metadata": {},
   "outputs": [
    {
     "name": "stdout",
     "output_type": "stream",
     "text": [
      "Длина строки: 21\n",
      "Количество слов в строке: 5\n"
     ]
    }
   ],
   "source": [
    "class Str:\n",
    "    def __init__(self, string):\n",
    "        self.string = str(string)\n",
    "        self.length = self.calculate_length()\n",
    "        self.word_count = self.calculate_word_count()\n",
    "\n",
    "    def calculate_length(self):\n",
    "        return len(self.string)\n",
    "\n",
    "    def calculate_word_count(self):\n",
    "        return len(self.string.split())\n",
    "\n",
    "# Пример использования класса\n",
    "s = 'ergv ge rgt wdesc hrt'\n",
    "string_object = Str(s)\n",
    "print(\"Длина строки:\", string_object.length)\n",
    "print(\"Количество слов в строке:\", string_object.word_count)"
   ]
  },
  {
   "cell_type": "markdown",
   "id": "c7743d39",
   "metadata": {},
   "source": [
    "Опишите класс Money, заданный двумя полями, которые определяют номинал купюры и количество купюр. Включите в описание класса методы, позволяющие вывести номинал и количество купюр, определить, хватит ли денежных средств на покупку товара на сумму рублей, и метод определения, сколько штук товара стоимости рублей можно купить на имеющиеся денежные средства, а также свойство, позволяющее рассчитать сумму денег."
   ]
  },
  {
   "cell_type": "code",
   "execution_count": 18,
   "id": "f01fdfde",
   "metadata": {},
   "outputs": [
    {
     "name": "stdout",
     "output_type": "stream",
     "text": [
      "Номинал купюры: 55 руб., Количество купюр: 4\n",
      "Денег достаточно для покупки товара на 150 рублей\n",
      "На имеющиеся денежные средства можно купить 3 товаров по 70 рублей\n",
      "Общая сумма денег: 220\n"
     ]
    }
   ],
   "source": [
    "class Money:\n",
    "    def __init__(self, nom, cnt):\n",
    "        self.nom = nom  # номинал купюры\n",
    "        self.cnt = cnt  # количество купюр\n",
    "\n",
    "    def nominal(self):\n",
    "        print(f\"Номинал купюры: {self.nom} руб., Количество купюр: {self.cnt}\")\n",
    "\n",
    "    def enough_money(self, amount): # определитель того, хватит ли денежных средств на покупку товара на сумму рублей\n",
    "        return amount <= self.total_amount()\n",
    "\n",
    "    def can_buy_items(self, cost_per_item): # метод определения, сколько штук товара стоимости рублей можно купить на имеющиеся денежные средства\n",
    "        return self.cnt * self.nom // cost_per_item\n",
    "\n",
    "    def total_amount(self):\n",
    "        return self.nom * self.cnt\n",
    "\n",
    "# Пример использования класса\n",
    "m = Money(55, 4) # создаем объект класса Money с номиналом 55 рублей и 4 купюрами\n",
    "\n",
    "m.nominal()  # выводим информацию о деньгах\n",
    "\n",
    "# Проверяем, хватит ли денег на покупку товара на сумму 150 рублей\n",
    "if m.enough_money(150):\n",
    "    print(\"Денег достаточно для покупки товара на 150 рублей\")\n",
    "else:\n",
    "    print(\"Денег недостаточно для покупки товара на 150 рублей\")\n",
    "\n",
    "# Определяем, сколько штук товара стоимости 70 рублей можно купить на имеющиеся денежные средства\n",
    "items_to_buy = m.can_buy_items(70)\n",
    "print(f\"На имеющиеся денежные средства можно купить {items_to_buy} товаров по 70 рублей\")\n",
    "\n",
    "# Рассчитываем общую сумму денег\n",
    "total_amount = m.total_amount()\n",
    "print(\"Общая сумма денег:\", total_amount)\n",
    "        "
   ]
  },
  {
   "cell_type": "markdown",
   "id": "f2a3672b",
   "metadata": {},
   "source": [
    "Создайте класс ТОВАР с методами, позволяющими вывести на экран информацию о товаре, а также определить, может ли приобрести товар покупатель, имеющий заданную сумму денег. Создайте дочерние классы ПРОДУКТ (название, цена, дата производства, срок годности), ПАРТИЯ (название, цена за штуку, количество штук, дата производства, срок годности), ТЕЛЕФОН (название, цена) со своими методами вывода информации на экран и определения соответствия заданной цене. Создайте список из n товаров, выведите полную информацию из базы на экран, а также организуйте поиск товара, который может приобрести покупатель, имеющий заданную сумму денег."
   ]
  },
  {
   "cell_type": "code",
   "execution_count": 16,
   "id": "d71788c9",
   "metadata": {},
   "outputs": [
    {
     "name": "stdout",
     "output_type": "stream",
     "text": [
      "Информация о продуктах:\n",
      "название продукта: Хлеб, Цена: 15 рублей.\n",
      "Дата изготовления: 12.03.2024, Срок годности: 5 дней\n",
      "название продукта: Молоко, Цена: 30 рублей.\n",
      "Количество: 2, Дата изготовления: 13.03.2024, Срок годности: 3 дней\n",
      "название продукта: Nokia, Цена: 1000 рублей.\n",
      "\n",
      "Товары, которые могут быть куплены за 1111 рублей:\n",
      "название продукта: Хлеб, Цена: 15 рублей.\n",
      "Дата изготовления: 12.03.2024, Срок годности: 5 дней\n",
      "название продукта: Молоко, Цена: 30 рублей.\n",
      "Количество: 2, Дата изготовления: 13.03.2024, Срок годности: 3 дней\n",
      "название продукта: Nokia, Цена: 1000 рублей.\n"
     ]
    }
   ],
   "source": [
    "class Item:\n",
    "    def __init__(self, name, price):\n",
    "        self.name = name\n",
    "        self.price = price\n",
    "\n",
    "    def info(self):\n",
    "        print(f\"название продукта: {self.name}, Цена: {self.price} рублей.\")\n",
    "\n",
    "\n",
    "class Product(Item):\n",
    "    def __init__(self, name, price, manufacture_date, expiry_date):\n",
    "        super().__init__(name, price)\n",
    "        self.manufacture_date = manufacture_date\n",
    "        self.expiry_date = expiry_date\n",
    "\n",
    "    def info(self):\n",
    "        super().info()\n",
    "        print(f\"Дата изготовления: {self.manufacture_date}, Срок годности: {self.expiry_date} дней\")\n",
    "\n",
    "\n",
    "class Batch(Item):\n",
    "    def __init__(self, name, price_per_unit, quantity, manufacture_date, expiry_date):\n",
    "        super().__init__(name, price_per_unit)\n",
    "        self.quantity = quantity\n",
    "        self.manufacture_date = manufacture_date\n",
    "        self.expiry_date = expiry_date\n",
    "\n",
    "    def info(self):\n",
    "        super().info()\n",
    "        print(f\"Количество: {self.quantity}, Дата изготовления: {self.manufacture_date}, Срок годности: {self.expiry_date} дней\")\n",
    "\n",
    "\n",
    "class Phone(Item):\n",
    "    def info(self):\n",
    "        super().info()\n",
    "\n",
    "\n",
    "def search_item(items_list, available_amount):\n",
    "    available_items = []\n",
    "    for item in items_list:\n",
    "        if item.price <= available_amount:\n",
    "            available_items.append(item)\n",
    "    return available_items\n",
    "\n",
    "\n",
    "items = [\n",
    "    Product(\"Хлеб\", 15, \"12.03.2024\", 5),\n",
    "    Batch(\"Молоко\", 30, 2, \"13.03.2024\", 3),\n",
    "    Phone(\"Nokia\", 1000),\n",
    "]\n",
    "\n",
    "print(\"Информация о продуктах:\")\n",
    "for item in items:\n",
    "    item.info()\n",
    "\n",
    "available_amount = 1111\n",
    "print(f\"\\nТовары, которые могут быть куплены за {available_amount} рублей:\")\n",
    "suitable_items = search_item(items, available_amount)\n",
    "for item in suitable_items:\n",
    "    item.info()"
   ]
  },
  {
   "cell_type": "code",
   "execution_count": null,
   "id": "b0b7cec7",
   "metadata": {},
   "outputs": [],
   "source": []
  }
 ],
 "metadata": {
  "kernelspec": {
   "display_name": "Python 3 (ipykernel)",
   "language": "python",
   "name": "python3"
  },
  "language_info": {
   "codemirror_mode": {
    "name": "ipython",
    "version": 3
   },
   "file_extension": ".py",
   "mimetype": "text/x-python",
   "name": "python",
   "nbconvert_exporter": "python",
   "pygments_lexer": "ipython3",
   "version": "3.9.12"
  }
 },
 "nbformat": 4,
 "nbformat_minor": 5
}
