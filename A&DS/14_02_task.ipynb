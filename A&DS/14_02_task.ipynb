{
 "cells": [
  {
   "cell_type": "markdown",
   "id": "092538ec",
   "metadata": {},
   "source": [
    "# При помощи стека (можно использовать любую реализацию стека, например, из лекции) проверить, что в строке, содержащей большой фрагмент кода на python, корректно открываются и закрываются скобки '(' и ')'. Заводить какие-либо счетчики и вообще вести подсчет скобок запрещено"
   ]
  },
  {
   "cell_type": "code",
   "execution_count": 21,
   "id": "3809383d",
   "metadata": {},
   "outputs": [
    {
     "name": "stdout",
     "output_type": "stream",
     "text": [
      "Not Balanced\n"
     ]
    }
   ],
   "source": [
    "from collections import deque\n",
    "\n",
    "class Stack(deque):\n",
    "    def push(self, s):\n",
    "        self.append(s)\n",
    "\n",
    "s = Stack()\n",
    "\n",
    "def balance(st):\n",
    "    for elem in st:\n",
    "        if elem == \"(\":\n",
    "            s.push(elem)\n",
    "        elif elem == \")\":\n",
    "            if s:  \n",
    "                s.pop()\n",
    "            else:\n",
    "                return False \n",
    "    return len(s) == 0\n",
    "\n",
    "if __name__ == \"__main__\":\n",
    "    st = '(f(gfhd((hgfdg((fghh)dads)das))ds)adddads())))'\n",
    "    if balance(st):\n",
    "        print(\"Balanced\")\n",
    "    else:\n",
    "        print(\"Not Balanced\")"
   ]
  },
  {
   "cell_type": "markdown",
   "id": "fd980e56",
   "metadata": {},
   "source": [
    "# С помощью списка (list) реализовать стек. При создании стека нужно передать максимальную длину стека. В случае попытки добавления элемента, приводящего к превышению емкости стека возвращать ошибку. "
   ]
  },
  {
   "cell_type": "code",
   "execution_count": 15,
   "id": "81925ef4",
   "metadata": {},
   "outputs": [
    {
     "name": "stdout",
     "output_type": "stream",
     "text": [
      "Error: Стек переполнен, добавить элемент нельзя\n",
      "[0, 1, 2, 3, 4]\n",
      "4\n"
     ]
    }
   ],
   "source": [
    "class Stack:\n",
    "    def __init__(self, max_size):\n",
    "        self.stack = []\n",
    "        self.max_size = max_size\n",
    "        \n",
    "    def push(self, item):\n",
    "        if len(self.stack) < self.max_size:\n",
    "            self.stack.append(item)\n",
    "        else:\n",
    "            raise ValueError(\"Стек переполнен, добавить элемент нельзя\")\n",
    "        \n",
    "    def pop(self):\n",
    "        if len(self.stack) == 0:\n",
    "            return None\n",
    "        removed = self.stack.pop()\n",
    "        return removed\n",
    "    \n",
    "    def stackk(self):\n",
    "        return self.stack\n",
    "    \n",
    "    def is_empty(self):\n",
    "        return len(self.stack) == 0\n",
    "    \n",
    "    def topp(self):\n",
    "        if len(self.stack) == 0:\n",
    "            return None\n",
    "        up = self.stack[-1]\n",
    "        return up\n",
    "    \n",
    "    def lenn(self):\n",
    "        return len(self.stack)\n",
    "    \n",
    "if __name__== \"__main__\":\n",
    "    my_stack = Stack(5)\n",
    "    for i in range(5):\n",
    "        my_stack.push(i)\n",
    "    try:\n",
    "        my_stack.push(10)\n",
    "    except ValueError as e:\n",
    "        print(f\"Error: {e}\")\n",
    "    print(my_stack.stackk())\n",
    "    print(my_stack.topp())"
   ]
  },
  {
   "cell_type": "markdown",
   "id": "ad22ba54",
   "metadata": {},
   "source": [
    "# Реализовать класс однонаправленного связанного списка\n",
    "## Реализовать метод добавления элемента в начало списка"
   ]
  },
  {
   "cell_type": "code",
   "execution_count": 22,
   "id": "a28defc4",
   "metadata": {},
   "outputs": [
    {
     "name": "stdout",
     "output_type": "stream",
     "text": [
      "1 -> 2 -> 3 -> None\n",
      "99 -> 8 -> 1 -> 2 -> 3 -> None\n"
     ]
    }
   ],
   "source": [
    "class Node:\n",
    "    def __init__(self, data):\n",
    "        self.next = None\n",
    "        self.data = data\n",
    "        \n",
    "    def append(self, val):\n",
    "        end = Node(val)\n",
    "        n = self\n",
    "        while (n.next):\n",
    "            n = n.next\n",
    "        n.next = end\n",
    "        \n",
    "    def insert_at_front(self, val):\n",
    "        new_node = Node(val)\n",
    "        new_node.next = self\n",
    "        return new_node\n",
    "\n",
    "    def display(self):\n",
    "        n = self\n",
    "        while n:\n",
    "            print(n.data, end=\" -> \")\n",
    "            n = n.next\n",
    "        print(\"None\")\n",
    "\n",
    "if __name__ == \"__main__\":\n",
    "    head = Node(1)\n",
    "    head.append(2)\n",
    "    head.append(3)\n",
    "    head.display()\n",
    "    head = head.insert_at_front(8)\n",
    "    head = head.insert_at_front(99)\n",
    "    head.display()"
   ]
  },
  {
   "cell_type": "markdown",
   "id": "01bc6d7d",
   "metadata": {},
   "source": [
    "# На базе класса однонаправленного связанного списка реализовать двунаправленный связанный список\n"
   ]
  },
  {
   "cell_type": "code",
   "execution_count": 67,
   "id": "36724901",
   "metadata": {},
   "outputs": [
    {
     "name": "stdout",
     "output_type": "stream",
     "text": [
      "1 <-> 2 <-> 3 <-> None\n",
      "3 <-> 2 <-> 1 <-> None\n",
      "0 <-> 1 <-> 2 <-> 3 <-> None\n",
      "3 <-> 2 <-> 1 <-> 0 <-> None\n"
     ]
    }
   ],
   "source": [
    "class Node:\n",
    "    def __init__(self, data):\n",
    "        self.data = data\n",
    "        self.next = None\n",
    "        self.prev = None\n",
    "\n",
    "class DoublyLinkedList:\n",
    "    def __init__(self):\n",
    "        self.head = None\n",
    "        self.tail = None\n",
    "\n",
    "    def is_empty(self):\n",
    "        return self.head is None\n",
    "\n",
    "    def append(self, data):\n",
    "        new_node = Node(data)\n",
    "        if self.is_empty():\n",
    "            self.head = self.tail = new_node\n",
    "        else:\n",
    "            new_node.prev = self.tail\n",
    "            self.tail.next = new_node\n",
    "            self.tail = new_node\n",
    "\n",
    "    def prepend(self, data):\n",
    "        new_node = Node(data)\n",
    "        if self.is_empty():\n",
    "            self.head = self.tail = new_node\n",
    "        else:\n",
    "            new_node.next = self.head\n",
    "            self.head.prev = new_node\n",
    "            self.head = new_node\n",
    "\n",
    "    def display_forward(self):\n",
    "        current = self.head\n",
    "        while current:\n",
    "            print(current.data, end=\" <-> \")\n",
    "            current = current.next\n",
    "        print(\"None\")\n",
    "\n",
    "    def display_backward(self):\n",
    "        current = self.tail\n",
    "        while current:\n",
    "            print(current.data, end=\" <-> \")\n",
    "            current = current.prev\n",
    "        print(\"None\")\n",
    "\n",
    "if __name__ == \"__main__\":\n",
    "    my_list = DoublyLinkedList()\n",
    "\n",
    "    my_list.append(1)\n",
    "    my_list.append(2)\n",
    "    my_list.append(3)\n",
    "\n",
    "    my_list.display_forward()\n",
    "    my_list.display_backward() \n",
    "\n",
    "    my_list.prepend(0)\n",
    "\n",
    "    my_list.display_forward()  \n",
    "    my_list.display_backward()  "
   ]
  },
  {
   "cell_type": "markdown",
   "id": "b7b55304",
   "metadata": {},
   "source": [
    "# При помощи класса связанного списка реализовать очередь"
   ]
  },
  {
   "cell_type": "code",
   "execution_count": 64,
   "id": "f9f6b019",
   "metadata": {},
   "outputs": [],
   "source": [
    "class IsEmptyError(Exception):\n",
    "    pass\n",
    "\n",
    "class SSLQueue:\n",
    "    class Node:\n",
    "        def __init__(self, element, _next):\n",
    "            self.element = element\n",
    "            self._next = _next\n",
    "        \n",
    "    def __init__(self):\n",
    "        self.head = None\n",
    "        self.tail = None\n",
    "        self.size = 0\n",
    "    \n",
    "    def _len(self):\n",
    "        return self.size\n",
    "    \n",
    "    def is_empty(self):\n",
    "        return self.size == 0\n",
    "    \n",
    "    def enqueue(self, element):\n",
    "        new = self.Node(element, None)\n",
    "        if self.is_empty():\n",
    "            self.head = new\n",
    "        else:\n",
    "             self.tail._next = new\n",
    "                \n",
    "        self.tail = new\n",
    "        self.size += 1\n",
    "        \n",
    "    def dequeue(self):\n",
    "        if self.is_empty():\n",
    "            raise IsEmptyError('This stack is empty')\n",
    "        result = self.head.element\n",
    "        self.head = self.head._next\n",
    "        self.size -= 1\n",
    "        if self.is_empty():\n",
    "            self.tail = None\n",
    "        return result\n",
    "            \n",
    "    def first(self):\n",
    "        if self.is_empty():\n",
    "            raise IsEmptyError('This stack is empty')\n",
    "        return self.head.element\n"
   ]
  },
  {
   "cell_type": "code",
   "execution_count": 56,
   "id": "2df23791",
   "metadata": {},
   "outputs": [
    {
     "data": {
      "text/plain": [
       "<__main__.SSLQueue at 0x1667ce37310>"
      ]
     },
     "execution_count": 56,
     "metadata": {},
     "output_type": "execute_result"
    }
   ],
   "source": [
    "SSLQueue()"
   ]
  },
  {
   "cell_type": "code",
   "execution_count": 58,
   "id": "929760b5",
   "metadata": {},
   "outputs": [
    {
     "data": {
      "text/plain": [
       "0"
      ]
     },
     "execution_count": 58,
     "metadata": {},
     "output_type": "execute_result"
    }
   ],
   "source": [
    "d = SSLQueue()\n",
    "d._len()"
   ]
  },
  {
   "cell_type": "code",
   "execution_count": 69,
   "id": "052650c5",
   "metadata": {},
   "outputs": [],
   "source": [
    "d.enqueue('One')\n",
    "d.enqueue(2)\n",
    "d.dequeue()\n",
    "for i in range(5):\n",
    "    d.enqueue(i)\n"
   ]
  }
 ],
 "metadata": {
  "kernelspec": {
   "display_name": "Python 3 (ipykernel)",
   "language": "python",
   "name": "python3"
  },
  "language_info": {
   "codemirror_mode": {
    "name": "ipython",
    "version": 3
   },
   "file_extension": ".py",
   "mimetype": "text/x-python",
   "name": "python",
   "nbconvert_exporter": "python",
   "pygments_lexer": "ipython3",
   "version": "3.10.9"
  }
 },
 "nbformat": 4,
 "nbformat_minor": 5
}
