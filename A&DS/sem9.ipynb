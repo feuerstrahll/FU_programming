{
 "cells": [
  {
   "cell_type": "code",
   "execution_count": 26,
   "id": "07c22906",
   "metadata": {},
   "outputs": [],
   "source": [
    "l1 = ['1', '123', '123', '12', '1', '123']\n",
    "l2 = [2, 4, -2, -3, 0 , 11 , 3 -1]\n",
    "\n",
    "d4 = {1: 10, 2: 20, 3: 30, 4: 40, 5: 50, 6: 60}\n",
    "d5 = {'a': 3, 'b': 4, 'c': 5, 'd': 6, 'e': 7, 'f': 8, 'g': 9}\n",
    "d6 = {'e': 20, 'f': 21, 'g': 22, 'h': 23, 'i': 24, 'j': 25, 'k': 26, 'l': 27}"
   ]
  },
  {
   "cell_type": "markdown",
   "id": "a69c8982",
   "metadata": {},
   "source": [
    "4.13) Используюя список l1 создать список, в ктором каждый элемент списка l1 будет заменен значением длины строки соответствующего элемента в списке l1. Использовать генераторы, решить задачу в одну строку.\n"
   ]
  },
  {
   "cell_type": "code",
   "execution_count": 5,
   "id": "dd5462d5",
   "metadata": {},
   "outputs": [
    {
     "data": {
      "text/plain": [
       "[1, 3, 3, 2, 1, 3]"
      ]
     },
     "execution_count": 5,
     "metadata": {},
     "output_type": "execute_result"
    }
   ],
   "source": [
    "lst = [len(i) for i in l1]\n",
    "lst"
   ]
  },
  {
   "cell_type": "markdown",
   "id": "0431fd3b",
   "metadata": {},
   "source": [
    "4.14) Подсчитать количество строк в списке l1, длина которых больше 2х. Использовать генераторы, решить задачу в одну строку.\n",
    "\n"
   ]
  },
  {
   "cell_type": "code",
   "execution_count": 6,
   "id": "6b619d09",
   "metadata": {},
   "outputs": [
    {
     "data": {
      "text/plain": [
       "['123', '123', '123']"
      ]
     },
     "execution_count": 6,
     "metadata": {},
     "output_type": "execute_result"
    }
   ],
   "source": [
    "n_of_str = [i for i in l1 if len(i) > 2]\n",
    "n_of_str"
   ]
  },
  {
   "cell_type": "markdown",
   "id": "04868da0",
   "metadata": {},
   "source": [
    "4.15) Просуммировать произведение ключей на значения словаря d4"
   ]
  },
  {
   "cell_type": "code",
   "execution_count": 16,
   "id": "9e7525c5",
   "metadata": {},
   "outputs": [
    {
     "name": "stdout",
     "output_type": "stream",
     "text": [
      "910\n"
     ]
    }
   ],
   "source": [
    "sum_of_multiply = sum(k * v for k, v in d4.items())\n",
    "print(sum_of_multiply)"
   ]
  },
  {
   "cell_type": "code",
   "execution_count": 18,
   "id": "a45a3ea5",
   "metadata": {},
   "outputs": [
    {
     "name": "stdout",
     "output_type": "stream",
     "text": [
      "910\n"
     ]
    }
   ],
   "source": [
    "sum_of_multiply = sum(map(lambda n: n[0] * n[1], d4.items()))\n",
    "sum_of_multiply"
   ]
  },
  {
   "cell_type": "markdown",
   "id": "d1bc3bca",
   "metadata": {},
   "source": [
    "4.16) На базе словаря d6 составить словарь d7 в котором нет пар ключ-значение с ключами, встречающимися в словаре d5. Использовать генераторы, решить задачу в одну строку."
   ]
  },
  {
   "cell_type": "code",
   "execution_count": 23,
   "id": "949235bb",
   "metadata": {},
   "outputs": [
    {
     "data": {
      "text/plain": [
       "[('h', 23), ('i', 24), ('j', 25), ('k', 26), ('l', 27)]"
      ]
     },
     "execution_count": 23,
     "metadata": {},
     "output_type": "execute_result"
    }
   ],
   "source": [
    "d7 = [(k, v) for k, v in d6.items() if k not in d5]\n",
    "d7"
   ]
  },
  {
   "cell_type": "markdown",
   "id": "a3ba2dcd",
   "metadata": {},
   "source": [
    "4.17) Создать список, в котором все числа списка l2 умножены на их номер в списке, остальные элементы сохранены на своих местах. Использовать генераторы, решить задачу в одну строку.\n",
    "\n"
   ]
  },
  {
   "cell_type": "code",
   "execution_count": 29,
   "id": "85c090a1",
   "metadata": {},
   "outputs": [
    {
     "data": {
      "text/plain": [
       "[0, 4, -4, -9, 0, 55, 12]"
      ]
     },
     "execution_count": 29,
     "metadata": {},
     "output_type": "execute_result"
    }
   ],
   "source": [
    "multiply_on_number_in_list = [ind*elem for ind, elem in enumerate(l2)]\n",
    "multiply_on_number_in_list "
   ]
  },
  {
   "cell_type": "markdown",
   "id": "77963625",
   "metadata": {},
   "source": [
    "4.18) Создать список, в котором все отрицательные числа списка l2 исключены, остальные элементы сохранены на своих местах. Использовать генераторы, решить задачу в одну строку."
   ]
  },
  {
   "cell_type": "code",
   "execution_count": 27,
   "id": "e149e0f8",
   "metadata": {},
   "outputs": [
    {
     "data": {
      "text/plain": [
       "[2, 4, 0, 11, 2]"
      ]
     },
     "execution_count": 27,
     "metadata": {},
     "output_type": "execute_result"
    }
   ],
   "source": [
    "not_less_than_zero = [i  for i in l2 if i>=0]\n",
    "not_less_than_zero"
   ]
  },
  {
   "cell_type": "markdown",
   "id": "b1709579",
   "metadata": {},
   "source": [
    "4.19) Создать список, в котором все отрицательные числа списка l2 заменены на их номер в списке, остальные элементы сохранены на своих местах. Использовать генераторы и тернарный оператор, решить задачу в одну строку.\n",
    "\n"
   ]
  },
  {
   "cell_type": "code",
   "execution_count": 30,
   "id": "362a4255",
   "metadata": {
    "scrolled": true
   },
   "outputs": [
    {
     "data": {
      "text/plain": [
       "[2, 4, 2, 3, 0, 11, 2]"
      ]
     },
     "execution_count": 30,
     "metadata": {},
     "output_type": "execute_result"
    }
   ],
   "source": [
    "change_on_number_in_list = [elem if elem >=0 else ind for ind, elem in enumerate(l2)]\n",
    "change_on_number_in_list"
   ]
  },
  {
   "cell_type": "markdown",
   "id": "5b3c4540",
   "metadata": {},
   "source": [
    "5.1) Написать задокументированную функцию умножения двух чисел. Для каких типов данная функция будет возвращать практически ценный результат? Написать примеры использования этой функции."
   ]
  },
  {
   "cell_type": "code",
   "execution_count": 36,
   "id": "c7bc4641",
   "metadata": {},
   "outputs": [
    {
     "name": "stdout",
     "output_type": "stream",
     "text": [
      "21 29.700000000000003 0.125\n"
     ]
    }
   ],
   "source": [
    "def mult(a, b):\n",
    "    \"\"\"\n",
    "    Функция умножения двух чисел.\n",
    "\n",
    "    Parameters:\n",
    "        a (int, float): Первое число.\n",
    "        b (int, float): Второе число.\n",
    "\n",
    "    Returns:\n",
    "        int, float: Результат умножения a на b\n",
    "    \"\"\"\n",
    "    return a*b # перемножение числел и возврат значения\n",
    "\n",
    "result1 = mult(7, 3)     # result1 равен 6\n",
    "result2 = mult(9.9, 3)    # result2 равен 11.0\n",
    "result3 = mult(0.5, 0.25)\n",
    "\n",
    "print(result1, result2, result3)"
   ]
  },
  {
   "cell_type": "markdown",
   "id": "632f7c84",
   "metadata": {},
   "source": [
    "5.2) Написать функцию умножения принимающую от одного до трех параметров. Написать примеры использования этой функции с разным количеством параметров."
   ]
  },
  {
   "cell_type": "code",
   "execution_count": 21,
   "id": "ff3de84b",
   "metadata": {},
   "outputs": [
    {
     "name": "stdout",
     "output_type": "stream",
     "text": [
      "4\n",
      "198.0\n",
      "77.5\n"
     ]
    }
   ],
   "source": [
    "def mult_1or3(a, b, c=1):\n",
    "    return a*b*c\n",
    "\n",
    "print(mult_1or3(2,2))\n",
    "print(mult_1or3(5.5, 3, 12))\n",
    "print(mult_1or3(5, 5, 3.1))\n"
   ]
  },
  {
   "cell_type": "markdown",
   "id": "80eb9dcb",
   "metadata": {},
   "source": [
    "5.3) Функцию из задания 2 вызвать с приведенными ниже аргументами. Для случая a4 выбрать 3 первых и 3 последних значения.\n",
    "\n"
   ]
  },
  {
   "cell_type": "code",
   "execution_count": 22,
   "id": "2509cf8d",
   "metadata": {},
   "outputs": [
    {
     "name": "stdout",
     "output_type": "stream",
     "text": [
      "750\n",
      "3\n",
      "3850\n",
      "750\n",
      "3000\n"
     ]
    }
   ],
   "source": [
    "a1 = (15, 10 ,5)\n",
    "a2 = (3, 1)\n",
    "a3 = [2, 35, 55]\n",
    "a4 = (5, 10 ,15, 20)\n",
    "\n",
    "print(mult_1or3(*a1)) # распаковка листа и передача в функцию умножения\n",
    "print(mult_1or3(*a2))\n",
    "print(mult_1or3(*a3))\n",
    "print(mult_1or3(*a4[:3])) # распаковка первых трех элементов списка и передача в функцию умножения\n",
    "print(mult_1or3(*a4[-3:])) # аналогично, что и пример выше, только распаковка трех элементов списка"
   ]
  },
  {
   "cell_type": "markdown",
   "id": "4c4c4394",
   "metadata": {},
   "source": [
    "5.4) Реализовать функцию умножения, принимающую неограниченное количество значений. Написать примеры использования этой функции, в том числе с аргументами из задания 3.\n"
   ]
  },
  {
   "cell_type": "code",
   "execution_count": 59,
   "id": "a3b0f834",
   "metadata": {},
   "outputs": [
    {
     "name": "stdout",
     "output_type": "stream",
     "text": [
      "750\n",
      "3\n",
      "3850\n",
      "15000\n"
     ]
    }
   ],
   "source": [
    "def m(*args):\n",
    "    res = 1\n",
    "    for i in args:\n",
    "        res *= i\n",
    "    return res\n",
    "\n",
    "print(m(*a1))\n",
    "print(m(*a2))\n",
    "print(m(*a3))\n",
    "print(m(*a4))"
   ]
  },
  {
   "cell_type": "markdown",
   "id": "0bb2dfc7",
   "metadata": {},
   "source": [
    "5.5) Реализовать функции для выполнения четырех арифмитических операций преобразующих целые числа в целое число. Для двух заранее заданных целых чисел выполнить выбранную пользователем арифметическую операцию\n"
   ]
  },
  {
   "cell_type": "code",
   "execution_count": 62,
   "id": "e1a640cf",
   "metadata": {},
   "outputs": [
    {
     "name": "stdout",
     "output_type": "stream",
     "text": [
      "10\n",
      "21\n",
      "0\n",
      "-4\n"
     ]
    }
   ],
   "source": [
    "def sm(a,b):\n",
    "    return int(a+b)\n",
    "\n",
    "def mlt(a,b):\n",
    "    return int(a*b)\n",
    "\n",
    "def div(a,b):\n",
    "    if b!=0:\n",
    "        return a//b\n",
    "\n",
    "def diff(a,b):\n",
    "    return int(a-b)\n",
    "    \n",
    "\n",
    "n1 = 3\n",
    "n2 = 7\n",
    "print(sm(n1,n2))\n",
    "print(mlt(n1,n2))\n",
    "print(div(n1,n2))\n",
    "print(diff(n1,n2))"
   ]
  },
  {
   "cell_type": "markdown",
   "id": "6597ace3",
   "metadata": {},
   "source": [
    "5.6) Написать калькулятор для строковых выражений вида '<число> <операция> <число>', где <число> - целое число, например 113, <арифмитическая операция> - одна из операций +,-,*,/(деление нацело),%(остаток от деления),^(возведение в степень). Пример calc('13 - 5') -> 8"
   ]
  },
  {
   "cell_type": "code",
   "execution_count": 5,
   "id": "cd05b95b",
   "metadata": {},
   "outputs": [
    {
     "name": "stdout",
     "output_type": "stream",
     "text": [
      "8\n",
      "1\n",
      "Нельзя делить на 0\n",
      "None\n",
      "343\n"
     ]
    }
   ],
   "source": [
    "def calc(expression):\n",
    "    # Создаем словарь с операциями и соответствующими функциями\n",
    "    operations = {\n",
    "        '+': lambda x, y: x + y,\n",
    "        '-': lambda x, y: x - y,\n",
    "        '*': lambda x, y: x * y,\n",
    "        '/': lambda x, y: x // y,  # Целочисленное деление\n",
    "        '%': lambda x, y: x % y,   # Остаток от деления\n",
    "        '**': lambda x, y: x ** y   # Возведение в степень\n",
    "    }\n",
    "\n",
    "    # Разбиваем строку на число и операцию\n",
    "    num1, op, num2 = str(expression).split()\n",
    "\n",
    "    # Преобразуем числа из строк в целые числа\n",
    "    num1 = int(num1)\n",
    "    num2 = int(num2)\n",
    "\n",
    "    if op == '/':\n",
    "        if num2 == 0:\n",
    "            print('Нельзя делить на 0')\n",
    "    else:\n",
    "        return operations[op](num1, num2)\n",
    "        \n",
    "\n",
    "# Пример использования\n",
    "print(calc('13 - 5'))  \n",
    "print(calc('16 % 5'))\n",
    "print(calc('4 / 0'))\n",
    "print(calc('7 ** 3'))"
   ]
  },
  {
   "cell_type": "markdown",
   "id": "e67f86d2",
   "metadata": {},
   "source": [
    "5.7) Реализовать функцию которая выводит на экран сообщение вида:\n",
    "'Автомобиль марки: BMW, модели: X5, цвета: белый, 2006 года выпуска, с пробегом: 215 000 км, c номерным знаком: X012АМ77, цена: 1 115 000 руб.'\n",
    "В функцию передаются именованные параметры изменяемой части сообщения, лубой из параметров может быть не задан пользователем функции и автоматически заменен на разумное сообщение в соответствующей части строки. Получить вывод текстового сообщения для словарей c1, c2.\n"
   ]
  },
  {
   "cell_type": "code",
   "execution_count": null,
   "id": "fb7d25e1",
   "metadata": {},
   "outputs": [],
   "source": [
    "def param(mark=\"BMW\",model=\"X5\", color = \"white\", year = \"2006\", probeg = \"215 000км\", number= \"X012АМ77\", price = \"1 115 000 руб\"):\n",
    "    "
   ]
  },
  {
   "cell_type": "markdown",
   "id": "2b8d61c5",
   "metadata": {},
   "source": [
    "5.8) Написать функцию, которая преобразует целое число (от 0 до 99) в текстовое написание числа на русском языке. Пример: to_text(15) -> 'Пятнадцать'"
   ]
  },
  {
   "cell_type": "code",
   "execution_count": 7,
   "id": "522f69fe",
   "metadata": {},
   "outputs": [
    {
     "name": "stdout",
     "output_type": "stream",
     "text": [
      "33\n"
     ]
    },
    {
     "data": {
      "text/plain": [
       "'тридцать три'"
      ]
     },
     "execution_count": 7,
     "metadata": {},
     "output_type": "execute_result"
    }
   ],
   "source": [
    "def to_text(num):\n",
    "    \n",
    "    units = {\n",
    "        0: '', 1: 'один', 2: 'два', 3: 'три', 4: 'четыре',\n",
    "        5: 'пять', 6: 'шесть', 7: 'семь', 8: 'восемь', 9: 'девять'\n",
    "    }\n",
    "    tens = {\n",
    "        10: 'десять', 11: 'одиннадцать', 12: 'двенадцать', 13: 'тринадцать',\n",
    "        14: 'четырнадцать', 15: 'пятнадцать', 16: 'шестнадцать', 17: 'семнадцать',\n",
    "        18: 'восемнадцать', 19: 'девятнадцать'\n",
    "    }\n",
    "    # Словарь для десятков\n",
    "    tens_dict = {\n",
    "        2: 'двадцать', 3: 'тридцать', 4: 'сорок',\n",
    "        5: 'пятьдесят', 6: 'шестьдесят', 7: 'семьдесят',\n",
    "        8: 'восемьдесят', 9: 'девяносто'\n",
    "    }\n",
    "\n",
    "    # Если число от 0 до 9, просто возвращаем его текстовое представление\n",
    "    if num < 10:\n",
    "        return units[num]\n",
    "    # Если число от 10 до 19, возвращаем соответствующее представление\n",
    "    elif num < 20:\n",
    "        return tens[num]\n",
    "    # Для чисел от 20 до 99\n",
    "    else:\n",
    "        # Получаем десятки и единицы\n",
    "        tens_digit = num // 10\n",
    "        units_digit = num % 10\n",
    "        # Формируем текстовое представление числа\n",
    "        text = tens_dict[tens_digit]\n",
    "        if units_digit:\n",
    "            text += ' ' + units[units_digit]\n",
    "        return text\n",
    "    \n",
    "    \n",
    "numb = int(input())\n",
    "to_text(numb)"
   ]
  },
  {
   "cell_type": "markdown",
   "id": "47eb34e2",
   "metadata": {},
   "source": [
    "9) Написать функцию, которая преобразует целое число (от 0 до 999) из текстового представления на руссокм языке в число типа int. Пример: to_int('тридцать три') -> 33"
   ]
  },
  {
   "cell_type": "code",
   "execution_count": 9,
   "id": "0d78b520",
   "metadata": {},
   "outputs": [
    {
     "name": "stdout",
     "output_type": "stream",
     "text": [
      "двадцать пять\n"
     ]
    },
    {
     "data": {
      "text/plain": [
       "25"
      ]
     },
     "execution_count": 9,
     "metadata": {},
     "output_type": "execute_result"
    }
   ],
   "source": [
    "def to_int(text):\n",
    "    numbers = {\n",
    "        'ноль': 0, 'один': 1, 'два': 2, 'три': 3, 'четыре': 4,\n",
    "        'пять': 5, 'шесть': 6, 'семь': 7, 'восемь': 8, 'девять': 9,\n",
    "        'десять': 10, 'одиннадцать': 11, 'двенадцать': 12, 'тринадцать': 13,\n",
    "        'четырнадцать': 14, 'пятнадцать': 15, 'шестнадцать': 16, 'семнадцать': 17,\n",
    "        'восемнадцать': 18, 'девятнадцать': 19,\n",
    "        'двадцать': 20, 'тридцать': 30, 'сорок': 40, 'пятьдесят': 50,\n",
    "        'шестьдесят': 60, 'семьдесят': 70, 'восемьдесят': 80, 'девяносто': 90\n",
    "    }\n",
    "    hundreds = {\n",
    "        'сто': 100, 'двести': 200, 'триста': 300, 'четыреста': 400, 'пятьсот': 500,\n",
    "        'шестьсот': 600, 'семьсот': 700, 'восемьсот': 800, 'девятьсот': 900\n",
    "    }\n",
    "\n",
    "    # Разбиваем текст на слова\n",
    "    words = text.split()\n",
    "\n",
    "    # Инициализируем результат\n",
    "    result = 0\n",
    "    # Инициализируем переменную для хранения текущего числа сотен\n",
    "    current_hundreds = 0\n",
    "\n",
    "    for word in words:\n",
    "        # Проверяем, есть ли это слово в словаре сотен\n",
    "        if word in hundreds:\n",
    "            current_hundreds = hundreds[word]\n",
    "        # Проверяем, есть ли это слово в словаре чисел\n",
    "        elif word in numbers:\n",
    "            result += numbers[word]\n",
    "        else:\n",
    "            # Если слово не является числом или сотней, возможно это \"или\"\n",
    "            if word != 'и':\n",
    "                raise ValueError(\"Неверный формат числа\")\n",
    "    # Добавляем текущее значение сотен к результату\n",
    "    result += current_hundreds\n",
    "\n",
    "    return result\n",
    "\n",
    "i = input()\n",
    "to_int(i)"
   ]
  },
  {
   "cell_type": "markdown",
   "id": "85503c55",
   "metadata": {},
   "source": [
    "6.1) Написать калькулятор для строковых выражений вида '<число> <операция> <число>', где <число> - не отрицательное целое число меньшее 100, записанное словами, например \"тридцать четыре\", <арифмитическая операция> - одна из операций \"плюс\",\"минус\",\"умножить\". Результат выполнения операции вернуть в виде текстового представления числа. Пример calc('двадцать пять плюс тринадцать') -> \"тридцать восемь\""
   ]
  },
  {
   "cell_type": "code",
   "execution_count": 19,
   "id": "9f0b0785",
   "metadata": {},
   "outputs": [
    {
     "name": "stdout",
     "output_type": "stream",
     "text": [
      "два умножить на четыре\n"
     ]
    },
    {
     "data": {
      "text/plain": [
       "8"
      ]
     },
     "execution_count": 19,
     "metadata": {},
     "output_type": "execute_result"
    }
   ],
   "source": [
    "inp = input()\n",
    "def calc(n):\n",
    "    \n",
    "    r = n.split()\n",
    "    numb = to_int(r[0])\n",
    "    numb2 = to_int(r[-1])\n",
    "    \n",
    "    operations = {\n",
    "        'плюс': '+',\n",
    "        'минус': '-',\n",
    "        'умножить на': '*'\n",
    "    }\n",
    "    \n",
    "    op = ' '.join(r[1:-1])\n",
    "    \n",
    "    if op not in operations:\n",
    "        raise ValueError(\"Неверная операция\")\n",
    "    \n",
    "    operation_symbol = operations[op]\n",
    "    \n",
    "    result = eval(str(numb) + operation_symbol + str(numb2))\n",
    "    \n",
    "    return result\n",
    "\n",
    "calc(inp)"
   ]
  }
 ],
 "metadata": {
  "kernelspec": {
   "display_name": "Python 3 (ipykernel)",
   "language": "python",
   "name": "python3"
  },
  "language_info": {
   "codemirror_mode": {
    "name": "ipython",
    "version": 3
   },
   "file_extension": ".py",
   "mimetype": "text/x-python",
   "name": "python",
   "nbconvert_exporter": "python",
   "pygments_lexer": "ipython3",
   "version": "3.9.12"
  }
 },
 "nbformat": 4,
 "nbformat_minor": 5
}
