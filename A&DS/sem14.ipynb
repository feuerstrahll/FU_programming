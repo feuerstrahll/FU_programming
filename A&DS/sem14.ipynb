{
 "cells": [
  {
   "cell_type": "markdown",
   "id": "f41ce150",
   "metadata": {},
   "source": [
    "Написать 4 функции порождения списка целых значений: отсортированного (по возрастанию и убыванию), случайного и почти отсортированного по возрастанию. Каждая функция принимает длину списка в качестве аргумента"
   ]
  },
  {
   "cell_type": "code",
   "execution_count": 7,
   "id": "fab91e0d",
   "metadata": {},
   "outputs": [
    {
     "name": "stdout",
     "output_type": "stream",
     "text": [
      "After inc. of size 7 Lst: [34, 6, 2, 43, 7, 2, 9, 34, 65, 22, 44, 77, 5, 13]\n",
      "After inc. of size 3 Lst: [5, 6, 2, 9, 7, 2, 22, 13, 65, 34, 34, 77, 43, 44]\n",
      "After inc. of size 1 Lst: [2, 2, 5, 6, 7, 9, 13, 22, 34, 34, 43, 44, 65, 77]\n",
      "None\n",
      "[77, 65, 44, 43, 34, 34, 22, 13, 9, 7, 6, 5, 2, 2]\n"
     ]
    }
   ],
   "source": [
    "def gap_insertion_sort(a_list, start, gap):\n",
    "    for i in range(start + gap, len(a_list), gap):\n",
    "        current_value = a_list[i]\n",
    "        position = i\n",
    "        while position >= gap and a_list[position - gap] > current_value:\n",
    "            a_list[position] = a_list[position - gap]\n",
    "            position = position - gap\n",
    "            a_list[position] = current_value\n",
    "            \n",
    "def shell_sort(a_list):\n",
    "    sublist_count = len(a_list) // 2\n",
    "    while sublist_count > 0:\n",
    "        for start_position in range(sublist_count):\n",
    "            gap_insertion_sort(a_list, start_position, sublist_count)\n",
    "        print(\"After inc. of size\", sublist_count, \"Lst:\", a_list)\n",
    "        sublist_count = sublist_count // 2\n",
    "        \n",
    "def gap_insertion_sort_desc(a_list, start, gap):\n",
    "    for i in range(start + gap, len(a_list), gap):\n",
    "        current_value = a_list[i]\n",
    "        position = i\n",
    "        while position >= gap and a_list[position - gap] < current_value:\n",
    "            a_list[position] = a_list[position - gap]\n",
    "            position = position - gap\n",
    "            a_list[position] = current_value\n",
    "\n",
    "def shell_sort_desc(a_list):\n",
    "    sublist_count = len(a_list) // 2\n",
    "    while sublist_count > 0:\n",
    "        for start_position in range(sublist_count):\n",
    "            gap_insertion_sort_desc(a_list, start_position, sublist_count)\n",
    "        sublist_count = sublist_count // 2\n",
    "    return a_list\n",
    "        \n",
    "test_list = [34,6,2,43,77,2,13,34,65,22,44,7,5,9]\n",
    "print(shell_sort(test_list))\n",
    "print(shell_sort_desc(test_list))\n"
   ]
  },
  {
   "cell_type": "code",
   "execution_count": 23,
   "id": "a3aa9281",
   "metadata": {},
   "outputs": [
    {
     "name": "stdout",
     "output_type": "stream",
     "text": [
      "Sorted Array: [0, 1, 2, 3, 4, 5, 6]\n",
      "Random array: [34, 60, 59, 93, 76, 29, 73, 24, 46, 87, 3, 57, 2, 15]\n"
     ]
    }
   ],
   "source": [
    "import random\n",
    "\n",
    "def intnumbascF(ln):\n",
    "    l = [random.randint() for i in range(ln)]\n",
    "    l_sorted = sorted(l, reverse = False)\n",
    "    return l_sorted\n",
    "\n",
    "def intnumbascT(ln):\n",
    "    l = [random.randint(1, 100) for i in range(ln)]\n",
    "    l_sorted = sorted(l, reverse = True)\n",
    "    return l_sorted\n",
    "\n",
    "def randomnumb(ln):\n",
    "    l = [random.randint(1, 100) for i in range(len(ln))]\n",
    "    return l\n",
    "\n",
    "def insertion_sort_almost_sorted(arr):\n",
    "    for i in range(1, len(arr)):\n",
    "        key = arr[i]\n",
    "        j = i - 1\n",
    "        while j >= 0 and key < arr[j]:\n",
    "            arr[j + 1] = arr[j]\n",
    "            j -= 1\n",
    "        arr[j + 1] = key\n",
    "        \n",
    "    return arr\n",
    "\n",
    "            \n",
    "almost_sorted_array = [2, 1, 4, 3, 6, 5, 0]\n",
    "as_a = insertion_sort_almost_sorted(almost_sorted_array)\n",
    "r_s = randomnumb(test_list)\n",
    "print(\"Sorted Array:\", as_a)\n",
    "print(\"Random array:\", r_s)"
   ]
  },
  {
   "cell_type": "markdown",
   "id": "7b2de135",
   "metadata": {},
   "source": [
    "Реализовать функцию тестирования алгоритма сортировки. Процедура принимает на вход алгоритм сортировки и алгоритм порождения списка f_gen(list_len), генерирующий список заданной длины, количество повтороений теста и список длин использующихся для тестирования. Для каждой длины списка функция тестирования возвращает минимальное, среднее и наибольшее количество сравнений и перестановок."
   ]
  },
  {
   "cell_type": "code",
   "execution_count": 8,
   "id": "b7e9e3f2",
   "metadata": {},
   "outputs": [
    {
     "name": "stdout",
     "output_type": "stream",
     "text": [
      "time: [0.0, 0.0, 0.0]\n",
      "time: [0.0, 0.0, 0.0]\n",
      "time: [0.0, 0.0, 0.0]\n",
      "time: [0.0, 0.0, 0.0]\n",
      "{'List Length': 5, 'Min Comparisons': 2, 'Avg Comparisons': 4.333333333333333, 'Max Comparisons': 7, 'Min Swaps': 2, 'Avg Swaps': 4.333333333333333, 'Max Swaps': 7, 'Min Elapsed Time': 0.0, 'Avg Elapsed Time': 0.0, 'Max Elapsed Time': 0.0}\n",
      "{'List Length': 9, 'Min Comparisons': 11, 'Avg Comparisons': 17.666666666666668, 'Max Comparisons': 22, 'Min Swaps': 11, 'Avg Swaps': 17.666666666666668, 'Max Swaps': 22, 'Min Elapsed Time': 0.0, 'Avg Elapsed Time': 0.0, 'Max Elapsed Time': 0.0}\n",
      "{'List Length': 15, 'Min Comparisons': 39, 'Avg Comparisons': 49, 'Max Comparisons': 55, 'Min Swaps': 39, 'Avg Swaps': 49, 'Max Swaps': 55, 'Min Elapsed Time': 0.0, 'Avg Elapsed Time': 0.0, 'Max Elapsed Time': 0.0}\n",
      "{'List Length': 20, 'Min Comparisons': 65, 'Avg Comparisons': 79.33333333333333, 'Max Comparisons': 99, 'Min Swaps': 65, 'Avg Swaps': 79.33333333333333, 'Max Swaps': 99, 'Min Elapsed Time': 0.0, 'Avg Elapsed Time': 0.0, 'Max Elapsed Time': 0.0}\n"
     ]
    }
   ],
   "source": [
    "import random\n",
    "import time\n",
    "import statistics\n",
    "\n",
    "def f_gen(list_len):\n",
    "    l = [random.randint(1, 100) for i in range(list_len)]\n",
    "    return l\n",
    "\n",
    "def insertion_sort(a_list):\n",
    "    comparisons_count = 0\n",
    "    swaps_count = 0\n",
    "\n",
    "    for index in range(1, len(a_list)):\n",
    "        current_value = a_list[index]\n",
    "        position = index\n",
    "        while position > 0 and a_list[position - 1] > current_value:\n",
    "            comparisons_count += 1\n",
    "            swaps_count += 1\n",
    "            a_list[position] = a_list[position - 1]\n",
    "            position -= 1\n",
    "        a_list[position] = current_value\n",
    "\n",
    "    return comparisons_count, swaps_count\n",
    "\n",
    "def testing(sort_algorithm, list_generator, repetitions, list_lengths):\n",
    "    results = []\n",
    "\n",
    "    for length in list_lengths:\n",
    "        comparisons_list = []\n",
    "        swaps_list = []\n",
    "        elapsed_times = []\n",
    "\n",
    "        for _ in range(repetitions):\n",
    "            test_list = list_generator(length)\n",
    "\n",
    "            start_time = time.time()\n",
    "            comparisons, swaps = sort_algorithm(test_list.copy())\n",
    "            end_time = time.time()\n",
    "\n",
    "            comparisons_list.append(comparisons)\n",
    "            swaps_list.append(swaps)\n",
    "            elapsed_times.append(end_time - start_time)\n",
    "            \n",
    "        print('time:', elapsed_times)\n",
    "\n",
    "        calculate_stats = lambda data: (min(data), statistics.mean(data), max(data))\n",
    "\n",
    "        min_comparisons, avg_comparisons, max_comparisons = calculate_stats(comparisons_list)\n",
    "        min_swaps, avg_swaps, max_swaps = calculate_stats(swaps_list)\n",
    "        min_elapsed_time, avg_elapsed_time, max_elapsed_time = calculate_stats(elapsed_times)\n",
    "\n",
    "        results.append({\n",
    "            'List Length': length,\n",
    "            'Min Comparisons': min_comparisons,\n",
    "            'Avg Comparisons': avg_comparisons,\n",
    "            'Max Comparisons': max_comparisons,\n",
    "            'Min Swaps': min_swaps,\n",
    "            'Avg Swaps': avg_swaps,\n",
    "            'Max Swaps': max_swaps,\n",
    "            'Min Elapsed Time': min_elapsed_time,\n",
    "            'Avg Elapsed Time': avg_elapsed_time,\n",
    "            'Max Elapsed Time': max_elapsed_time\n",
    "        })\n",
    "\n",
    "    return results\n",
    "    \n",
    "lens_of_lists = [5, 9, 15, 20]\n",
    "repetitions = 3\n",
    "t = testing(insertion_sort, f_gen, repetitions, lens_of_lists)\n",
    "\n",
    "for result in t:\n",
    "    print(result)"
   ]
  },
  {
   "cell_type": "markdown",
   "id": "7386830b",
   "metadata": {},
   "source": [
    "Реализовать модификацию сортировки пузырьком: \"камешек-пузырек\" - с чередующимися проходами, приводящими к \"всплытию\" самого большого значения списка и \"погружению\" самого маленького значения из неотсортированной части списка."
   ]
  },
  {
   "cell_type": "code",
   "execution_count": 10,
   "id": "40da653f",
   "metadata": {},
   "outputs": [
    {
     "name": "stdout",
     "output_type": "stream",
     "text": [
      "Исходный массив: [64, 34, 25, 12, 22, 11, 90]\n",
      "Отсортированный массив (камешек-пузырек): [11, 12, 22, 25, 34, 64, 90]\n"
     ]
    }
   ],
   "source": [
    "def bubblestone_sort(a_list):\n",
    "    ln = len(a_list)\n",
    "    \n",
    "    for i in range(ln//2): # делим список пополам, чтобы проходиться с чередованием нахад и вперед\n",
    "        for j in range(0, ln - i - 1): # проход слева\n",
    "            if a_list[j] > a_list[j+1]:\n",
    "                a_list[j], a_list[j+1] = a_list[j+1], a_list[j]\n",
    "        for k in range(ln - 2 - i, i, -1): # проход справа, вичитаем 2, потому что не сравниваем последнее(наибольшее) число в списке и предыдущее \n",
    "            if a_list[k] < a_list[k-1]:\n",
    "                a_list[k], a_list[k-1] = a_list[k-1], a_list[k]\n",
    "        \n",
    "    return a_list\n",
    "\n",
    "l = [64, 34, 25, 12, 22, 11, 90]\n",
    "sorted_arr = bubblestone_sort(l.copy())\n",
    "print(\"Исходный массив:\", l)\n",
    "print(\"Отсортированный массив (камешек-пузырек):\", sorted_arr)\n"
   ]
  },
  {
   "cell_type": "markdown",
   "id": "eff399d6",
   "metadata": {},
   "source": [
    "Протестировать алгоритм \"пузырек\" и \"камешек-пузырек\" на разных типах списков"
   ]
  },
  {
   "cell_type": "code",
   "execution_count": 22,
   "id": "8065d78c",
   "metadata": {},
   "outputs": [
    {
     "name": "stdout",
     "output_type": "stream",
     "text": [
      "Время выполнения сортировки пузырьком на списке длиной 10 - 0.0, время выполенения сортровки пузырьком камешком на списке - 0.0\n",
      "Время выполнения сортировки пузырьком на списке длиной 25 - 0.0, время выполенения сортровки пузырьком камешком на списке - 0.0\n",
      "Время выполнения сортировки пузырьком на списке длиной 50 - 0.0, время выполенения сортровки пузырьком камешком на списке - 0.0\n"
     ]
    }
   ],
   "source": [
    "import time\n",
    "\n",
    "def bubble_sort(a_list):\n",
    "    for pass_num in range(len(a_list) - 1, 0, -1):\n",
    "        flag = False\n",
    "        for i in range(pass_num):\n",
    "            if a_list[i] > a_list[i + 1]:\n",
    "                temp = a_list[i]\n",
    "                a_list[i] = a_list[i + 1]\n",
    "                a_list[i + 1] = temp\n",
    "                flag = True\n",
    "        if not flag:\n",
    "            return a_list\n",
    "        \n",
    "def bubblestone_sort(a_list):\n",
    "    ln = len(a_list)\n",
    "    \n",
    "    for i in range(ln//2): # делим список пополам, чтобы проходиться с чередованием нахад и вперед\n",
    "        for j in range(0, ln - i - 1): # проход слева\n",
    "            if a_list[j] > a_list[j+1]:\n",
    "                a_list[j], a_list[j+1] = a_list[j+1], a_list[j]\n",
    "        for k in range(ln - 2 - i, i, -1): # проход справа, вичитаем 2, потому что не сравниваем последнее(наибольшее) число в списке и предыдущее \n",
    "            if a_list[k] < a_list[k-1]:\n",
    "                a_list[k], a_list[k-1] = a_list[k-1], a_list[k]\n",
    "        \n",
    "    return a_list\n",
    "\n",
    "def f_gen(list_len):\n",
    "    l = [random.randint(1, 100) for i in range(list_len)]\n",
    "    return l\n",
    "\n",
    "l = []\n",
    "sp1 = f_gen(10)\n",
    "sp2 = f_gen(25)\n",
    "sp3 = f_gen(50)\n",
    "l.append([sp1,sp2,sp3])\n",
    "\n",
    "\n",
    "for lst in l:\n",
    "    for i in lst:\n",
    "        start_time = time.time()\n",
    "        bubble_sort(i)\n",
    "        end_time = time.time()\n",
    "        tm = start_time - end_time\n",
    "        start_t = time.time()\n",
    "        bubblestone_sort(i)\n",
    "        end_time = time.time()\n",
    "        tm2 = start_time - end_time\n",
    "        print(f'Время выполнения сортировки пузырьком на списке длиной {len(i)} - {tm}, время выполенения сортровки пузырьком камешком на списке - {tm2}')"
   ]
  },
  {
   "cell_type": "markdown",
   "id": "adcc63f0",
   "metadata": {},
   "source": [
    "Реализовать модификацию сортировки выбором на основе выбора из подсписков (описанного в лекции). Протестировать алгоритм"
   ]
  },
  {
   "cell_type": "code",
   "execution_count": 43,
   "id": "a8c3a8d8",
   "metadata": {},
   "outputs": [
    {
     "name": "stdout",
     "output_type": "stream",
     "text": [
      "Отсортированный массив (улучшенный вариант): [80, 75, 90, 22, 25, 12, 0, 11, 5]\n"
     ]
    }
   ],
   "source": [
    "import math\n",
    "\n",
    "def sqrt_insertion_sort(a_list):\n",
    "    n = len(a_list)\n",
    "    group_size = int(math.sqrt(n))\n",
    "\n",
    "    for start in range(group_size, n, group_size):\n",
    "        # Сортировка вставками внутри каждой группы\n",
    "        for i in range(start, min(start + group_size, n)):\n",
    "            current_value = a_list[i]\n",
    "            j = i - group_size\n",
    "\n",
    "            while j >= 0 and a_list[j] < current_value:\n",
    "                a_list[j + group_size] = a_list[j]\n",
    "                j -= group_size\n",
    "\n",
    "            a_list[j + group_size] = current_value\n",
    "\n",
    "    return a_list\n",
    "\n",
    "unsorted_list = [0, 25, 12, 22, 11, 90, 80, 75, 5]\n",
    "sorted_list = sqrt_insertion_sort(unsorted_list.copy())\n",
    "print(\"Отсортированный массив (улучшенный вариант):\", sorted_list)"
   ]
  },
  {
   "cell_type": "markdown",
   "id": "a69d05fe",
   "metadata": {},
   "source": [
    "Реализовать быструю сортировку с возможностью подсчета операций. Сравнить производительность алгоритма на случайных и упорядоченных (и почти упорядоченных) данных"
   ]
  },
  {
   "cell_type": "code",
   "execution_count": null,
   "id": "28ba6a47",
   "metadata": {},
   "outputs": [
    {
     "name": "stdout",
     "output_type": "stream",
     "text": [
      "Случайные данные - размер: 100, время: 0.000000с, Сравнения: 665, Перестановки: 163\n",
      "Упорядоченные данные - размер: 100, время: 0.000000s, Сравнения: 4894, Перестановки: 96\n",
      "Почти упорядоченные данные - размер: 100, время: 0.000000s, Сравнения: 4950, Перестановки: 99\n",
      "None \n",
      "\n",
      "\n",
      "Случайные данные - размер: 1000, время: 0.003001с, Сравнения: 10744, Перестановки: 2368\n",
      "Упорядоченные данные - размер: 1000, время: 0.047740s, Сравнения: 308891, Перестановки: 720\n",
      "Почти упорядоченные данные - размер: 1000, время: 0.063846s, Сравнения: 499500, Перестановки: 999\n",
      "None \n",
      "\n",
      "\n",
      "Случайные данные - размер: 4000, время: 0.015627с, Сравнения: 57378, Перестановки: 10915\n",
      "Упорядоченные данные - размер: 4000, время: 0.285474s, Сравнения: 1973941, Перестановки: 3086\n"
     ]
    }
   ],
   "source": [
    "import random\n",
    "import time\n",
    "\n",
    "def quick_sort(a_list):\n",
    "    comparisons = [0]  # Счетчик сравнений\n",
    "    swaps = [0]       # Счетчик обменов\n",
    "    quick_sort_helper(a_list, 0, len(a_list) - 1, comparisons, swaps)\n",
    "    return a_list, comparisons[0], swaps[0]\n",
    "\n",
    "def quick_sort_helper(a_list, first, last, comparisons, swaps):\n",
    "    if first < last:\n",
    "        split_point = partition(a_list, first, last, comparisons, swaps)\n",
    "        quick_sort_helper(a_list, first, split_point - 1, comparisons, swaps)\n",
    "        quick_sort_helper(a_list, split_point + 1, last, comparisons, swaps)\n",
    "\n",
    "def partition(a_list, first, last, comparisons, swaps):\n",
    "    pivot_value = a_list[first]\n",
    "    left_mark = first + 1\n",
    "    right_mark = last\n",
    "    done = False\n",
    "\n",
    "    while not done:\n",
    "        while left_mark <= right_mark and a_list[left_mark] <= pivot_value:\n",
    "            left_mark += 1\n",
    "            comparisons[0] += 1  # Увеличиваем счетчик сравнений\n",
    "\n",
    "        while a_list[right_mark] >= pivot_value and right_mark >= left_mark:\n",
    "            right_mark -= 1\n",
    "            comparisons[0] += 1  # Увеличиваем счетчик сравнений\n",
    "\n",
    "        if right_mark < left_mark:\n",
    "            done = True\n",
    "        else:\n",
    "            # Обмен элементов\n",
    "            a_list[left_mark], a_list[right_mark] = a_list[right_mark], a_list[left_mark]\n",
    "            swaps[0] += 1  # Увеличиваем счетчик обменов\n",
    "\n",
    "    # Обмен опорного элемента\n",
    "    a_list[first], a_list[right_mark] = a_list[right_mark], a_list[first]\n",
    "    swaps[0] += 1  # Увеличиваем счетчик обменов\n",
    "\n",
    "    return right_mark\n",
    "\n",
    "def test_quick_sort_performance(size):\n",
    "    # Генерация случайного списка\n",
    "    random_list = [random.randint(1, 1000) for _ in range(size)]\n",
    "    \n",
    "    # Тестирование на случайных данных\n",
    "    start_time = time.time()\n",
    "    sorted_list, comparisons, swaps = quick_sort(random_list.copy())\n",
    "    end_time = time.time()\n",
    "    print(f\"Случайные данные - размер: {size}, время: {end_time - start_time:.6f}с, Сравнения: {comparisons}, Перестановки: {swaps}\")\n",
    "\n",
    "    # Генерация упорядоченного списка\n",
    "    ordered_list = sorted(random_list)\n",
    "    \n",
    "    # Тестирование на упорядоченных данных\n",
    "    start_time = time.time()\n",
    "    sorted_list, comparisons, swaps = quick_sort(ordered_list.copy())\n",
    "    end_time = time.time()\n",
    "    print(f\"Упорядоченные данные - размер: {size}, время: {end_time - start_time:.6f}s, Сравнения: {comparisons}, Перестановки: {swaps}\")\n",
    "\n",
    "    # Генерация почти упорядоченного списка\n",
    "    almost_ordered_list = random_list.copy()\n",
    "    almost_ordered_list.sort(reverse=True)\n",
    "    \n",
    "    # Тестирование на почти упорядоченных данных\n",
    "    start_time = time.time()\n",
    "    sorted_list, comparisons, swaps = quick_sort(almost_ordered_list.copy())\n",
    "    end_time = time.time()\n",
    "    print(f\"Почти упорядоченные данные - размер: {size}, время: {end_time - start_time:.6f}s, Сравнения: {comparisons}, Перестановки: {swaps}\")\n",
    "\n",
    "\n",
    "# Тестирование производительности для разных размеров данных\n",
    "print(test_quick_sort_performance(100), '\\n\\n')\n",
    "print(test_quick_sort_performance(1000), '\\n\\n')\n",
    "print(test_quick_sort_performance(4000), '\\n\\n')"
   ]
  },
  {
   "cell_type": "markdown",
   "id": "243e518e",
   "metadata": {},
   "source": [
    "Улучшить работу быстрой сортировки на упорядоченных и почти упорядоченных за счет изменения алгоритма выбора элемента для разделения массива."
   ]
  },
  {
   "cell_type": "code",
   "execution_count": 6,
   "id": "e939dcfe",
   "metadata": {
    "scrolled": true
   },
   "outputs": [
    {
     "name": "stdout",
     "output_type": "stream",
     "text": [
      "Случайные данные - размер: 100, время: 0.000000с, Сравнения: 624, Перестановки: 163\n",
      "Упорядоченные данные - размер: 100, время: 0.000000s, Сравнения: 606, Перестановки: 65\n",
      "Почти упорядоченные данные - размер: 100, время: 0.000000s, Сравнения: 589, Перестановки: 118\n",
      "None \n",
      "\n",
      "\n",
      "Случайные данные - размер: 1000, время: 0.000000с, Сравнения: 11314, Перестановки: 2314\n",
      "Упорядоченные данные - размер: 1000, время: 0.000000s, Сравнения: 12272, Перестановки: 725\n",
      "Почти упорядоченные данные - размер: 1000, время: 0.000000s, Сравнения: 11067, Перестановки: 1183\n",
      "None \n",
      "\n",
      "\n",
      "Случайные данные - размер: 4000, время: 0.016239с, Сравнения: 55457, Перестановки: 10836\n",
      "Упорядоченные данные - размер: 4000, время: 0.015924s, Сравнения: 61912, Перестановки: 3350\n",
      "Почти упорядоченные данные - размер: 4000, время: 0.014014s, Сравнения: 59902, Перестановки: 5039\n",
      "None \n",
      "\n",
      "\n"
     ]
    }
   ],
   "source": [
    "import random\n",
    "import time\n",
    "\n",
    "\n",
    "def partition(a_list, first, last, comparisons, swaps):\n",
    "    pivot_value = a_list[first]\n",
    "    left_mark = first + 1\n",
    "    right_mark = last\n",
    "    done = False\n",
    "\n",
    "    while not done:\n",
    "        while left_mark <= right_mark and a_list[left_mark] <= pivot_value:\n",
    "            left_mark += 1\n",
    "            comparisons[0] += 1  # Увеличиваем счетчик сравнений\n",
    "\n",
    "        while a_list[right_mark] >= pivot_value and right_mark >= left_mark:\n",
    "            right_mark -= 1\n",
    "            comparisons[0] += 1  # Увеличиваем счетчик сравнений\n",
    "\n",
    "        if right_mark < left_mark:\n",
    "            done = True\n",
    "        else:\n",
    "            # Обмен элементов\n",
    "            a_list[left_mark], a_list[right_mark] = a_list[right_mark], a_list[left_mark]\n",
    "            swaps[0] += 1  # Увеличиваем счетчик обменов\n",
    "\n",
    "    # Обмен опорного элемента\n",
    "    a_list[first], a_list[right_mark] = a_list[right_mark], a_list[first]\n",
    "    swaps[0] += 1  # Увеличиваем счетчик обменов\n",
    "\n",
    "    return right_mark\n",
    "\n",
    "def quick_sort_helper2(a_list, first, last, comparisons, swaps):\n",
    "    if first < last:\n",
    "        # Измененный блок выбора опорного элемента\n",
    "        pivot_index = random.randint(first, last)\n",
    "        a_list[first], a_list[pivot_index] = a_list[pivot_index], a_list[first]\n",
    "        # Конец измененного блока выбора опорного элемента\n",
    "        \n",
    "        split_point = partition(a_list, first, last, comparisons, swaps)\n",
    "        quick_sort_helper2(a_list, first, split_point - 1, comparisons, swaps)\n",
    "        quick_sort_helper2(a_list, split_point + 1, last, comparisons, swaps)\n",
    "        \n",
    "def quick_sort2(a_list):\n",
    "    comparisons = [0]  # Счетчик сравнений\n",
    "    swaps = [0]       # Счетчик обменов\n",
    "    quick_sort_helper2(a_list, 0, len(a_list) - 1, comparisons, swaps)\n",
    "    return a_list, comparisons[0], swaps[0]\n",
    "\n",
    "def test_quick_sort_performance2(size):\n",
    "    # Генерация случайного списка\n",
    "    random_list = [random.randint(1, 1000) for _ in range(size)]\n",
    "    \n",
    "    # Тестирование на случайных данных\n",
    "    start_time = time.time()\n",
    "    sorted_list, comparisons, swaps = quick_sort2(random_list.copy())\n",
    "    end_time = time.time()\n",
    "    print(f\"Случайные данные - размер: {size}, время: {end_time - start_time:.6f}с, Сравнения: {comparisons}, Перестановки: {swaps}\")\n",
    "\n",
    "    # Генерация упорядоченного списка\n",
    "    ordered_list = sorted(random_list)\n",
    "    \n",
    "    # Тестирование на упорядоченных данных\n",
    "    start_time = time.time()\n",
    "    sorted_list, comparisons, swaps = quick_sort2(ordered_list.copy())\n",
    "    end_time = time.time()\n",
    "    print(f\"Упорядоченные данные - размер: {size}, время: {end_time - start_time:.6f}s, Сравнения: {comparisons}, Перестановки: {swaps}\")\n",
    "\n",
    "    # Генерация почти упорядоченного списка\n",
    "    almost_ordered_list = random_list.copy()\n",
    "    almost_ordered_list.sort(reverse=True)\n",
    "    \n",
    "    # Тестирование на почти упорядоченных данных\n",
    "    start_time = time.time()\n",
    "    sorted_list, comparisons, swaps = quick_sort2(almost_ordered_list.copy())\n",
    "    end_time = time.time()\n",
    "    print(f\"Почти упорядоченные данные - размер: {size}, время: {end_time - start_time:.6f}s, Сравнения: {comparisons}, Перестановки: {swaps}\")\n",
    "\n",
    "        \n",
    "print(test_quick_sort_performance2(100),'\\n\\n')\n",
    "print(test_quick_sort_performance2(1000), '\\n\\n')\n",
    "print(test_quick_sort_performance2(4000), '\\n\\n')"
   ]
  },
  {
   "cell_type": "markdown",
   "id": "743b168d",
   "metadata": {},
   "source": [
    "Реализовать эффективный алгоритм получения из большого количества отсортированных списков одного отсортированного списка."
   ]
  },
  {
   "cell_type": "code",
   "execution_count": 8,
   "id": "211e01dd",
   "metadata": {},
   "outputs": [
    {
     "name": "stdout",
     "output_type": "stream",
     "text": [
      "[0, 1, 2, 3, 4, 5, 6, 7, 8]\n"
     ]
    }
   ],
   "source": [
    "import heapq\n",
    "\n",
    "def merge_sorted_lists(lists):\n",
    "    merged_list = []\n",
    "    heap = []\n",
    "\n",
    "    # Начальное заполнение кучи парами (значение, индекс элемента)\n",
    "    for i, lst in enumerate(lists):\n",
    "        if lst:\n",
    "            heapq.heappush(heap, (lst[0], i, 0))\n",
    "\n",
    "    while heap:\n",
    "        val, list_idx, idx = heapq.heappop(heap)\n",
    "        merged_list.append(val)\n",
    "\n",
    "        # Если в списке еще остались элементы, добавляем следующий минимальный\n",
    "        if idx + 1 < len(lists[list_idx]):\n",
    "            next_val = lists[list_idx][idx + 1]\n",
    "            heapq.heappush(heap, (next_val, list_idx, idx + 1))\n",
    "\n",
    "    return merged_list\n",
    "\n",
    "# Пример использования\n",
    "lists = [\n",
    "    [1, 3, 5],\n",
    "    [2, 4, 6],\n",
    "    [0, 7, 8]\n",
    "]\n",
    "\n",
    "print(merge_sorted_lists(lists))\n"
   ]
  },
  {
   "cell_type": "markdown",
   "id": "ee4167df",
   "metadata": {},
   "source": [
    "Модифицировать последовательность длин шагов в сортировке Шелла. 19) Модифицировать последовательность длин шагов в сортировке Шелла.\n",
    "На 2[𝑛/2𝑘+1]+1\n"
   ]
  },
  {
   "cell_type": "code",
   "execution_count": 12,
   "id": "d158da50",
   "metadata": {},
   "outputs": [
    {
     "name": "stdout",
     "output_type": "stream",
     "text": [
      "Последовательность длин шагов в сортировке Шелла: [21, 13, 9, 5, 3]\n"
     ]
    }
   ],
   "source": [
    "def shell_gaps(n):\n",
    "    gaps = []\n",
    "    k = 0\n",
    "    gap = 2 * (n // (2**k + 1)) + 1\n",
    "    while gap > 0:\n",
    "        gaps.append(gap)\n",
    "        k += 1\n",
    "        gap = 2 * (n // (2**k + 1)) + 1 if 2**k + 1 < n else 0\n",
    "    return gaps\n",
    "\n",
    "# Пример использования\n",
    "n = 20 # Размер списка\n",
    "gaps = shell_gaps(n)\n",
    "print(\"Последовательность длин шагов в сортировке Шелла:\", gaps)"
   ]
  },
  {
   "cell_type": "code",
   "execution_count": null,
   "id": "569aa7e1",
   "metadata": {},
   "outputs": [],
   "source": []
  }
 ],
 "metadata": {
  "kernelspec": {
   "display_name": "Python 3 (ipykernel)",
   "language": "python",
   "name": "python3"
  },
  "language_info": {
   "codemirror_mode": {
    "name": "ipython",
    "version": 3
   },
   "file_extension": ".py",
   "mimetype": "text/x-python",
   "name": "python",
   "nbconvert_exporter": "python",
   "pygments_lexer": "ipython3",
   "version": "3.9.12"
  }
 },
 "nbformat": 4,
 "nbformat_minor": 5
}
