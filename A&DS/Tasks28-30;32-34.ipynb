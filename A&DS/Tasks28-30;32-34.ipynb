{
 "cells": [
  {
   "cell_type": "markdown",
   "id": "cff791e9",
   "metadata": {},
   "source": [
    "### Вариант 4"
   ]
  },
  {
   "cell_type": "markdown",
   "id": "f6313ebc",
   "metadata": {},
   "source": [
    "а) Используя лямбда-функцию, отсортировать список словарей. Пример: [{'make': 'Nokia', 'model': 216, 'color': 'Black'}, {'make': 'Mi Max', 'model': '2', 'color': 'Gold'}, {'make': 'Samsung', 'model': 7, 'color': 'Blue'}] → [{'make': 'Nokia', 'model': 216, 'color': 'Black'}, {'make': 'Samsung', 'model': 7, 'color': 'Blue'}, {'make': 'Mi Max', 'model': '2', 'color': 'Gold'}].\n",
    "б) Найти все анаграммы в заданном списке строк с помощью лямбда- функции. Пример: 'abcd', ['bcda', 'abce', 'cbda', 'cbea', 'adcb'] → ['bcda', 'cbda', 'adcb'].\n",
    "в) Напишите программу для сортировки заданного смешанного списка целых чисел и строк с помощью лямбда-функции. Числа должны быть отсортированы перед строками. Пример: [19, 'red', 12, 'green', 'blue', 10, 'white', 'green', 1] → [1, 10, 12, 19, 'blue', 'green', 'green', 'red', 'white']."
   ]
  },
  {
   "cell_type": "code",
   "execution_count": 33,
   "id": "b6bb0b8d",
   "metadata": {},
   "outputs": [
    {
     "data": {
      "text/plain": [
       "[{'make': 'Nokia', 'model': 216, 'color': 'Black'},\n",
       " {'make': 'Samsung', 'model': 7, 'color': 'Blue'},\n",
       " {'make': 'Mi Max', 'model': '2', 'color': 'Gold'}]"
      ]
     },
     "execution_count": 33,
     "metadata": {},
     "output_type": "execute_result"
    }
   ],
   "source": [
    "'''пункт а'''\n",
    "\n",
    "lst =  [{'make': 'Nokia', 'model': 216, 'color': 'Black'}, {'make': 'Mi Max', 'model': '2', 'color': 'Gold'}, {'make': 'Samsung', 'model': 7, 'color': 'Blue'}]\n",
    "sorted_list = sorted(lst, key=lambda x: int(x['model']), reverse = True) \n",
    "sorted_list"
   ]
  },
  {
   "cell_type": "code",
   "execution_count": 15,
   "id": "85f0e729",
   "metadata": {},
   "outputs": [
    {
     "data": {
      "text/plain": [
       "['bcda', 'cbda', 'adcb']"
      ]
     },
     "execution_count": 15,
     "metadata": {},
     "output_type": "execute_result"
    }
   ],
   "source": [
    "'''пункт б'''\n",
    "\n",
    "def find_anagrams(string):\n",
    "    \n",
    "    initial = string[0]\n",
    "    for_find = string[1]\n",
    "    i_splitted = [elem for elem in initial]\n",
    "    final_list = []\n",
    "    \n",
    "    return list(filter(lambda word: set(word) == set(initial), for_find))\n",
    "    \n",
    "s =  'abcd', ['bcda', 'abce', 'cbda', 'cbea', 'adcb'] \n",
    "find_anagrams(s)\n",
    "\n"
   ]
  },
  {
   "cell_type": "code",
   "execution_count": 21,
   "id": "daa5b031",
   "metadata": {},
   "outputs": [
    {
     "data": {
      "text/plain": [
       "[1, 10, 12, 19, 'blue', 'green', 'green', 'red', 'white']"
      ]
     },
     "execution_count": 21,
     "metadata": {},
     "output_type": "execute_result"
    }
   ],
   "source": [
    "'''пункт в'''\n",
    "\n",
    "def sort_mix(s):\n",
    "    numbs = []\n",
    "    words = []\n",
    "    processing = [numbs.append(elem) if type(elem) == int else words.append(elem) for elem in s]\n",
    "    sorted_numbs = sorted(numbs, reverse=False)\n",
    "    sorted_words = sorted(words)\n",
    "    return sorted_numbs + sorted_words\n",
    "    \n",
    "s =  [19, 'red', 12, 'green', 'blue', 10, 'white', 'green', 1]\n",
    "sort_mix(s)"
   ]
  },
  {
   "cell_type": "code",
   "execution_count": 22,
   "id": "f0289d99",
   "metadata": {},
   "outputs": [
    {
     "data": {
      "text/plain": [
       "[1, 10, 12, 19, 'blue', 'green', 'green', 'red', 'white']"
      ]
     },
     "execution_count": 22,
     "metadata": {},
     "output_type": "execute_result"
    }
   ],
   "source": [
    "'''пункт в. вариант 2'''\n",
    "\n",
    "def sort_mix_2(s):\n",
    "    sorted_numbs = sorted([elem for elem in s if isinstance(elem, int)], reverse=False)\n",
    "    sorted_words = sorted([elem for elem in s if isinstance(elem, str)])\n",
    "    return sorted_numbs + sorted_words\n",
    "\n",
    "s =  [19, 'red', 12, 'green', 'blue', 10, 'white', 'green', 1]\n",
    "sort_mix_2(s)"
   ]
  },
  {
   "cell_type": "markdown",
   "id": "703a39d6",
   "metadata": {},
   "source": [
    "а) Сложите два заданных списка и найдите разницу между ними, используя функцию map(). Пример: [6, 5, 3, 9], [0, 1, 7, 7] → [(6, 6), (6, 4), (10, –4), (16, 2)].\n",
    "б) Сгенерировать список целых чисел. С помощью функции filter() выбрать из списка все четные числа и упорядочить их по возрастанию. Используя функцию reduce(), найти их сумму."
   ]
  },
  {
   "cell_type": "code",
   "execution_count": 38,
   "id": "159cc8b3",
   "metadata": {},
   "outputs": [
    {
     "data": {
      "text/plain": [
       "[(6, 6), (6, 4), (10, -4), (16, 2)]"
      ]
     },
     "execution_count": 38,
     "metadata": {},
     "output_type": "execute_result"
    }
   ],
   "source": [
    "'''пункт а'''\n",
    "\n",
    "sp =  [6, 5, 3, 9], [0, 1, 7, 7] \n",
    "\n",
    "def sum_diff(s):\n",
    "    res = list(map(lambda x, y: (x+y, x-y), s[0], s[1]))\n",
    "    return res\n",
    "\n",
    "sum_diff(sp)"
   ]
  },
  {
   "cell_type": "code",
   "execution_count": 29,
   "id": "ccf19330",
   "metadata": {},
   "outputs": [
    {
     "data": {
      "text/plain": [
       "'[66, 79, 28, 79, 24, 29, 46, 8, 86, 7] - исходный список рандомных чисел, [8, 24, 28, 46, 66, 86] - полученный отсортированный список'"
      ]
     },
     "execution_count": 29,
     "metadata": {},
     "output_type": "execute_result"
    }
   ],
   "source": [
    "'''пункт б'''\n",
    "import random  \n",
    "from functools import reduce\n",
    "\n",
    "def numb_processing():\n",
    "    random_numbers = [random.randint(1, 101) for _ in range(10)]\n",
    "    processed = sorted(list(filter(lambda numb: numb%2 == 0 , random_numbers)), reverse = False)\n",
    "    return f'{random_numbers} - исходный список рандомных чисел, {processed} - полученный отсортированный список'\n",
    "\n",
    "numb_processing()"
   ]
  },
  {
   "cell_type": "markdown",
   "id": "6ed5bb8f",
   "metadata": {},
   "source": [
    "а) Создайте декоратор, который будет выводить на экран имя функции и модуль, где она определена.\n",
    "б) Создайте декоратор, который будет принимать несколько аргументов и передавать их в функцию в качестве ключевых параметров с заданными значениями по умолчанию."
   ]
  },
  {
   "cell_type": "code",
   "execution_count": 40,
   "id": "91159aca",
   "metadata": {},
   "outputs": [
    {
     "name": "stdout",
     "output_type": "stream",
     "text": [
      "Функция 'greetings' из модуля '__main__'\n",
      "Приветик\n"
     ]
    }
   ],
   "source": [
    "'''пункт а'''\n",
    "\n",
    "import functools\n",
    "\n",
    "def print_func_details(func):\n",
    "    @functools.wraps(func)\n",
    "    def wrapper(*args, **kwargs):\n",
    "        print(f\"Функция '{func.__name__}' из модуля '{func.__module__}'\")\n",
    "        return func(*args, **kwargs)\n",
    "    return wrapper\n",
    "\n",
    "#Применим декоратор к функции:\n",
    "\n",
    "@print_func_details\n",
    "def greetings():\n",
    "    print(\"Приветик\")\n",
    "\n",
    "#Вызовем функцию greеtings:\n",
    "greetings()\n"
   ]
  },
  {
   "cell_type": "markdown",
   "id": "7df764b5",
   "metadata": {},
   "source": [
    "Используя модуль array и библиотеку numpy, решить следующие задачи:\n",
    "а) Дано число  R  и массив размера  N . Найти два соседних элемента массива, сумма которых наиболее близка к числу  R , и вывести эти элементы в порядке возрастания их индексов.\n",
    "б) Дана целочисленная матрица размера  M×N . Найти номер первого из ее столбцов, содержащих максимальное количество одинаковых элементов."
   ]
  },
  {
   "cell_type": "code",
   "execution_count": 17,
   "id": "7f1ff921",
   "metadata": {},
   "outputs": [
    {
     "name": "stdout",
     "output_type": "stream",
     "text": [
      "Наиболее близкая к 20 сумма пары: 10 и 11\n"
     ]
    }
   ],
   "source": [
    "import numpy as np\n",
    "\n",
    "def find_nearest_sum_pair(arr, R):\n",
    "    if len(arr) < 2:\n",
    "        return \"Массив должен содержать как минимум два элемента\"\n",
    "\n",
    "    nearest_sum = arr[0] + arr[1]  # Инициализируем ближайшую сумму суммой первой пары элементов\n",
    "    nearest_pair = (arr[0], arr[1])  # А ближайшую пару - первой парой элементов\n",
    "\n",
    "    for i in range(1, len(arr) - 1):\n",
    "        current_sum = arr[i] + arr[i + 1]\n",
    "        if abs(R - current_sum) < abs(R - nearest_sum):\n",
    "            nearest_sum = current_sum\n",
    "            nearest_pair = (arr[i], arr[i + 1])\n",
    "\n",
    "    return nearest_pair\n",
    "\n",
    "R = 20\n",
    "N = np.array([2, 4, 5, 7, 8, 10, 11])\n",
    "nearest_pair = find_nearest_sum_pair(N, R)\n",
    "print(f\"Наиболее близкая к {R} сумма пары: {nearest_pair[0]} и {nearest_pair[1]}\")"
   ]
  },
  {
   "cell_type": "code",
   "execution_count": 7,
   "id": "91be954a",
   "metadata": {},
   "outputs": [
    {
     "name": "stdout",
     "output_type": "stream",
     "text": [
      "Номер первого столбца с максимальным количеством одинаковых элементов: 3, Counter({5: 3, 2: 1})\n"
     ]
    }
   ],
   "source": [
    "import numpy as np\n",
    "from collections import Counter\n",
    "\n",
    "# Задаем матрицу\n",
    "m, n = 3, 3\n",
    "matrix = np.array([[1, 1, 2, 12],\n",
    "                   [3, 1, 5, 4],\n",
    "                   [0, 44, 5, 33],\n",
    "                  [7, 44, 5, 33]])\n",
    "\n",
    "# Создаем список, в котором будем хранить количество уникальных элементов для каждого столбца\n",
    "unique_counts = []\n",
    "\n",
    "# Проходим по столбцам\n",
    "for j in range(n):\n",
    "    column = matrix[:, j]  # Получаем столбец\n",
    "    counter = Counter(column)  # Получаем количество каждого элемента в столбце\n",
    "    max_count = max(counter.values())  # Находим максимальное количество встречающегося элемента\n",
    "    unique_counts.append(max_count)\n",
    "\n",
    "# Находим индекс столбца с максимальным количеством одинаковых элементов\n",
    "max_column = unique_counts.index(max(unique_counts))\n",
    "\n",
    "print(f\"Номер первого столбца с максимальным количеством одинаковых элементов: {max_column + 1}, {counter}\")"
   ]
  },
  {
   "cell_type": "markdown",
   "id": "b4e40618",
   "metadata": {},
   "source": [
    "Реализовать класс стек через использование списка:\n",
    "\n",
    "Создать класс Stack с методами:\n",
    "push(item): добавляет элемент item в верхушку стека;\n",
    "pop(): удаляет и возвращает элемент из верхушки стека;\n",
    "peek(): возвращает элемент из верхушки стека без его удаления;\n",
    "is_empty(): проверяет, пуст ли стек;\n",
    "size(): возвращает текущий размер стека."
   ]
  },
  {
   "cell_type": "code",
   "execution_count": 19,
   "id": "f1bb45a1",
   "metadata": {},
   "outputs": [],
   "source": [
    "class Stack:\n",
    "    def __init__(self):\n",
    "        self.stack = []\n",
    "\n",
    "    def push(self, item):\n",
    "        self.stack.append(item)\n",
    "\n",
    "    def pop(self):\n",
    "        if not self.is_empty():\n",
    "            return self.stack.pop()\n",
    "        return \"Стек пуст\"\n",
    "\n",
    "    def peek(self):\n",
    "        if not self.is_empty():\n",
    "            return self.stack[-1]\n",
    "        return \"Стек пуст\"\n",
    "\n",
    "    def is_empty(self):\n",
    "        return len(self.stack) == 0\n",
    "\n",
    "    def size(self):\n",
    "        return len(self.stack)"
   ]
  },
  {
   "cell_type": "markdown",
   "id": "a1643772",
   "metadata": {},
   "source": [
    "Реализовать класс стек через связный список:\n",
    "\n",
    "Создать класс Node для представления узла связного списка с двумя атрибутами: data (значение узла) и next (ссылка на следующий узел).\n",
    "\n",
    "Создать класс Stack с методами:\n",
    "\n",
    "push(item): добавляет элемент item в верхушку стека;\n",
    "pop(): удаляет и возвращает элемент из верхушки стека;\n",
    "peek(): возвращает элемент из верхушки стека без его удаления;\n",
    "is_empty(): проверяет, пуст ли стек;\n",
    "size(): возвращает текущий размер стека/\n",
    "Оба способа реализации должны обеспечивать функциональность стека: добавление элементов в верхушку, удаление элементов из верхушки, получение элемента из верхушки без его удаления, проверку на пустоту и получение текущего размера стека"
   ]
  },
  {
   "cell_type": "code",
   "execution_count": 21,
   "id": "a45bdc1d",
   "metadata": {},
   "outputs": [],
   "source": [
    "# Класс Node отвечает за хранение значения узла и ссылки на следующий элемент (узел)\n",
    "class Node:\n",
    "    def __init__(self, data=None):\n",
    "        self.data = data  # Значение, хранящееся в узле\n",
    "        self.next = None  # Ссылка на следующий узел\n",
    "\n",
    "# Класс Stack реализует структуру данных \"стек\" с использованием связного списка\n",
    "class Stack:\n",
    "    # Конструктор инициализирует стек, первый узел (верхний элемент стека) пока что не определен\n",
    "    def __init__(self):\n",
    "        self.top = None\n",
    "        self._size = 0  # Счетчик размера стека\n",
    "\n",
    "    # Метод is_empty проверяет стек на пустоту\n",
    "    def is_empty(self):\n",
    "        return self.top is None  # Если вершина стека (top) отсутствует, стек пуст\n",
    "\n",
    "    # Метод push добавляет новый элемент на вершину стека\n",
    "    def push(self, data):\n",
    "        node = Node(data)  # Создаем новый узел\n",
    "        node.next = self.top  # Новый узел теперь ссылается на предыдущий вверху стека\n",
    "        self.top = node  # И сам становится вершиной стека\n",
    "        self._size += 1  # Увеличиваем размер стека на 1\n",
    "\n",
    "    # Метод pop удаляет элемент с вершины стека (если стек не пустой) и возвращает его\n",
    "    def pop(self):\n",
    "        if self.is_empty():  # Если стек пустой, возвращаем None\n",
    "            return None\n",
    "        data = self.top.data  # Сохраняем значение вершины стека в переменную\n",
    "        self.top = self.top.next  # Переназначаем значение вершины стека на следующий узел\n",
    "        self._size -= 1  # Уменьшаем размер стека на 1\n",
    "        return data  # Возвращаем удаленное значение\n",
    "        \n",
    "    def peek(self):\n",
    "        if self.is_empty():  # Если стек пуст, возвращаем сообщение об ошибке\n",
    "            return \"Стек пуст\"\n",
    "        else:  # Если стек не пуст, возвращаем значение верхнего элемента\n",
    "            return self.top.data\n",
    "\n",
    "    # Метод size возвращает текущий размер стека\n",
    "    def size(self):\n",
    "        return self._size "
   ]
  },
  {
   "cell_type": "markdown",
   "id": "23a9c110",
   "metadata": {},
   "source": [
    "Дан стек. Необходимо проверить, есть ли в нем повторяющиеся элементы. Вывести повторяющиеся элементы, если они есть."
   ]
  },
  {
   "cell_type": "code",
   "execution_count": 27,
   "id": "c6be3db8",
   "metadata": {},
   "outputs": [
    {
     "name": "stdout",
     "output_type": "stream",
     "text": [
      "Повторяющихся элементов нет\n"
     ]
    }
   ],
   "source": [
    "def check_duplicates(stack):\n",
    "    count = dict()  # Инициализируем словарь для подсчета элементов\n",
    "    \n",
    "    # Пока стек не пуст, проходим по его элементам\n",
    "    while not stack.is_empty():\n",
    "        item = stack.pop()\n",
    "        if item in count:\n",
    "            count[item] += 1  # Если элемент уже есть в словаре, увеличиваем его счетчик\n",
    "        else:\n",
    "            count[item] = 1  # Если элемента нет в словаре, добавляем его туда со значением счетчика 1\n",
    "\n",
    "    # Теперь в count хранится количество каждого элемента из стека\n",
    "    # Формируем список повторяющихся элементов\n",
    "    duplicates = [item for item, item_count in count.items() if item_count > 1]\n",
    "    \n",
    "    if duplicates:  # Если список не пуст, выводим повторяющиеся элементы\n",
    "        return f\"Повторяющиеся элементы: {duplicates}\"\n",
    "    else:  # Если список пуст, сообщаем об отсутствии повторений\n",
    "        return \"Повторяющихся элементов нет\"\n",
    "\n",
    "stack = Stack()\n",
    "stack.push(1)\n",
    "stack.push(2)\n",
    "stack.push(5)\n",
    "stack.push(4)\n",
    "stack.push(7)\n",
    "stack.push(0)\n",
    "print(check_duplicates(stack))"
   ]
  },
  {
   "cell_type": "markdown",
   "id": "47a65e3d",
   "metadata": {},
   "source": [
    "Задачу решить двумя способами:\n",
    "\n",
    "Реализовать класс очередь через использование списка:\n",
    "\n",
    "Создать класс Queue с методами:\n",
    "enqueue(item): добавляет элемент item в конец очереди;\n",
    "dequeue(): удаляет и возвращает элемент из начала очереди;\n",
    "peek(): возвращает элемент из начала очереди без его удаления;\n",
    "is_empty(): проверяет, пуста ли очередь;\n",
    "size(): возвращает текущий размер очереди.\n",
    "Реализовать класс очередь через связный список:\n",
    "\n",
    "Создать класс Node для представления узла связного списка с двумя атрибутами: data (значение узла) и next (ссылка на следующий узел)."
   ]
  },
  {
   "cell_type": "code",
   "execution_count": null,
   "id": "c78260ee",
   "metadata": {},
   "outputs": [],
   "source": [
    "class Queue:\n",
    "\n",
    "    def __init__(self):\n",
    "        self.items = []\n",
    "\n",
    "    def is_empty(self):\n",
    "        return not bool(self.items)\n",
    "\n",
    "    def enqueue(self, data):\n",
    "        self.items.append(data)\n",
    "\n",
    "    def dequeue(self):\n",
    "        return self.items.pop(0)\n",
    "\n",
    "    def peek(self):\n",
    "        return self.items[0]\n",
    "\n",
    "    def size(self):\n",
    "        return len(self.items)\n",
    "    \n",
    "\n",
    "class Node:\n",
    "    def __init__(self, data=None):\n",
    "        self.data = data\n",
    "        self.next = None"
   ]
  },
  {
   "cell_type": "markdown",
   "id": "2136f020",
   "metadata": {},
   "source": [
    "Создать класс Queue с методами:\n",
    "\n",
    "enqueue(item): добавляет элемент item в конец очереди;\n",
    "dequeue(): удаляет и возвращает элемент из начала очереди;\n",
    "peek(): возвращает элемент из начала очереди без его удаления;\n",
    "is_empty(): проверяет, пуста ли очередь;\n",
    "size(): возвращает текущий размер очереди.\n",
    "Оба способа реализации должны обеспечивать функциональность очереди: добавление элементов в конец, удаление элементов из начала, получение элемента из начала без его удаления, проверку на пустоту и получение текущего размера очереди."
   ]
  },
  {
   "cell_type": "code",
   "execution_count": 1,
   "id": "ae399058",
   "metadata": {},
   "outputs": [],
   "source": [
    "class Queue:\n",
    "    \n",
    "    def __init__(self):\n",
    "        self.items = []\n",
    "        \n",
    "    def enqueue(self, item):\n",
    "        self.items.append(item)\n",
    "        \n",
    "    def dequeue(self, item):\n",
    "        self.items.pop(0)\n",
    "        \n",
    "    def id_empty(self):\n",
    "        return not bool(self.items)\n",
    "    \n",
    "    def size(self):\n",
    "        return len(self.items)\n",
    "    \n",
    "class Node:\n",
    "    def __init__(self, data=None):\n",
    "        self.data = data\n",
    "        self.next = None\n",
    "\n",
    "class QueueLinkedList:\n",
    "\n",
    "    def __init__(self):\n",
    "        self.front = self.rear = None\n",
    "\n",
    "    def is_empty(self):\n",
    "        return self.front is None\n",
    "\n",
    "    def enqueue(self, elem):\n",
    "        temp = Node(elem)\n",
    "        if self.rear is None:\n",
    "            self.front = self.rear = temp\n",
    "            return\n",
    "        self.rear.next = temp\n",
    "        self.rear = temp\n",
    "\n",
    "    def dequeue(self):\n",
    "        if self.is_empty():\n",
    "            return None\n",
    "        temp = self.front\n",
    "        self.front = temp.next\n",
    "        if self.front is None:\n",
    "            self.rear = None\n",
    "        return temp.data\n",
    "\n",
    "    def peek(self):\n",
    "        return None if self.is_empty() else self.front.data\n",
    "      \n",
    "    def size(self):\n",
    "        temp = self.front\n",
    "        count = 0\n",
    "        while temp:\n",
    "            count += 1\n",
    "            temp = temp.next\n",
    "        return count\n",
    "        "
   ]
  },
  {
   "cell_type": "markdown",
   "id": "8655eac5",
   "metadata": {},
   "source": [
    "Создать класс очереди, который будет поддерживать операции добавления элемента в конец очереди и удаления элемента из середины очереди по индексу."
   ]
  },
  {
   "cell_type": "code",
   "execution_count": null,
   "id": "6ffdc42a",
   "metadata": {},
   "outputs": [],
   "source": [
    "class Queue:\n",
    "\n",
    "    def __init__(self):\n",
    "        self.items = []\n",
    "\n",
    "    def is_empty(self):\n",
    "        return not bool(self.items)\n",
    "\n",
    "    def enqueue(self, data):\n",
    "        self.items.append(data)\n",
    "\n",
    "    def dequeue(self, index=None):\n",
    "        try:\n",
    "            if index is None:\n",
    "                # Если индекс не был передан, возвращаем первый элемент очереди\n",
    "                return self.items.pop(0)\n",
    "            else:\n",
    "                # Если индекс был передан, удаляем элемент по указанному индексу\n",
    "                return self.items.pop(index)\n",
    "        except IndexError:\n",
    "            print(\"Очередь пуста\")\n",
    "            return\n",
    "\n",
    "    def size(self):\n",
    "        return len(self.items)"
   ]
  },
  {
   "cell_type": "code",
   "execution_count": null,
   "id": "37bda121",
   "metadata": {},
   "outputs": [],
   "source": []
  }
 ],
 "metadata": {
  "kernelspec": {
   "display_name": "Python 3 (ipykernel)",
   "language": "python",
   "name": "python3"
  },
  "language_info": {
   "codemirror_mode": {
    "name": "ipython",
    "version": 3
   },
   "file_extension": ".py",
   "mimetype": "text/x-python",
   "name": "python",
   "nbconvert_exporter": "python",
   "pygments_lexer": "ipython3",
   "version": "3.9.19"
  }
 },
 "nbformat": 4,
 "nbformat_minor": 5
}
