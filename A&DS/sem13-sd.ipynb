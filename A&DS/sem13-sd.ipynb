{
 "cells": [
  {
   "cell_type": "markdown",
   "id": "1b7b801e",
   "metadata": {},
   "source": [
    "1) Реализовать простейший динамический массив, поддерживающий добавление элемента в конец массива при помощи метода append(e).\n",
    "Также должны поддерживаться следующие операции:\n",
    "•\tизвлечение элемента по индексу;\n",
    "•\tустанавка нового значения по индексу;\n",
    "•\tполучение текущей длины массива.\n"
   ]
  },
  {
   "cell_type": "code",
   "execution_count": 2,
   "id": "8be15982",
   "metadata": {},
   "outputs": [
    {
     "data": {
      "text/plain": [
       "[0, 1, 2, 3, 4, 5, 6, 7, 8, 9, 10, 11, 12, 13, 14]"
      ]
     },
     "execution_count": 2,
     "metadata": {},
     "output_type": "execute_result"
    }
   ],
   "source": [
    "data = []\n",
    "n = 15\n",
    "\n",
    "for elem in range(n):\n",
    "    data.append(elem)\n",
    "\n",
    "data"
   ]
  },
  {
   "cell_type": "code",
   "execution_count": 3,
   "id": "eb10917b",
   "metadata": {
    "scrolled": true
   },
   "outputs": [
    {
     "name": "stdout",
     "output_type": "stream",
     "text": [
      "3\n"
     ]
    },
    {
     "data": {
      "text/plain": [
       "[0, 1, 2, 3, 4, 5, 6, 7, 8, 9, 10, 11, 12, 13, 14, '3']"
      ]
     },
     "execution_count": 3,
     "metadata": {},
     "output_type": "execute_result"
    }
   ],
   "source": [
    "e = input()\n",
    "data.append(e)\n",
    "data"
   ]
  },
  {
   "cell_type": "code",
   "execution_count": 5,
   "id": "22ff6798",
   "metadata": {},
   "outputs": [
    {
     "name": "stdout",
     "output_type": "stream",
     "text": [
      "3\n",
      "yrebc\n"
     ]
    },
    {
     "data": {
      "text/plain": [
       "[4, 2, 9, 'yrebc', 'pekfc', 332, 9]"
      ]
     },
     "execution_count": 5,
     "metadata": {},
     "output_type": "execute_result"
    }
   ],
   "source": [
    "lst2 = [4, 2, 9, 'pekfc', 332, 9]\n",
    "lst2.insert(int(input()), input())\n",
    "lst2"
   ]
  },
  {
   "cell_type": "code",
   "execution_count": 6,
   "id": "e0cd91ca",
   "metadata": {},
   "outputs": [
    {
     "data": {
      "text/plain": [
       "7"
      ]
     },
     "execution_count": 6,
     "metadata": {},
     "output_type": "execute_result"
    }
   ],
   "source": [
    "len(lst2)"
   ]
  },
  {
   "cell_type": "code",
   "execution_count": 10,
   "id": "7b83bb3c",
   "metadata": {},
   "outputs": [
    {
     "name": "stdout",
     "output_type": "stream",
     "text": [
      "9\n",
      "[4, 2, 9, 'yrebc', 'pekfc', 332, 9]\n"
     ]
    }
   ],
   "source": [
    "print(lst2[2])\n",
    "print(lst2)"
   ]
  },
  {
   "cell_type": "markdown",
   "id": "9fd385dc",
   "metadata": {},
   "source": [
    "1.1) Добавить реализацию удаления элемента из любого места массива и поддержку корректного вывода массива при помощи функции print."
   ]
  },
  {
   "cell_type": "code",
   "execution_count": 11,
   "id": "71f45ef4",
   "metadata": {},
   "outputs": [
    {
     "data": {
      "text/plain": [
       "[4, 9, 'yrebc', 'pekfc', 332, 9]"
      ]
     },
     "execution_count": 11,
     "metadata": {},
     "output_type": "execute_result"
    }
   ],
   "source": [
    "lst2.pop(1)\n",
    "lst2\n",
    "    "
   ]
  },
  {
   "cell_type": "code",
   "execution_count": 12,
   "id": "bc1165c3",
   "metadata": {},
   "outputs": [
    {
     "data": {
      "text/plain": [
       "[4, 9, 'yrebc', 'pekfc', 9]"
      ]
     },
     "execution_count": 12,
     "metadata": {},
     "output_type": "execute_result"
    }
   ],
   "source": [
    "lst2.remove(332)\n",
    "lst2"
   ]
  },
  {
   "cell_type": "markdown",
   "id": "d3cd3f81",
   "metadata": {},
   "source": [
    "2) Реализовать генератор, который возвращает значение поочередно извлекаемое из конца двух очередей (в качестве очереди используется deque из collections). Если очередь из которой извлекается элемент пуста - генератор заканчивает работу."
   ]
  },
  {
   "cell_type": "code",
   "execution_count": 8,
   "id": "a0a887e9",
   "metadata": {},
   "outputs": [
    {
     "name": "stdout",
     "output_type": "stream",
     "text": [
      "3\n",
      "6\n",
      "2\n",
      "5\n",
      "1\n",
      "4\n",
      "3\n",
      "8\n",
      "2\n",
      "7\n",
      "1\n",
      "6\n"
     ]
    }
   ],
   "source": [
    "from collections import deque\n",
    "\n",
    "def return_v(q1, q2):\n",
    "    while q1 and q2:\n",
    "        if q1:\n",
    "            yield q1.pop()\n",
    "        if q2:\n",
    "            yield q2.pop()\n",
    "            \n",
    "q1 = deque([1, 2, 3])\n",
    "q2 = deque([4, 5, 6])\n",
    "\n",
    "q3 = deque([1, 2, 3])\n",
    "q4 = deque([4, 5, 6, 7, 8])\n",
    "\n",
    "generator = return_v(q1, q2)\n",
    "gen2 = return_v(q3, q4)\n",
    "\n",
    "for value in generator:\n",
    "    print(value)\n",
    "    \n",
    "for value in gen2:\n",
    "    print(value)"
   ]
  },
  {
   "cell_type": "markdown",
   "id": "9dfa60c6",
   "metadata": {},
   "source": [
    "Реализовать классы с медодом action():\n",
    "а) Класс Pump - в методе action() извлекает очередное значение из генератора и помещает значение в очередь (очередь передается в конструктор)"
   ]
  },
  {
   "cell_type": "code",
   "execution_count": 46,
   "id": "ad8930d7",
   "metadata": {
    "scrolled": false
   },
   "outputs": [
    {
     "name": "stdout",
     "output_type": "stream",
     "text": [
      "Значение 0 добавлено в очередь\n",
      "Значение 1 добавлено в очередь\n",
      "Значение 2 добавлено в очередь\n",
      "Значение 3 добавлено в очередь\n",
      "Значение 4 добавлено в очередь\n",
      "Значение 5 добавлено в очередь\n",
      "Значение 6 добавлено в очередь\n",
      "Генератор пуст\n",
      "deque([0, 1, 2, 3, 4, 5, 6])\n"
     ]
    }
   ],
   "source": [
    "from collections import deque\n",
    "\n",
    "class Pump:\n",
    "    def __init__(self):\n",
    "        self.queue = deque()\n",
    "\n",
    "    def action(self, n):\n",
    "        \n",
    "        def number_generator(limit): # создаем функцию для создания генератора\n",
    "            for i in range(limit):\n",
    "                yield i # поочередно извлекаем значение\n",
    "\n",
    "        generator = number_generator(n) # создаем генератор\n",
    "\n",
    "        try:\n",
    "            while True: # добавляем значения в очередь, пока генератор не окажется пустым\n",
    "                value = next(generator)\n",
    "                self.queue.append(value)\n",
    "                print(f\"Значение {value} добавлено в очередь\")\n",
    "        except StopIteration:\n",
    "            print(\"Генератор пуст\")\n",
    "\n",
    "# Создаем экземпляр класса Pump\n",
    "pump_instance = Pump()\n",
    "\n",
    "# Вызываем метод action(n/) для добавления значений в очередь\n",
    "pump_instance.action(7)\n",
    "\n",
    "# Вывод очереди\n",
    "print(pump_instance.queue)"
   ]
  },
  {
   "cell_type": "markdown",
   "id": "6d62596e",
   "metadata": {},
   "source": [
    "b) Класс MultiAction - при вызове метода action() n раз вызвает метод action() класса, переданного в конструкторе. Число n также определяется в конструкторе."
   ]
  },
  {
   "cell_type": "code",
   "execution_count": null,
   "id": "7ce5287d",
   "metadata": {},
   "outputs": [],
   "source": []
  },
  {
   "cell_type": "markdown",
   "id": "0aa96501",
   "metadata": {},
   "source": [
    "c) Класс MultiPump - в методе action() извлекает очередное значение из генератора и помещает значение в одну из очередей (очереди передается в конструкторе); очереди , в которые помещаются очередные значения, меняются по порядку.\n"
   ]
  },
  {
   "cell_type": "code",
   "execution_count": 59,
   "id": "e05ec831",
   "metadata": {},
   "outputs": [
    {
     "name": "stdout",
     "output_type": "stream",
     "text": [
      "deque([0, 2, 4, 6, 8, 10, 12, 14, 16, 18]) deque([1, 3, 5, 7, 9, 11, 13, 15, 17, 19])\n"
     ]
    }
   ],
   "source": [
    "from collections import deque\n",
    "\n",
    "class MultiPump:\n",
    "    def __init__(self):\n",
    "        self.queue = deque()\n",
    "        self.queue2 = deque()\n",
    "\n",
    "    def action(self, n):\n",
    "        def number_generator(limit):\n",
    "            for i in range(limit):\n",
    "                yield i\n",
    "\n",
    "        generator = number_generator(n)\n",
    "\n",
    "        try:\n",
    "            for index, value in enumerate(generator):\n",
    "                if index % 2 == 0:\n",
    "                    self.queue.append(value)\n",
    "                else:\n",
    "                    self.queue2.append(value)\n",
    "        except StopIteration:\n",
    "            print(\"Генератор пуст\")\n",
    "\n",
    "# Создаем экземпляр класса MultiPump\n",
    "pi = MultiPump()\n",
    "\n",
    "# Вызываем метод action(n) для добавления значений в очередь\n",
    "pi.action(20)\n",
    "\n",
    "# Вывод очереди\n",
    "print(pi.queue, pi.queue2)"
   ]
  },
  {
   "cell_type": "markdown",
   "id": "bcac3a8c",
   "metadata": {},
   "source": [
    "При помощи GenFromQ, Pump реализовать систему опработки сообщений. Сообщения создаются генератором сообщений возвращающим случайным образорм одно из сообщений. Сообщения из трех генераторов закачиваются в три очереди при помощи классов Pump, далее при помощи GenFromQ и Pump объединяются в одну очередь и выводятся на экран (можно реализовать при помощи класса с action и вызываемого при помощи MultiPump).\n",
    "\n"
   ]
  },
  {
   "cell_type": "code",
   "execution_count": 62,
   "id": "6976dc9c",
   "metadata": {},
   "outputs": [
    {
     "name": "stdout",
     "output_type": "stream",
     "text": [
      "Значение 'Сообщение1B' добавлено в очередь\n",
      "Значение 'Сообщение1C' добавлено в очередь\n",
      "Значение 'Сообщение1A' добавлено в очередь\n",
      "Значение 'Сообщение2B' добавлено в очередь\n",
      "Значение 'Сообщение2A' добавлено в очередь\n",
      "Значение 'Сообщение2A' добавлено в очередь\n",
      "Значение 'Сообщение3B' добавлено в очередь\n",
      "Значение 'Сообщение3B' добавлено в очередь\n",
      "Значение 'Сообщение3C' добавлено в очередь\n",
      "Объединенная очередь: deque(['Сообщение1B', 'Сообщение1C', 'Сообщение1A', 'Сообщение2B', 'Сообщение2A', 'Сообщение2A', 'Сообщение3B', 'Сообщение3B', 'Сообщение3C'])\n"
     ]
    }
   ],
   "source": [
    "from collections import deque\n",
    "import random\n",
    "\n",
    "class GenFromQ:\n",
    "    def __init__(self, queue, messages):\n",
    "        self.queue = queue\n",
    "        self.messages = messages\n",
    "\n",
    "    def generate_message(self):\n",
    "        while True:\n",
    "            yield random.choice(self.messages)\n",
    "\n",
    "class Pump:\n",
    "    def __init__(self):\n",
    "        self.queue = deque()\n",
    "\n",
    "    def action(self, n, generator):\n",
    "        try:\n",
    "            for _ in range(n):\n",
    "                value = next(generator)\n",
    "                self.queue.append(value)\n",
    "                print(f\"Значение '{value}' добавлено в очередь\")\n",
    "        except StopIteration:\n",
    "            print(\"Генератор пуст\")\n",
    "\n",
    "class MultiPump:\n",
    "    def __init__(self):\n",
    "        self.queue = deque()\n",
    "\n",
    "    def action(self, *pumps):\n",
    "        for pump in pumps:\n",
    "            self.queue.extend(pump.queue)\n",
    "\n",
    "# Пример использования:\n",
    "\n",
    "# Создаем экземпляры классов\n",
    "pump1 = Pump()\n",
    "pump2 = Pump()\n",
    "pump3 = Pump()\n",
    "\n",
    "# Генераторы сообщений\n",
    "gen1 = GenFromQ(pump1.queue, ['Сообщение1A', 'Сообщение1B', 'Сообщение1C'])\n",
    "gen2 = GenFromQ(pump2.queue, ['Сообщение2A', 'Сообщение2B', 'Сообщение2C'])\n",
    "gen3 = GenFromQ(pump3.queue, ['Сообщение3A', 'Сообщение3B', 'Сообщение3C'])\n",
    "\n",
    "# Вызываем метод action для добавления значений в очереди\n",
    "pump1.action(3, gen1.generate_message())\n",
    "pump2.action(3, gen2.generate_message())\n",
    "pump3.action(3, gen3.generate_message())\n",
    "\n",
    "# Создаем экземпляр класса MultiPump и вызываем метод action для объединения очередей\n",
    "multi_pump = MultiPump()\n",
    "multi_pump.action(pump1, pump2, pump3)\n",
    "\n",
    "# Вывод объединенной очереди\n",
    "print(\"Объединенная очередь:\", multi_pump.queue)"
   ]
  },
  {
   "cell_type": "code",
   "execution_count": null,
   "id": "ce4b7a4a",
   "metadata": {},
   "outputs": [],
   "source": []
  }
 ],
 "metadata": {
  "kernelspec": {
   "display_name": "Python 3 (ipykernel)",
   "language": "python",
   "name": "python3"
  },
  "language_info": {
   "codemirror_mode": {
    "name": "ipython",
    "version": 3
   },
   "file_extension": ".py",
   "mimetype": "text/x-python",
   "name": "python",
   "nbconvert_exporter": "python",
   "pygments_lexer": "ipython3",
   "version": "3.9.12"
  }
 },
 "nbformat": 4,
 "nbformat_minor": 5
}
