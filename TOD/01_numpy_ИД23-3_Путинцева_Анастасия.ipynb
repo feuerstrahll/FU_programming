{
 "cells": [
  {
   "cell_type": "markdown",
   "metadata": {},
   "source": [
    "# Numpy"
   ]
  },
  {
   "cell_type": "markdown",
   "metadata": {},
   "source": [
    "Материалы:\n",
    "* Макрушин С.В. \"Лекция 1: Библиотека Numpy\"\n",
    "* https://numpy.org/doc/stable/user/index.html\n",
    "* https://numpy.org/doc/stable/reference/index.html"
   ]
  },
  {
   "cell_type": "markdown",
   "metadata": {},
   "source": [
    "## Задачи для совместного разбора"
   ]
  },
  {
   "cell_type": "markdown",
   "metadata": {},
   "source": [
    "1. Сгенерировать двухмерный массив `arr` размерности (4, 7), состоящий из случайных действительных чисел, равномерно распределенных в диапазоне от 0 до 20. Нормализовать значения массива с помощью преобразования вида  $𝑎𝑥+𝑏$  так, что после нормализации максимальный элемент масcива будет равен 1.0, минимальный 0.0"
   ]
  },
  {
   "cell_type": "code",
   "execution_count": 31,
   "metadata": {},
   "outputs": [
    {
     "name": "stdout",
     "output_type": "stream",
     "text": [
      "[[ 0.42105263  0.15789474  0.10526316  0.73684211  0.68421053  0.73684211\n",
      "   0.05263158]\n",
      " [ 0.05263158  0.26315789  0.10526316  0.21052632  0.78947368  0.31578947\n",
      "   0.57894737]\n",
      " [ 0.73684211  0.94736842 -0.05263158  0.21052632  0.15789474  0.47368421\n",
      "   0.47368421]\n",
      " [-0.05263158  0.31578947  0.52631579 -0.05263158  0.21052632  0.63157895\n",
      "   0.52631579]]\n",
      "[[0.47368421 0.21052632 0.15789474 0.78947368 0.73684211 0.78947368\n",
      "  0.10526316]\n",
      " [0.10526316 0.31578947 0.15789474 0.26315789 0.84210526 0.36842105\n",
      "  0.63157895]\n",
      " [0.78947368 1.         0.         0.26315789 0.21052632 0.52631579\n",
      "  0.52631579]\n",
      " [0.         0.36842105 0.57894737 0.         0.26315789 0.68421053\n",
      "  0.57894737]]\n",
      "55.362442142665635\n"
     ]
    }
   ],
   "source": [
    "import numpy as np\n",
    "from sklearn. preprocessing import normalize\n",
    "\n",
    "arr = np.random.randint(0, 21, size = 28).reshape(4, 7)\n",
    "def normalize_array(arr):\n",
    "    min_value = np.min(arr)\n",
    "    max_value = np.max(arr)\n",
    "    a = 1 / (max_value - min_value)\n",
    "    b = -min_value / (max_value - min_value)\n",
    "    \n",
    "    normalized_arr = a * (arr - min_value) + b\n",
    "    \n",
    "    return normalized_arr\n",
    "\n",
    "print(normalize_array(arr))\n",
    "normalizedData = (arr-np.min(arr))/(np.max(arr)-np.min(arr))\n",
    "print(normalizedData)\n",
    "distance = np.linalg.norm(arr)\n",
    "print(distance)"
   ]
  },
  {
   "cell_type": "markdown",
   "metadata": {},
   "source": [
    "2. Создать матрицу 8 на 10 из случайных целых (используя модуль `numpy.random`) чисел из диапозона от 0 до 10 и найти в ней строку (ее индекс и вывести саму строку), в которой сумма значений минимальна."
   ]
  },
  {
   "cell_type": "code",
   "execution_count": 29,
   "metadata": {},
   "outputs": [
    {
     "name": "stdout",
     "output_type": "stream",
     "text": [
      "[[ 6  4  3  4  1  4  4  4  0  6]\n",
      " [ 9  1  9  7 10  8  9  2  6  1]\n",
      " [ 9  7  2  4  8  1  8  0  2  5]\n",
      " [ 1  5  8  4  2  6  6  4  3 10]\n",
      " [ 8  2  4 10  3  4  8  4  8  9]\n",
      " [ 8  3  2  1  6  7  4  4  3 10]\n",
      " [ 2  5  7 10 10  0  8  7  6  4]\n",
      " [ 7 10  8  3  7  3  8  9 10  7]]\n",
      "[36 62 46 49 60 48 59 72]\n",
      "36\n",
      "[0]\n"
     ]
    }
   ],
   "source": [
    "n = np.random.randint(0, 11, size = 80).reshape(8, 10)\n",
    "s = n.sum(axis = 1)\n",
    "mins = min(s)\n",
    "ind = np.where(s == mins)\n",
    "print(n,s,  mins, ind[0], sep = '\\n')"
   ]
  },
  {
   "cell_type": "markdown",
   "metadata": {},
   "source": [
    "3. Найти евклидово расстояние между двумя одномерными векторами одинаковой размерности."
   ]
  },
  {
   "cell_type": "code",
   "execution_count": 39,
   "metadata": {},
   "outputs": [
    {
     "name": "stdout",
     "output_type": "stream",
     "text": [
      "5.196152422706632 5.196152422706632\n"
     ]
    }
   ],
   "source": [
    "import math\n",
    "\n",
    "point_1 = np.array((0, 0, 0))\n",
    "point_2 = np.array((3, 3, 3))\n",
    "square = np.square(point_1 - point_2)\n",
    "sum_square = np.sum(square)\n",
    "distance = np.sqrt(sum_square)\n",
    "distance_2 = math.dist(point_1, point_2)\n",
    "\n",
    "print(distance, distance_2)"
   ]
  },
  {
   "cell_type": "markdown",
   "metadata": {},
   "source": [
    "4. Решить матричное уравнение `A*X*B=-C` - найти матрицу `X`. Где `A = [[-1, 2, 4], [-3, 1, 2], [-3, 0, 1]]`, `B=[[3, -1], [2, 1]]`, `C=[[7, 21], [11, 8], [8, 4]]`."
   ]
  },
  {
   "cell_type": "code",
   "execution_count": 38,
   "metadata": {},
   "outputs": [
    {
     "name": "stdout",
     "output_type": "stream",
     "text": [
      "[[-1.00000000e+00 -5.32907052e-16]\n",
      " [ 2.00000000e+00 -1.00000000e+00]\n",
      " [-3.00000000e+00  4.00000000e+00]]\n"
     ]
    }
   ],
   "source": [
    "'''-C = A*X*B'''\n",
    "A = [[-1, 2, 4], [-3, 1, 2], [-3, 0, 1]]\n",
    "B = [[3, -1], [2, 1]]\n",
    "C = [[7, 21], [11, 8], [8, 4]]\n",
    "'''x = a^-1 *c * b^-1'''\n",
    "invA = np.linalg.inv(A)\n",
    "invB = np.linalg.inv(B)\n",
    "x = invA @ C @ invB\n",
    "print(x)"
   ]
  },
  {
   "cell_type": "markdown",
   "metadata": {},
   "source": [
    "## Лабораторная работа №1"
   ]
  },
  {
   "cell_type": "markdown",
   "metadata": {},
   "source": [
    "Замечание: при решении данных задач не подразумевается использования циклов или генераторов Python, если в задании не сказано обратного. Решение должно опираться на использования функционала библиотеки `numpy`."
   ]
  },
  {
   "cell_type": "markdown",
   "metadata": {},
   "source": [
    "1. Файл `minutes_n_ingredients.csv` содержит информацию об идентификаторе рецепта, времени его выполнения в минутах и количестве необходимых ингредиентов. Считайте данные из этого файла в виде массива `numpy` типа `int32`, используя `np.loadtxt`. Выведите на экран первые 5 строк массива."
   ]
  },
  {
   "cell_type": "markdown",
   "metadata": {},
   "source": [
    "2. Вычислите среднее значение, минимум, максимум и медиану по каждому из столбцов, кроме первого."
   ]
  },
  {
   "cell_type": "markdown",
   "metadata": {},
   "source": [
    "3. Ограничьте сверху значения продолжительности выполнения рецепта значением квантиля $q_{0.75}$. "
   ]
  },
  {
   "cell_type": "markdown",
   "metadata": {},
   "source": [
    "4. Посчитайте, для скольких рецептов указана продолжительность, равная нулю. Замените для таких строк значение в данном столбце на 1."
   ]
  },
  {
   "cell_type": "markdown",
   "metadata": {},
   "source": [
    "5. Посчитайте, сколько уникальных рецептов находится в датасете."
   ]
  },
  {
   "cell_type": "markdown",
   "metadata": {},
   "source": [
    "6. Сколько и каких различных значений кол-ва ингредиентов присутвует в рецептах из датасета?"
   ]
  },
  {
   "cell_type": "markdown",
   "metadata": {},
   "source": [
    "7. Создайте версию массива, содержащую информацию только о рецептах, состоящих не более чем из 5 ингредиентов."
   ]
  },
  {
   "cell_type": "markdown",
   "metadata": {},
   "source": [
    "8. Для каждого рецепта посчитайте, сколько в среднем ингредиентов приходится на одну минуту рецепта. Найдите максимальное значение этой величины для всего датасета"
   ]
  },
  {
   "cell_type": "markdown",
   "metadata": {},
   "source": [
    "9. Вычислите среднее количество ингредиентов для топ-100 рецептов с наибольшей продолжительностью"
   ]
  },
  {
   "cell_type": "markdown",
   "metadata": {},
   "source": [
    "10. Выберите случайным образом и выведите информацию о 10 различных рецептах"
   ]
  },
  {
   "cell_type": "markdown",
   "metadata": {},
   "source": [
    "11. Выведите процент рецептов, кол-во ингредиентов в которых меньше среднего."
   ]
  },
  {
   "cell_type": "markdown",
   "metadata": {},
   "source": [
    "12. Назовем \"простым\" такой рецепт, длительность выполнения которого не больше 20 минут и кол-во ингредиентов в котором не больше 5. Создайте версию датасета с дополнительным столбцом, значениями которого являются 1, если рецепт простой, и 0 в противном случае."
   ]
  },
  {
   "cell_type": "markdown",
   "metadata": {},
   "source": [
    "13. Выведите процент \"простых\" рецептов в датасете"
   ]
  },
  {
   "cell_type": "markdown",
   "metadata": {},
   "source": [
    "14. Разделим рецепты на группы по следующему правилу. Назовем рецепты короткими, если их продолжительность составляет менее 10 минут; стандартными, если их продолжительность составляет более 10, но менее 20 минут; и длинными, если их продолжительность составляет не менее 20 минут. Создайте трехмерный массив, где нулевая ось отвечает за номер группы (короткий, стандартный или длинный рецепт), первая ось - за сам рецепт и вторая ось - за характеристики рецепта. Выберите максимальное количество рецептов из каждой группы таким образом, чтобы было возможно сформировать трехмерный массив. Выведите форму полученного массива."
   ]
  },
  {
   "cell_type": "markdown",
   "metadata": {},
   "source": [
    "### Выведите на экран первые 5 строк массива"
   ]
  },
  {
   "cell_type": "code",
   "execution_count": 1,
   "metadata": {},
   "outputs": [
    {
     "name": "stdout",
     "output_type": "stream",
     "text": [
      "[[127244     60     16]\n",
      " [ 23891     25      7]\n",
      " [ 94746     10      6]\n",
      " [ 67660      5      6]\n",
      " [157911     60     14]]\n"
     ]
    }
   ],
   "source": [
    "import numpy as np\n",
    "\n",
    "with open('minutes_n_ingredients.csv') as f:\n",
    "    array = np.loadtxt(f, delimiter=\",\", dtype='int32', skiprows=1)\n",
    "\n",
    "print(array[:5, :])"
   ]
  },
  {
   "cell_type": "markdown",
   "metadata": {},
   "source": [
    "### Вычислите среднее значение, минимум, максимум и медиану по каждому из столбцов, кроме первого."
   ]
  },
  {
   "cell_type": "code",
   "execution_count": 2,
   "metadata": {},
   "outputs": [
    {
     "name": "stdout",
     "output_type": "stream",
     "text": [
      "Avg: 21601.0, 9.0\n",
      "Min: 0, 1\n",
      "Max: 2147483647, 39\n",
      "Median: 40.0, 9.0\n"
     ]
    }
   ],
   "source": [
    "result = {\n",
    "    'avg': np.round(np.mean(array[:, 1:], axis=0), decimals=0),\n",
    "    'min': np.min(array[:, 1:], axis=0),\n",
    "    'max': np.max(array[:, 1:], axis=0),\n",
    "    'median': np.median(array[:, 1:], axis=0)\n",
    "}\n",
    "\n",
    "# Выводим результат без скобок\n",
    "for stat, values in result.items():\n",
    "    print(f'{stat.capitalize()}: {\", \".join(map(str, values))}')"
   ]
  },
  {
   "cell_type": "markdown",
   "metadata": {},
   "source": [
    "### Ограничьте сверху значения продолжительности выполнения рецепта значением квантиля  𝑞0.75"
   ]
  },
  {
   "cell_type": "code",
   "execution_count": 27,
   "metadata": {},
   "outputs": [
    {
     "name": "stdout",
     "output_type": "stream",
     "text": [
      "Измененный массив с ограничением сверху:\n",
      "[[127244     60     16      0]\n",
      " [ 23891     25      7      0]\n",
      " [ 94746     10      6      0]\n",
      " ...\n",
      " [498432     65     15      0]\n",
      " [370915      5      4      1]\n",
      " [ 81993     65     14      0]]\n"
     ]
    }
   ],
   "source": [
    "minutes_column_index = 1\n",
    "q_75 = np.percentile(array[:, minutes_column_index], 75)\n",
    "array[:, minutes_column_index] = np.minimum(array[:, minutes_column_index], q_75)\n",
    "print(\"Измененный массив с ограничением сверху:\")\n",
    "print(array)"
   ]
  },
  {
   "cell_type": "markdown",
   "metadata": {},
   "source": [
    "### Посчитайте, для скольких рецептов указана продолжительность, равная нулю. Замените для таких строк значение в данном столбце на 1"
   ]
  },
  {
   "cell_type": "code",
   "execution_count": 12,
   "metadata": {},
   "outputs": [
    {
     "name": "stdout",
     "output_type": "stream",
     "text": [
      "[]\n",
      "Количество рецептов с продолжительностью 0: 0\n",
      "Измененные данные:\n",
      "[[127244     60     16]\n",
      " [ 23891     25      7]\n",
      " [ 94746     10      6]\n",
      " ...\n",
      " [498432     65     15]\n",
      " [370915      5      4]\n",
      " [ 81993    140     14]]\n"
     ]
    }
   ],
   "source": [
    "minutes_column_index = 1\n",
    "zero_duration_indices = np.where(array[:, minutes_column_index] == 0)[0]\n",
    "print(zero_duration_indices)\n",
    "array[zero_duration_indices, minutes_column_index] = 1\n",
    "print(\"Количество рецептов с продолжительностью 0:\", len(zero_duration_indices))\n",
    "print(\"Измененные данные:\")\n",
    "print(array)"
   ]
  },
  {
   "cell_type": "markdown",
   "metadata": {},
   "source": [
    "### Посчитайте, сколько уникальных рецептов находится в датасете"
   ]
  },
  {
   "cell_type": "code",
   "execution_count": 53,
   "metadata": {},
   "outputs": [
    {
     "name": "stdout",
     "output_type": "stream",
     "text": [
      "100000\n"
     ]
    }
   ],
   "source": [
    "unique = np.unique(array[:, 0])\n",
    "print(np.count_nonzero(unique))"
   ]
  },
  {
   "cell_type": "markdown",
   "metadata": {},
   "source": [
    "### Сколько и каких различных значений кол-ва ингредиентов присутвует в рецептах из датасета?"
   ]
  },
  {
   "cell_type": "code",
   "execution_count": 44,
   "metadata": {},
   "outputs": [
    {
     "data": {
      "text/plain": [
       "{1: 13,\n",
       " 2: 926,\n",
       " 3: 2895,\n",
       " 4: 5515,\n",
       " 5: 7913,\n",
       " 6: 9376,\n",
       " 7: 10628,\n",
       " 8: 10951,\n",
       " 9: 10585,\n",
       " 10: 9591,\n",
       " 11: 8297,\n",
       " 12: 6605,\n",
       " 13: 4997,\n",
       " 14: 3663,\n",
       " 15: 2595,\n",
       " 16: 1767,\n",
       " 17: 1246,\n",
       " 18: 790,\n",
       " 19: 573,\n",
       " 20: 376,\n",
       " 21: 217,\n",
       " 22: 161,\n",
       " 23: 105,\n",
       " 24: 69,\n",
       " 25: 50,\n",
       " 26: 28,\n",
       " 27: 16,\n",
       " 28: 16,\n",
       " 29: 12,\n",
       " 30: 12,\n",
       " 31: 3,\n",
       " 32: 1,\n",
       " 33: 2,\n",
       " 34: 1,\n",
       " 35: 3,\n",
       " 37: 1,\n",
       " 39: 1}"
      ]
     },
     "execution_count": 44,
     "metadata": {},
     "output_type": "execute_result"
    }
   ],
   "source": [
    "unique, counts = np.unique(array[:, 2], return_counts=True)\n",
    "dict(zip(unique, counts))"
   ]
  },
  {
   "cell_type": "markdown",
   "metadata": {},
   "source": [
    "### Создайте версию массива, содержащую информацию только о рецептах, состоящих не более чем из 5 ингредиентов."
   ]
  },
  {
   "cell_type": "code",
   "execution_count": 15,
   "metadata": {
    "scrolled": true
   },
   "outputs": [
    {
     "name": "stdout",
     "output_type": "stream",
     "text": [
      "[[446597     15      5]\n",
      " [204134      5      3]\n",
      " [ 25623      6      4]\n",
      " ...\n",
      " [ 52088     60      5]\n",
      " [128811     15      4]\n",
      " [370915      5      4]]\n"
     ]
    }
   ],
   "source": [
    "filtered_data = array[array[:, 2] <= 5]\n",
    "print(filtered_data)"
   ]
  },
  {
   "cell_type": "markdown",
   "metadata": {},
   "source": [
    "### Для каждого рецепта посчитайте, сколько в среднем ингредиентов приходится на одну минуту рецепта. Найдите максимальное значение этой величины для всего датасета"
   ]
  },
  {
   "cell_type": "code",
   "execution_count": 17,
   "metadata": {},
   "outputs": [
    {
     "name": "stdout",
     "output_type": "stream",
     "text": [
      "24.0\n"
     ]
    }
   ],
   "source": [
    "ingr_per_min = array[:, 2] / array[:,1]\n",
    "print(max(ingr_per_min))"
   ]
  },
  {
   "cell_type": "markdown",
   "metadata": {},
   "source": [
    "### Вычислите среднее количество ингредиентов для топ-100 рецептов с наибольшей продолжительностью"
   ]
  },
  {
   "cell_type": "code",
   "execution_count": 10,
   "metadata": {},
   "outputs": [
    {
     "data": {
      "text/plain": [
       "6.61"
      ]
     },
     "execution_count": 10,
     "metadata": {},
     "output_type": "execute_result"
    }
   ],
   "source": [
    "sorted_data = array[array[:, 1].argsort()[::-1]]\n",
    "\n",
    "top_100_data = sorted_data[:100]\n",
    "\n",
    "average_ingredients = np.mean(top_100_data[:, 2])\n",
    "\n",
    "average_ingredients"
   ]
  },
  {
   "cell_type": "markdown",
   "metadata": {},
   "source": [
    "### Выберите случайным образом и выведите информацию о 10 различных рецептах"
   ]
  },
  {
   "cell_type": "code",
   "execution_count": 19,
   "metadata": {
    "scrolled": true
   },
   "outputs": [
    {
     "name": "stdout",
     "output_type": "stream",
     "text": [
      "Информация о 10 случайных рецептах:\n",
      "[[ 50592     10      8]\n",
      " [ 87900     45      9]\n",
      " [103011    125     11]\n",
      " [326565     30      7]\n",
      " [ 20165      5      5]\n",
      " [375957     25      9]\n",
      " [323574    120      7]\n",
      " [121738     15     10]\n",
      " [ 58122     23     14]\n",
      " [ 63300     20      5]]\n"
     ]
    }
   ],
   "source": [
    "random_indices = np.random.choice(len(array), 10, replace=False)\n",
    "random_recipes = array[random_indices]\n",
    "\n",
    "print(\"Информация о 10 случайных рецептах:\")\n",
    "print(random_recipes)"
   ]
  },
  {
   "cell_type": "markdown",
   "metadata": {},
   "source": [
    "### Выведите процент рецептов, кол-во ингредиентов в которых меньше среднего"
   ]
  },
  {
   "cell_type": "code",
   "execution_count": 18,
   "metadata": {},
   "outputs": [
    {
     "data": {
      "text/plain": [
       "58.802"
      ]
     },
     "execution_count": 18,
     "metadata": {},
     "output_type": "execute_result"
    }
   ],
   "source": [
    "average_ingredients = np.mean(array[:, 2])\n",
    "filtered_data = array[array[:, 2] < average_ingredients]\n",
    "percentage_below_average = (len(filtered_data) / len(array)) * 100\n",
    "percentage_below_average\n"
   ]
  },
  {
   "cell_type": "markdown",
   "metadata": {},
   "source": [
    "### Назовем \"простым\" такой рецепт, длительность выполнения которого не больше 20 минут и кол-во ингредиентов в котором не больше 5. Создайте версию датасета с дополнительным столбцом, значениями которого являются 1, если рецепт простой, и 0 в противном случае."
   ]
  },
  {
   "cell_type": "code",
   "execution_count": 21,
   "metadata": {},
   "outputs": [
    {
     "name": "stdout",
     "output_type": "stream",
     "text": [
      "Измененный массив с дополнительным столбцом:\n",
      "[[127244     60     16      0]\n",
      " [ 23891     25      7      0]\n",
      " [ 94746     10      6      0]\n",
      " ...\n",
      " [498432     65     15      0]\n",
      " [370915      5      4      1]\n",
      " [ 81993    140     14      0]]\n"
     ]
    }
   ],
   "source": [
    "minutes_column_index = 1\n",
    "ingredients_column_index = 2\n",
    "simple_recipe_column = np.logical_and(array[:, minutes_column_index] <= 20, array[:, ingredients_column_index] <= 5)\n",
    "array = np.column_stack((array, simple_recipe_column.astype(int)))\n",
    "print(\"Измененный массив с дополнительным столбцом:\")\n",
    "print(array)\n"
   ]
  },
  {
   "cell_type": "markdown",
   "metadata": {},
   "source": [
    "### Выведите процент \"простых\" рецептов в датасете"
   ]
  },
  {
   "cell_type": "code",
   "execution_count": 24,
   "metadata": {},
   "outputs": [
    {
     "data": {
      "text/plain": [
       "9.552"
      ]
     },
     "execution_count": 24,
     "metadata": {},
     "output_type": "execute_result"
    }
   ],
   "source": [
    "percent = np.mean(simple_recipe_column) * 100\n",
    "percent"
   ]
  },
  {
   "cell_type": "markdown",
   "metadata": {},
   "source": [
    "### Разделим рецепты на группы по следующему правилу. Назовем рецепты короткими, если их продолжительность составляет менее 10 минут; стандартными, если их продолжительность составляет более 10, но менее 20 минут; и длинными, если их продолжительность составляет не менее 20 минут. Создайте трехмерный массив, где нулевая ось отвечает за номер группы (короткий, стандартный или длинный рецепт), первая ось - за сам рецепт и вторая ось - за характеристики рецепта. Выберите максимальное количество рецептов из каждой группы таким образом, чтобы было возможно сформировать трехмерный массив. Выведите форму полученного массива."
   ]
  },
  {
   "cell_type": "code",
   "execution_count": 19,
   "metadata": {},
   "outputs": [
    {
     "name": "stdout",
     "output_type": "stream",
     "text": [
      "[[[6.76600e+04 5.00000e+00 6.00000e+00]\n",
      "  [3.66174e+05 7.00000e+00 9.00000e+00]\n",
      "  [2.04134e+05 5.00000e+00 3.00000e+00]\n",
      "  ...\n",
      "  [4.20725e+05 5.00000e+00 3.00000e+00]\n",
      "  [4.74700e+03 1.00000e+00 9.00000e+00]\n",
      "  [3.70915e+05 5.00000e+00 4.00000e+00]]\n",
      "\n",
      " [[9.47460e+04 1.00000e+01 6.00000e+00]\n",
      "  [3.39410e+04 1.80000e+01 9.00000e+00]\n",
      "  [4.46597e+05 1.50000e+01 5.00000e+00]\n",
      "  ...\n",
      "  [9.83100e+03 1.50000e+01 7.00000e+00]\n",
      "  [3.35859e+05 1.20000e+01 1.40000e+01]\n",
      "  [2.56812e+05 1.00000e+01 3.00000e+00]]\n",
      "\n",
      " [[1.27244e+05 6.00000e+01 1.60000e+01]\n",
      "  [2.38910e+04 2.50000e+01 7.00000e+00]\n",
      "  [1.57911e+05 6.00000e+01 1.40000e+01]\n",
      "  ...\n",
      "  [1.68901e+05 2.50000e+01 7.00000e+00]\n",
      "  [3.92339e+05 3.50000e+01 1.30000e+01]\n",
      "  [2.06732e+05 4.50000e+01 1.00000e+01]]]\n",
      "(3, 7588, 3)\n"
     ]
    }
   ],
   "source": [
    "a = array[array[:, 1] < 10] \n",
    "b = array[((10 <= array[:, 1]) * (array[:, 1] < 20))] \n",
    "c = array[array[:, 1] >= 20] \n",
    " \n",
    "p = (min(len(a), len(b), len(c))) \n",
    "f = np.zeros((3, p, 3)) \n",
    "f[(0, np.arange(p))] = a[:,:] \n",
    "f[(1, np.arange(p))] = b[:p,:] \n",
    "f[(2, np.arange(p))] = c[:p,:] \n",
    "print(f) \n",
    "print(np.shape(f))"
   ]
  },
  {
   "cell_type": "code",
   "execution_count": null,
   "metadata": {},
   "outputs": [],
   "source": []
  }
 ],
 "metadata": {
  "kernelspec": {
   "display_name": "Python 3 (ipykernel)",
   "language": "python",
   "name": "python3"
  },
  "language_info": {
   "codemirror_mode": {
    "name": "ipython",
    "version": 3
   },
   "file_extension": ".py",
   "mimetype": "text/x-python",
   "name": "python",
   "nbconvert_exporter": "python",
   "pygments_lexer": "ipython3",
   "version": "3.9.12"
  }
 },
 "nbformat": 4,
 "nbformat_minor": 4
}
