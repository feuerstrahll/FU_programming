{
 "cells": [
  {
   "cell_type": "markdown",
   "metadata": {},
   "source": [
    "# Форматы данных (1)"
   ]
  },
  {
   "cell_type": "markdown",
   "metadata": {},
   "source": [
    "Материалы:\n",
    "* Макрушин С.В. \"Лекция 4: Форматы данных\"\n",
    "* https://docs.python.org/3/library/json.html\n",
    "* https://docs.python.org/3/library/pickle.html\n",
    "* https://www.crummy.com/software/BeautifulSoup/bs4/doc.ru/bs4ru.html\n",
    "* Уэс Маккини. Python и анализ данных"
   ]
  },
  {
   "cell_type": "markdown",
   "metadata": {},
   "source": [
    "## Задачи для совместного разбора"
   ]
  },
  {
   "cell_type": "markdown",
   "metadata": {},
   "source": [
    "1. Вывести все адреса электронной почты, содержащиеся в адресной книге `addres-book.json`"
   ]
  },
  {
   "cell_type": "code",
   "execution_count": null,
   "metadata": {},
   "outputs": [],
   "source": [
    "import json\n",
    "\n",
    "with open(r'data_f/addres-book.json') as f:\n",
    "    data = json.load(f)\n",
    "\n",
    "for pers in data:\n",
    "    email = pers['email']\n",
    "    print(email)\n",
    " "
   ]
  },
  {
   "cell_type": "markdown",
   "metadata": {},
   "source": [
    "2. Вывести телефоны, содержащиеся в адресной книге `addres-book.json`"
   ]
  },
  {
   "cell_type": "code",
   "execution_count": null,
   "metadata": {},
   "outputs": [],
   "source": [
    "numb = [phone_entry['phone'] for person in data for phone_entry in person.get('phones')]\n",
    "numb"
   ]
  },
  {
   "cell_type": "markdown",
   "metadata": {},
   "source": [
    "3. По данным из файла `addres-book-q.xml` сформировать список словарей с телефонами каждого из людей. "
   ]
  },
  {
   "cell_type": "code",
   "execution_count": null,
   "metadata": {
    "scrolled": true
   },
   "outputs": [],
   "source": [
    "from bs4 import BeautifulSoup\n",
    "\n",
    "with open(r'data_f/addres-book-q.xml', 'r') as f:\n",
    "    data = f.read() \n",
    "\n",
    "\n",
    "bs_data = BeautifulSoup(data, 'xml')"
   ]
  },
  {
   "cell_type": "code",
   "execution_count": null,
   "metadata": {},
   "outputs": [],
   "source": [
    "people_list = []\n",
    "\n",
    "for person_elem in bs_data.find_all('address'):\n",
    "    person_dict = {'name': person_elem.find('name').text, 'phones': []}\n",
    "\n",
    "    # Iterate over each 'phone' element within the current 'person'\n",
    "    for phone_elem in person_elem.find_all('phone'):\n",
    "        person_dict['phones'].append(phone_elem.text)\n",
    "\n",
    "    # Append the current person's dictionary to the list\n",
    "    people_list.append(person_dict)\n",
    "\n",
    "\n",
    "for person_dict in people_list:\n",
    "    print(person_dict)"
   ]
  },
  {
   "cell_type": "markdown",
   "metadata": {},
   "source": [
    "## Лабораторная работа №4"
   ]
  },
  {
   "cell_type": "markdown",
   "metadata": {},
   "source": [
    "### JSON"
   ]
  },
  {
   "cell_type": "markdown",
   "metadata": {},
   "source": [
    "1.1 Считайте файл `contributors_sample.json`. Воспользовавшись модулем `json`, преобразуйте содержимое файла в соответствующие объекты python. Выведите на экран информацию о первых 3 пользователях."
   ]
  },
  {
   "cell_type": "code",
   "execution_count": null,
   "metadata": {},
   "outputs": [],
   "source": [
    "import json\n",
    "\n",
    "with open(r'data_f/contributors_sample.json') as f:\n",
    "    data = json.load(f)\n",
    "    \n",
    "data[:3]\n"
   ]
  },
  {
   "cell_type": "markdown",
   "metadata": {},
   "source": [
    "1.2 Выведите уникальные почтовые домены, содержащиеся в почтовых адресах людей"
   ]
  },
  {
   "cell_type": "code",
   "execution_count": null,
   "metadata": {},
   "outputs": [],
   "source": [
    "l_of_domens = []\n",
    "for i in data:\n",
    "    ind = i['mail'].index('@') # находим индекс элемента\n",
    "    domens = i['mail'][ind+1:] # достаем значения правее символа по индексу, не включая сам элемент\n",
    "    l_of_domens.append(domens)\n",
    "\n",
    "set(l_of_domens) # выводим уникальные значения"
   ]
  },
  {
   "cell_type": "markdown",
   "metadata": {},
   "source": [
    "1.3 Напишите функцию, которая по `username` ищет человека и выводит информацию о нем. Если пользователь с заданным `username` отсутствует, возбудите исключение `ValueError`"
   ]
  },
  {
   "cell_type": "code",
   "execution_count": null,
   "metadata": {},
   "outputs": [],
   "source": [
    "def search_username(nm):\n",
    "    for i in data:\n",
    "        if i['username'] == nm:\n",
    "            return i\n",
    "    raise ValueError()\n",
    "\n",
    "try:\n",
    "    print(search_username('uhebert'))\n",
    "    print(search_username('uhebeet44yrt'))\n",
    "except ValueError:\n",
    "    print(\"Ошибка, Пользователя не существует\")"
   ]
  },
  {
   "cell_type": "markdown",
   "metadata": {},
   "source": [
    "1.4 Посчитайте, сколько мужчин и женщин присутсвует в этом наборе данных."
   ]
  },
  {
   "cell_type": "code",
   "execution_count": null,
   "metadata": {},
   "outputs": [],
   "source": [
    "count_f = 0\n",
    "count_m = 0\n",
    "for sex in data:\n",
    "    if sex['sex'] == 'F':\n",
    "        count_f += 1\n",
    "    elif sex['sex'] == 'M':\n",
    "        count_m += 1\n",
    "\n",
    "print(f'Количество мужчин в наборе данных - {count_m} \\nКоличество женщин в наборе данных - {count_f}')"
   ]
  },
  {
   "cell_type": "markdown",
   "metadata": {},
   "source": [
    "1.5 Создайте `pd.DataFrame` `contributors`, имеющий столбцы `id`, `username` и `sex`."
   ]
  },
  {
   "cell_type": "code",
   "execution_count": null,
   "metadata": {},
   "outputs": [],
   "source": [
    "import pandas as pd\n",
    "\n",
    "selected_columns = [\"id\", \"username\", \"sex\"]\n",
    "\n",
    "contributors = pd.DataFrame(data, columns=selected_columns)\n",
    "\n",
    "contributors"
   ]
  },
  {
   "cell_type": "markdown",
   "metadata": {},
   "source": [
    "1.6 Загрузите данные из файла `recipes_sample.csv` (__ЛР2__) в таблицу `recipes`. Объедините `recipes` с таблицей `contributors` с сохранением строк в том случае, если информация о человеке отсутствует в JSON-файле. Для скольких человек информация отсутствует? "
   ]
  },
  {
   "cell_type": "code",
   "execution_count": null,
   "metadata": {},
   "outputs": [],
   "source": [
    "import pandas as pd\n",
    "\n",
    "recipes_file_path = r'data/recipes_sample.csv'\n",
    "recipes = pd.read_csv(recipes_file_path)\n",
    "\n",
    "recipes = pd.DataFrame(recipes)\n",
    "    \n",
    "merged_df = pd.merge(contributors, recipes, on='id', how='outer')\n",
    "\n",
    "missing_contributors = merged_df[merged_df[['username']].isnull().any(axis=1)]\n",
    "\n",
    "missing_count = len(missing_contributors)\n",
    "\n",
    "# Выведем результат\n",
    "print(f\"Количество человек, информация о которых отсутствует: {missing_count}\")"
   ]
  },
  {
   "cell_type": "markdown",
   "metadata": {},
   "source": [
    "### pickle"
   ]
  },
  {
   "cell_type": "markdown",
   "metadata": {},
   "source": [
    "2.1 На основе файла `contributors_sample.json` создайте словарь следующего вида: \n",
    "```\n",
    "{\n",
    "    должность: [список username людей, занимавших эту должность]\n",
    "}\n",
    "```"
   ]
  },
  {
   "cell_type": "code",
   "execution_count": null,
   "metadata": {},
   "outputs": [],
   "source": [
    "l_of_posts = {}\n",
    "\n",
    "for i in data:\n",
    "    jobs_list = i['jobs']\n",
    "    pers = i['username']\n",
    "    \n",
    "    for job in jobs_list:\n",
    "        if job not in l_of_posts:\n",
    "            l_of_posts[job] = []\n",
    "        l_of_posts[job].append(pers)\n",
    "        \n",
    "l_of_posts\n",
    "        "
   ]
  },
  {
   "cell_type": "markdown",
   "metadata": {},
   "source": [
    "2.2 Сохраните результаты в файл `job_people.pickle` и в файл `job_people.json` с использованием форматов pickle и JSON соответственно. Сравните объемы получившихся файлов. При сохранении в JSON укажите аргумент `indent`."
   ]
  },
  {
   "cell_type": "code",
   "execution_count": null,
   "metadata": {},
   "outputs": [],
   "source": [
    "import pickle\n",
    "import json\n",
    "\n",
    "with open('job_people.pickle', 'wb') as pickle_file:\n",
    "    pickle.dump(l_of_posts, pickle_file)\n",
    "\n",
    "with open('job_people.json', 'w') as json_file:\n",
    "    json.dump(l_of_posts, json_file, indent = 3) \n",
    " "
   ]
  },
  {
   "cell_type": "markdown",
   "metadata": {},
   "source": [
    "2.3 Считайте файл `job_people.pickle` и продемонстрируйте, что данные считались корректно. "
   ]
  },
  {
   "cell_type": "code",
   "execution_count": null,
   "metadata": {
    "scrolled": true
   },
   "outputs": [],
   "source": [
    "with open('job_people.pickle', 'rb') as pickle_file:\n",
    "    pk = pickle.load(pickle_file)\n",
    "    \n",
    "with open('job_people.json', 'r') as json_file:\n",
    "    data_js = json.load(json_file)\n",
    "    \n",
    "pk"
   ]
  },
  {
   "cell_type": "markdown",
   "metadata": {},
   "source": [
    "### XML"
   ]
  },
  {
   "cell_type": "markdown",
   "metadata": {},
   "source": [
    "3.1 По данным файла `steps_sample.xml` сформируйте словарь с шагами по каждому рецепту вида `{id_рецепта: [\"шаг1\", \"шаг2\"]}`. Сохраните этот словарь в файл `steps_sample.json`"
   ]
  },
  {
   "cell_type": "code",
   "execution_count": null,
   "metadata": {
    "scrolled": false
   },
   "outputs": [],
   "source": [
    "from bs4 import BeautifulSoup\n",
    "\n",
    "with open(r'data_f/steps_sample.xml', 'r') as f:\n",
    "    data_xml = f.read() \n",
    "\n"
   ]
  },
  {
   "cell_type": "code",
   "execution_count": null,
   "metadata": {},
   "outputs": [],
   "source": [
    "bs_data_xml = BeautifulSoup(data_xml, 'xml')\n",
    "\n",
    "d_of_steps = {}\n",
    "\n",
    "for recipes_elem in bs_data_xml.find_all('recipes'):\n",
    "    for recipe_elem in recipes_elem.find_all('recipe'):\n",
    "        id_ = recipe_elem.find('id').text\n",
    "        d_of_steps[id_] = []  # Initialize the list for each 'id'\n",
    "\n",
    "        for step_elem in recipe_elem.find_all('steps'):\n",
    "            # Assuming 'steps' contains multiple 'step' elements\n",
    "            for step in step_elem.find_all('step'):\n",
    "                d_of_steps[id_].append(step.text)\n",
    "                \n",
    "for key, value in list(d_of_steps.items())[:3]:\n",
    "    print(f\"ID: {key}, ШАГИ: {value}\")"
   ]
  },
  {
   "cell_type": "markdown",
   "metadata": {},
   "source": [
    "3.2 По данным файла `steps_sample.xml` сформируйте словарь следующего вида: `кол-во_шагов_в_рецепте: [список_id_рецептов]`"
   ]
  },
  {
   "cell_type": "code",
   "execution_count": null,
   "metadata": {},
   "outputs": [],
   "source": [
    "d_of_ids = {}\n",
    "\n",
    "for recipes_elem in bs_data_xml.find_all('recipes'):\n",
    "    for recipe_elem in recipes_elem.find_all('recipe'):\n",
    "        id_ = recipe_elem.find('id').text\n",
    "        for step_elem in recipe_elem.find_all('steps'):\n",
    "            l = len(step_elem)\n",
    "            if l in d_of_ids:\n",
    "                d_of_ids[l].append(id_)\n",
    "            else:\n",
    "                d_of_ids[l] = [id_] \n",
    "                \n",
    "d_of_ids"
   ]
  },
  {
   "cell_type": "markdown",
   "metadata": {},
   "source": [
    "3.3 Получите список рецептов, в этапах выполнения которых есть информация о времени (часы или минуты). Для отбора подходящих рецептов обратите внимание на атрибуты соответствующих тэгов."
   ]
  },
  {
   "cell_type": "code",
   "execution_count": null,
   "metadata": {},
   "outputs": [],
   "source": [
    "bs_data_xml.find_all('recipes')"
   ]
  },
  {
   "cell_type": "code",
   "execution_count": null,
   "metadata": {},
   "outputs": [],
   "source": [
    "bs_data_xml.find_all('recipes')\n",
    "# step has_minutes=\"1\"    step has_hours=\"1\"\n",
    "lst = []\n",
    "for recipe in bs_data_xml.find_all('recipe'):\n",
    "    rec_id = recipe.find('id').text\n",
    "    for step_elem in recipe.find_all('steps'):\n",
    "        for step in step_elem.find_all('step'):\n",
    "            if 'has_minutes' in step.attrs or 'has_hours' in step.attrs: # attrs - это \n",
    "                #атрибут объекта элемента BeautifulSoup, который представляет собой словарь, \n",
    "                #содержащий все атрибуты данного тега.\n",
    "                lst.append(rec_id)\n",
    "                break\n",
    "                \n",
    "len(lst)"
   ]
  },
  {
   "cell_type": "markdown",
   "metadata": {},
   "source": [
    "3.4 Загрузите данные из файла `recipes_sample.csv` (__ЛР2__) в таблицу `recipes`. Для строк, которые содержат пропуски в столбце `n_steps`, заполните этот столбец на основе файла  `steps_sample.xml`. Строки, в которых столбец `n_steps` заполнен, оставьте без изменений."
   ]
  },
  {
   "cell_type": "code",
   "execution_count": null,
   "metadata": {},
   "outputs": [],
   "source": [
    "import pandas as pd\n",
    "\n",
    "recipes = r'data/recipes_sample.csv'\n",
    "recipes = pd.read_csv(recipes)\n",
    "print(recipes['n_steps'])"
   ]
  },
  {
   "cell_type": "code",
   "execution_count": null,
   "metadata": {
    "scrolled": true
   },
   "outputs": [],
   "source": [
    "steps_lengths = {}\n",
    "for recipe in bs_data_xml.find_all('recipe'):\n",
    "    recipe_id = int(recipe.find('id').text)\n",
    "    steps = recipe.find('steps').find_all('step')\n",
    "    steps_lengths[recipe_id] = len(steps)\n",
    "        \n",
    "for index, row in recipes.iterrows():\n",
    "    recipe_id = row['id']\n",
    "    if recipe_id in steps_lengths and pd.isna(row['n_steps']):\n",
    "        recipes.at[index, 'n_steps'] = steps_lengths[recipe_id]\n",
    "\n",
    "# Вывод результатов\n",
    "print(recipes['n_steps'])\n"
   ]
  },
  {
   "cell_type": "markdown",
   "metadata": {},
   "source": [
    "3.5 Проверьте, содержит ли столбец `n_steps` пропуски. Если нет, то преобразуйте его к целочисленному типу и сохраните результаты в файл `recipes_sample_with_filled_nsteps.csv`"
   ]
  },
  {
   "cell_type": "code",
   "execution_count": null,
   "metadata": {
    "scrolled": true
   },
   "outputs": [],
   "source": [
    "missing_n_steps_indices = recipes['n_steps'].isna()\n",
    "missing_n_steps_indices"
   ]
  },
  {
   "cell_type": "code",
   "execution_count": null,
   "metadata": {},
   "outputs": [],
   "source": [
    "for elem in missing_n_steps_indices:\n",
    "    if elem is False:\n",
    "        recipes['n_steps'] = recipes['n_steps'].astype(int)\n",
    "    else:\n",
    "        print('Столбец содержит пропуски')\n",
    "\n",
    "recipes.to_csv('recipes_sample_with_filled_nsteps.csv', index=False)"
   ]
  },
  {
   "cell_type": "code",
   "execution_count": null,
   "metadata": {},
   "outputs": [],
   "source": []
  }
 ],
 "metadata": {
  "kernelspec": {
   "display_name": "Python 3 (ipykernel)",
   "language": "python",
   "name": "python3"
  },
  "language_info": {
   "codemirror_mode": {
    "name": "ipython",
    "version": 3
   },
   "file_extension": ".py",
   "mimetype": "text/x-python",
   "name": "python",
   "nbconvert_exporter": "python",
   "pygments_lexer": "ipython3",
   "version": "3.9.12"
  }
 },
 "nbformat": 4,
 "nbformat_minor": 4
}
