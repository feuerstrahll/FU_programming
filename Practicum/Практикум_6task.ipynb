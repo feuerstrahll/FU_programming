{
 "cells": [
  {
   "cell_type": "code",
   "execution_count": 3,
   "id": "bfd9940b77e2300",
   "metadata": {
    "ExecuteTime": {
     "end_time": "2024-04-22T11:02:40.762441Z",
     "start_time": "2024-04-22T11:02:39.639501Z"
    }
   },
   "outputs": [],
   "source": [
    "import matplotlib.pyplot as plt\n",
    "\n",
    "import math as m\n",
    "import itertools as it\n",
    "import functools as ft\n",
    "from shapely.geometry import Polygon\n",
    "from sympy import Point\n",
    "\n",
    "from copy import copy\n",
    "from typing import Tuple, Iterable, Union"
   ]
  },
  {
   "cell_type": "markdown",
   "id": "f7b1be9e4f142116",
   "metadata": {},
   "source": [
    "# Базовая часть\n",
    "### Задание 1"
   ]
  },
  {
   "cell_type": "code",
   "execution_count": 137,
   "id": "82e2b7e5-1aa7-43c5-ba86-21d1a86eaecf",
   "metadata": {
    "ExecuteTime": {
     "end_time": "2024-04-22T11:02:40.885438Z",
     "start_time": "2024-04-22T11:02:40.763447Z"
    }
   },
   "outputs": [
    {
     "data": {
      "image/png": "[encoded data removed]",
      "text/plain": [
       "<Figure size 432x288 with 1 Axes>"
      ]
     },
     "metadata": {
      "needs_background": "light"
     },
     "output_type": "display_data"
    }
   ],
   "source": [
    "from typing import Iterable, Tuple, Union\n",
    "import matplotlib.pyplot as plt\n",
    "\n",
    "def draw_polygons(coordinates: Iterable[Iterable[Tuple[float, float]]], \n",
    "                  x_limit: Tuple[float, float] = (-15, 15), \n",
    "                  y_limit: Tuple[float, float] = (-15, 15)) -> None:\n",
    "    # Функция для отрисовки многоугольников по заданным координатам\n",
    "    for figure in coordinates:  # Перебираем каждый многоугольник в списке координат\n",
    "        x, y = zip(*figure)  # Разделяем координаты x и y для текущего многоугольника\n",
    "        plt.fill(x, y, color='red')  # Заполняем многоугольник зеленым цветом\n",
    "\n",
    "    ax = plt.gca()  # Получаем текущие оси графика\n",
    "    ax.spines['left'].set_position('zero')  # Устанавливаем левую границу на ось Y в начало координат\n",
    "    ax.spines['bottom'].set_position('zero')  # Устанавливаем нижнюю границу на ось X в начало координат\n",
    "    ax.spines['right'].set_color('none')  # Убираем правую границу осей\n",
    "    ax.spines['top'].set_color('none')  # Убираем верхнюю границу осей\n",
    "\n",
    "    plt.xlim(x_limit)  # Устанавливаем пределы по оси X\n",
    "    plt.ylim(y_limit)  # Устанавливаем пределы по оси Y\n",
    "\n",
    "# Пример использования\n",
    "coord = (\n",
    "    ((-5, 0), (-6, 2), (-3, 2), (-4, 0)),  # Координаты первого многоугольника\n",
    "    ((-3, -1), (-1, 1), (2, 1), (1, -1)),  # Координаты второго многоугольника\n",
    "    ((2, 0), (5, 1), (7, 0))  # Координаты третьего многоугольника\n",
    ")\n",
    "\n",
    "draw_polygons(coord, x_limit=(-15, 15), y_limit=(-15, 15))  # Вызываем функцию для отрисовки многоугольников с указанными пределами\n",
    "\n"
   ]
  },
  {
   "cell_type": "markdown",
   "id": "763a42598447a339",
   "metadata": {},
   "source": [
    "### Задание 2"
   ]
  },
  {
   "cell_type": "code",
   "execution_count": 220,
   "id": "8bedf498-909c-4881-b45e-28054c9cac79",
   "metadata": {
    "ExecuteTime": {
     "end_time": "2024-04-22T11:02:40.889855Z",
     "start_time": "2024-04-22T11:02:40.885438Z"
    }
   },
   "outputs": [
    {
     "data": {
      "image/png": "[encoded data removed]",
      "text/plain": [
       "<Figure size 432x288 with 1 Axes>"
      ]
     },
     "metadata": {
      "needs_background": "light"
     },
     "output_type": "display_data"
    }
   ],
   "source": [
    "def gen_rectangle(length: int = 2, width: int = 2, start: int = -15, count: int = 100) -> Iterable[Tuple]:\n",
    "    # Создаем итератор для генерации координат x1 (начальные x-координаты)\n",
    "    x1 = it.islice(it.count(start=start, step=length), count)\n",
    "    # Создаем итератор для генерации координат x2 (конечные x-координаты)\n",
    "    x2 = it.islice(it.count(start=start - 1, step=length), count)\n",
    "    # Создаем итератор для генерации координат y1 (ширина прямоугольников)\n",
    "    y1 = it.islice(it.repeat(width), count)\n",
    "    # Создаем итератор для генерации координат y2 (нулевая высота прямоугольников)\n",
    "    y2 = it.islice(it.repeat(0), count)\n",
    "\n",
    "    itr = []  # Создаем пустой список для хранения прямоугольников\n",
    "    for _ in range(count):  # Цикл по количеству прямоугольников (count)\n",
    "        _x1, _x2, _y1, _y2 = next(x1), next(x2), next(y1), next(y2)  # Извлекаем следующие значения из итераторов\n",
    "        # Формируем кортеж координат прямоугольника и добавляем его в список\n",
    "        itr.append(((_x1, _y1), (_x2, _y1), (_x2, _y2), (_x1, _y2)))\n",
    "\n",
    "    return iter(itr)  # Возвращаем итератор по списку прямоугольников\n",
    "\n",
    "draw_polygons(gen_rectangle())"
   ]
  },
  {
   "cell_type": "code",
   "execution_count": 219,
   "id": "12afeff5-3775-417e-9070-15530359c659",
   "metadata": {
    "ExecuteTime": {
     "end_time": "2024-04-22T11:02:40.894997Z",
     "start_time": "2024-04-22T11:02:40.890923Z"
    }
   },
   "outputs": [
    {
     "data": {
      "image/png": "[encoded data removed]",
      "text/plain": [
       "<Figure size 432x288 with 1 Axes>"
      ]
     },
     "metadata": {
      "needs_background": "light"
     },
     "output_type": "display_data"
    }
   ],
   "source": [
    "def gen_triangle(length=3, height=3, start=-25, count=100):    \n",
    "    x1 = it.islice(it.count(start, length), count)\n",
    "    # Генерируем координаты x для первой вершины треугольника,\n",
    "    # начиная с заданной начальной координаты и с шагом, равным длине треугольника.\n",
    "    # Используем it.islice для ограничения количества координат заданным числом.\n",
    "    \n",
    "    x2 = it.islice(it.count(start + 1, length), count)\n",
    "    # Генерируем координаты x для второй вершины треугольника,\n",
    "    # начиная с заданной начальной координаты плюс 1 и с тем же шагом, равным длине треугольника.\n",
    "    # Используем it.islice для ограничения количества координат заданным числом.\n",
    "    \n",
    "    x3 = it.islice(it.count(start + 2, length), count)\n",
    "    # Генерируем координаты x для третьей вершины треугольника,\n",
    "    # начиная с заданной начальной координаты плюс 2 и с тем же шагом, равным длине треугольника.\n",
    "    # Используем it.islice для ограничения количества координат заданным числом.\n",
    "    \n",
    "    y1 = it.islice(it.repeat(height), count)\n",
    "    # Генерируем координаты y для верхней грани треугольника,\n",
    "    # повторяя значение высоты треугольника заданное количество раз.\n",
    "    # Используем it.islice для ограничения количества координат заданным числом.\n",
    "    \n",
    "    y2 = it.islice(it.repeat(0), count)\n",
    "    # Генерируем координаты y для основания треугольника,\n",
    "    # повторяя значение 0 заданное количество раз.\n",
    "    # Используем it.islice для ограничения количества координат заданным числом.\n",
    "    \n",
    "    return iter([((x1_, y2_), (x2_, y1_), (x3_, y2_))\n",
    "        for x1_, x2_, x3_, y1_, y2_ in zip(x1, x2, x3, y1, y2)]\n",
    "    )\n",
    "    # Возвращаем итератор, который выдает кортежи с координатами вершин треугольников.\n",
    "    # Используем функцию zip для объединения соответствующих координат x и y в кортежи.\n",
    "    \n",
    "draw_polygons(gen_triangle())"
   ]
  },
  {
   "cell_type": "code",
   "execution_count": 221,
   "id": "30c94f18-8cc4-449c-8cdf-86d5674a2ddc",
   "metadata": {
    "ExecuteTime": {
     "end_time": "2024-04-22T11:02:40.901476Z",
     "start_time": "2024-04-22T11:02:40.894997Z"
    }
   },
   "outputs": [
    {
     "data": {
      "image/png": "[encoded data removed]",
      "text/plain": [
       "<Figure size 432x288 with 1 Axes>"
      ]
     },
     "metadata": {
      "needs_background": "light"
     },
     "output_type": "display_data"
    }
   ],
   "source": [
    "def gen_hexagon(length: int = 5, height: int = 5, start: int = -15, count: int = 100) -> Iterable[Tuple]:\n",
    "    # Создаем итератор для генерации координат x1 (левая точка верхнего ряда шестиугольника)\n",
    "    x1 = it.islice(it.count(start=start, step=length), count)\n",
    "    # Создаем итератор для генерации координат x2 (левая точка нижнего ряда шестиугольника)\n",
    "    x2 = it.islice(it.count(start=start + 1, step=length), count)\n",
    "    # Создаем итератор для генерации координат x3 (правая точка нижнего ряда шестиугольника)\n",
    "    x3 = it.islice(it.count(start=start + 3, step=length), count)\n",
    "    # Создаем итератор для генерации координат x4 (правая точка верхнего ряда шестиугольника)\n",
    "    x4 = it.islice(it.count(start=start + 4, step=length), count)\n",
    "\n",
    "    # Создаем итератор для генерации значений y1 (высота верхнего ряда шестиугольника)\n",
    "    y1_ = it.islice(it.repeat(height), count)\n",
    "    # Создаем итератор для генерации значений y2 (нулевая высота, используется для основания шестиугольника)\n",
    "    y2_ = it.islice(it.repeat(0), count)\n",
    "    # Создаем итератор для генерации значений y3 (средняя высота шестиугольника, на половину меньше высоты)\n",
    "    y3_ = iter([i / 2 for i in copy(y1_)])\n",
    "\n",
    "    itr = []  # Создаем пустой список для хранения кортежей координат шестиугольников\n",
    "    for _ in range(count):  # Цикл по количеству шестиугольников (count)\n",
    "        # Извлекаем следующие значения из итераторов для формирования кортежа координат шестиугольника\n",
    "        _x1, _x2, _x3, _x4 = next(x1), next(x2), next(x3), next(x4)\n",
    "        _y1, _y2, _y3 = next(y1_), next(y2_), next(y3_)\n",
    "        # Формируем кортеж координат шестиугольника и добавляем его в список\n",
    "        itr.append(((_x1, _y3), (_x2, _y1), (_x3, _y1), (_x4, _y3), (_x3, _y2), (_x2, _y2)))\n",
    "\n",
    "    # Возвращаем итератор по списку `itr` в качестве результата функции\n",
    "    return iter(itr)\n",
    "\n",
    "draw_polygons(gen_hexagon())"
   ]
  },
  {
   "cell_type": "code",
   "execution_count": 41,
   "id": "11d5d231-95be-4950-8c3f-631384c1fa3f",
   "metadata": {
    "ExecuteTime": {
     "end_time": "2024-04-22T11:02:40.997827Z",
     "start_time": "2024-04-22T11:02:40.902486Z"
    }
   },
   "outputs": [
    {
     "data": {
      "image/png": "[encoded data removed]",
      "text/plain": [
       "<Figure size 432x288 with 1 Axes>"
      ]
     },
     "metadata": {
      "needs_background": "light"
     },
     "output_type": "display_data"
    }
   ],
   "source": [
    "draw_polygons(gen_rectangle(start=8, count=2))\n",
    "draw_polygons(gen_hexagon(start=-7, count=3))\n",
    "draw_polygons(gen_triangle(start=-12, count=2))"
   ]
  },
  {
   "cell_type": "markdown",
   "id": "99e9c5b580e38243",
   "metadata": {},
   "source": [
    "### Задание 3\n"
   ]
  },
  {
   "cell_type": "code",
   "execution_count": 42,
   "id": "a05b7741-15d9-48d5-9c77-9131107f8cf7",
   "metadata": {
    "ExecuteTime": {
     "end_time": "2024-04-22T11:02:41.001877Z",
     "start_time": "2024-04-22T11:02:40.997827Z"
    }
   },
   "outputs": [],
   "source": [
    "def tr_translate(coordinates: Iterable[Tuple], move_up: int = 10, move_sideways: int = 2) -> Iterable[Tuple]:\n",
    "    fig = []  # Создаем пустой список для хранения новых координат\n",
    "\n",
    "    for figure in coordinates:  # Цикл по каждой фигуре (многоугольнику) в переданных координатах\n",
    "        x, y = zip(figure)  # Разделяем координаты x и y для текущей фигуры\n",
    "        y = tuple(_y + move_up for _y in y)  # Перемещаем все y-координаты вверх на значение `move_up` и сохраняем в кортеж\n",
    "        x = tuple(_x + move_sideways for _x in x)  # Перемещаем все x-координаты в сторону на значение `move_sideways` и сохраняем в кортеж\n",
    "\n",
    "        for x, y in zip(x, y):  # Цикл по парам перемещенных координат x и y\n",
    "            fig.append((x, y))  # Добавляем новую координату (x, y) в список `fig`\n",
    "\n",
    "    return fig  # Возвращаем список новых координат"
   ]
  },
  {
   "cell_type": "code",
   "execution_count": 43,
   "id": "022e4105-1ac3-4967-9f4b-5f7fea74c8c9",
   "metadata": {
    "ExecuteTime": {
     "end_time": "2024-04-22T11:02:41.194392Z",
     "start_time": "2024-04-22T11:02:41.001877Z"
    }
   },
   "outputs": [
    {
     "data": {
      "image/png": "[encoded data removed]",
      "text/plain": [
       "<Figure size 432x288 with 1 Axes>"
      ]
     },
     "metadata": {
      "needs_background": "light"
     },
     "output_type": "display_data"
    }
   ],
   "source": [
    "draw_polygons(map(tr_translate, gen_hexagon()))"
   ]
  },
  {
   "cell_type": "code",
   "execution_count": 44,
   "id": "5951f29e5b2b762",
   "metadata": {
    "ExecuteTime": {
     "end_time": "2024-04-22T11:02:41.198108Z",
     "start_time": "2024-04-22T11:02:41.194392Z"
    }
   },
   "outputs": [],
   "source": [
    "def tr_rotate(coordinates: Iterable[Tuple], angle: int = -45) -> Iterable[Tuple]:\n",
    "    # Вложенная функция для поворота точки на заданный угол\n",
    "    def rotate_point(point, angle):\n",
    "        x, y = point  # Разделение координат x и y точки\n",
    "        cos = m.cos(angle)  # Вычисление косинуса угла (в радианах)\n",
    "        sin = m.sin(angle)  # Вычисление синуса угла (в радианах)\n",
    "        new_x = x * cos - y * sin  # Вычисление новой x-координаты после поворота\n",
    "        new_y = x * sin + y * cos  # Вычисление новой y-координаты после поворота\n",
    "        return new_x, new_y  # Возвращаем новую координату после поворота\n",
    "\n",
    "    radians = m.radians(angle)  # Преобразуем угол из градусов в радианы\n",
    "\n",
    "    # Применяем функцию rotate_point ко всем точкам в переданных координатах\n",
    "    return [rotate_point(point, radians) for point in coordinates]"
   ]
  },
  {
   "cell_type": "code",
   "execution_count": 45,
   "id": "132550b94166e818",
   "metadata": {
    "ExecuteTime": {
     "end_time": "2024-04-22T11:02:41.348578Z",
     "start_time": "2024-04-22T11:02:41.199119Z"
    }
   },
   "outputs": [
    {
     "data": {
      "image/png": "[encoded data removed]",
      "text/plain": [
       "<Figure size 432x288 with 1 Axes>"
      ]
     },
     "metadata": {
      "needs_background": "light"
     },
     "output_type": "display_data"
    }
   ],
   "source": [
    "draw_polygons(map(tr_rotate, gen_triangle()))"
   ]
  },
  {
   "cell_type": "code",
   "execution_count": 46,
   "id": "39bdab60e823794c",
   "metadata": {
    "ExecuteTime": {
     "end_time": "2024-04-22T11:02:41.352853Z",
     "start_time": "2024-04-22T11:02:41.348663Z"
    }
   },
   "outputs": [],
   "source": [
    "def tr_symmetry(coordinates: Iterable[Tuple]) -> Iterable[Tuple]:\n",
    "    # Применяем частичное применение функции tr_translate с заданными смещениями к координатам\n",
    "    itr = map(ft.partial(tr_translate, move_up=-8, move_sideways=1), [coordinates])\n",
    "    # Применяем частичное применение функции tr_rotate с углом поворота 180 градусов к результатам tr_translate\n",
    "    result = [i for i in map(ft.partial(tr_rotate, angle=180), itr)][0]\n",
    "    # Возвращаем результат первого элемента полученного списка\n",
    "    return result"
   ]
  },
  {
   "cell_type": "code",
   "execution_count": 47,
   "id": "6bd74ea05caa1fa5",
   "metadata": {
    "ExecuteTime": {
     "end_time": "2024-04-22T11:02:41.498581Z",
     "start_time": "2024-04-22T11:02:41.353865Z"
    }
   },
   "outputs": [
    {
     "data": {
      "image/png": "[encoded data removed]",
      "text/plain": [
       "<Figure size 432x288 with 1 Axes>"
      ]
     },
     "metadata": {
      "needs_background": "light"
     },
     "output_type": "display_data"
    }
   ],
   "source": [
    "draw_polygons(map(tr_symmetry, gen_triangle()))"
   ]
  },
  {
   "cell_type": "code",
   "execution_count": 48,
   "id": "bcf66ab0596bdc4d",
   "metadata": {
    "ExecuteTime": {
     "end_time": "2024-04-22T11:02:41.502736Z",
     "start_time": "2024-04-22T11:02:41.499593Z"
    }
   },
   "outputs": [],
   "source": [
    "def tr_homothety(coordinates: Iterable[Tuple], k=5) -> Iterable[Tuple]:\n",
    "    fig = []  # Создаем пустой список для хранения новых координат\n",
    "\n",
    "    for figure in coordinates:  # Цикл по каждой фигуре (многоугольнику) в переданных координатах\n",
    "        x, y = zip(figure)  # Разделяем координаты x и y для текущей фигуры\n",
    "        \n",
    "        x_ = tuple(_x * k for _x in x)  # Создаем новый кортеж x-координат, умножая каждую координату на коэффициент k\n",
    "        y_ = tuple(_y * k for _y in y)  # Создаем новый кортеж y-координат, умножая каждую координату на коэффициент k\n",
    "        \n",
    "        for x, y in zip(x_, y_):  # Цикл по парам новых координат x и y\n",
    "            fig.append(tuple((x, y)))  # Добавляем новую координату (x, y) в список fig\n",
    "\n",
    "    return fig  # Возвращаем список новых координат после гомотетии"
   ]
  },
  {
   "cell_type": "code",
   "execution_count": 49,
   "id": "bd94e44867baa1db",
   "metadata": {
    "ExecuteTime": {
     "end_time": "2024-04-22T11:02:41.642963Z",
     "start_time": "2024-04-22T11:02:41.503744Z"
    }
   },
   "outputs": [
    {
     "data": {
      "image/png": "[encoded data removed]",
      "text/plain": [
       "<Figure size 432x288 with 1 Axes>"
      ]
     },
     "metadata": {
      "needs_background": "light"
     },
     "output_type": "display_data"
    }
   ],
   "source": [
    "draw_polygons(map(tr_homothety, gen_triangle()))"
   ]
  },
  {
   "cell_type": "markdown",
   "id": "22334fed65a1ba09",
   "metadata": {},
   "source": [
    "### Задание 4"
   ]
  },
  {
   "cell_type": "code",
   "execution_count": 50,
   "id": "58929a017d77a264",
   "metadata": {
    "ExecuteTime": {
     "end_time": "2024-04-22T11:02:41.888708Z",
     "start_time": "2024-04-22T11:02:41.642963Z"
    }
   },
   "outputs": [
    {
     "data": {
      "image/png": "[encoded data removed]",
      "text/plain": [
       "<Figure size 432x288 with 1 Axes>"
      ]
     },
     "metadata": {
      "needs_background": "light"
     },
     "output_type": "display_data"
    }
   ],
   "source": [
    "draw_polygons(map(tr_rotate, map(tr_translate, gen_rectangle(length=3, width=1))))\n",
    "draw_polygons(map(tr_rotate, map(ft.partial(tr_translate, move_up=2), gen_rectangle(length=3, width=1))))\n",
    "draw_polygons(map(tr_rotate, map(ft.partial(tr_translate, move_up=6), gen_rectangle(length=3, width=1))))"
   ]
  },
  {
   "cell_type": "code",
   "execution_count": 51,
   "id": "8b8eafd9e4de4fef",
   "metadata": {
    "ExecuteTime": {
     "end_time": "2024-04-22T11:02:42.081699Z",
     "start_time": "2024-04-22T11:02:41.889716Z"
    }
   },
   "outputs": [
    {
     "data": {
      "image/png": "[encoded data removed]",
      "text/plain": [
       "<Figure size 432x288 with 1 Axes>"
      ]
     },
     "metadata": {
      "needs_background": "light"
     },
     "output_type": "display_data"
    }
   ],
   "source": [
    "draw_polygons(map(tr_rotate, gen_rectangle()))\n",
    "draw_polygons(map(ft.partial(tr_rotate, angle=-80), map(tr_translate, gen_rectangle())))"
   ]
  },
  {
   "cell_type": "code",
   "execution_count": 52,
   "id": "97299cd51447ce31",
   "metadata": {
    "ExecuteTime": {
     "end_time": "2024-04-22T11:02:42.270153Z",
     "start_time": "2024-04-22T11:02:42.081699Z"
    }
   },
   "outputs": [
    {
     "data": {
      "image/png": "[encoded data removed]",
      "text/plain": [
       "<Figure size 432x288 with 1 Axes>"
      ]
     },
     "metadata": {
      "needs_background": "light"
     },
     "output_type": "display_data"
    }
   ],
   "source": [
    "draw_polygons(gen_triangle())\n",
    "draw_polygons(map(tr_symmetry, gen_triangle()))"
   ]
  },
  {
   "cell_type": "code",
   "execution_count": 144,
   "id": "7d87faa3e7cac18b",
   "metadata": {
    "ExecuteTime": {
     "end_time": "2024-04-22T11:02:42.273679Z",
     "start_time": "2024-04-22T11:02:42.270153Z"
    }
   },
   "outputs": [],
   "source": [
    "def draw_homothety(coordinates: Iterable[Tuple], n) -> None:\n",
    "    if n == 0: return\n",
    "    coord = list(coordinates)\n",
    "    draw_polygons(coord)\n",
    "    coord = map(tr_homothety, coord)\n",
    "    draw_homothety(coord, n - 1)"
   ]
  },
  {
   "cell_type": "code",
   "execution_count": 147,
   "id": "dfbf5445550cb48a",
   "metadata": {
    "ExecuteTime": {
     "end_time": "2024-04-22T11:02:42.491955Z",
     "start_time": "2024-04-22T11:02:42.273679Z"
    }
   },
   "outputs": [
    {
     "data": {
      "text/plain": [
       "(-100.0, 100.0)"
      ]
     },
     "execution_count": 147,
     "metadata": {},
     "output_type": "execute_result"
    },
    {
     "data": {
      "image/png": "[encoded data removed]",
      "text/plain": [
       "<Figure size 432x288 with 1 Axes>"
      ]
     },
     "metadata": {
      "needs_background": "light"
     },
     "output_type": "display_data"
    }
   ],
   "source": [
    "coord = iter((\n",
    "    ((1, 2), (2, 4), (4, 2), (2, 1)),\n",
    "    ((-1, -2), (-2, -4), (-4, -2), (-2, -1))\n",
    "))\n",
    "\n",
    "draw_homothety(coord, 5)\n",
    "\n",
    "plt.xlim(-100, 100)\n",
    "plt.ylim(-100, 100)"
   ]
  },
  {
   "cell_type": "markdown",
   "id": "913e545d12dc31ea",
   "metadata": {},
   "source": [
    "### Задание 5\n",
    "сложность 2"
   ]
  },
  {
   "cell_type": "code",
   "execution_count": 200,
   "id": "2536344208dbd685",
   "metadata": {
    "ExecuteTime": {
     "end_time": "2024-04-22T11:02:42.495559Z",
     "start_time": "2024-04-22T11:02:42.492966Z"
    }
   },
   "outputs": [],
   "source": [
    "def flt_convex_polygon(coordinates):\n",
    "    # Создаем многоугольник из заданных вершин\n",
    "    polygon = Polygon(coordinates)\n",
    "    # Сравниваем многоугольник с его выпуклой оболочкой (convex_hull.equals)\n",
    "    # Если True, то многоугольник является выпуклым\n",
    "    if polygon.convex_hull.equals(polygon):\n",
    "        return True\n",
    "    return False"
   ]
  },
  {
   "cell_type": "code",
   "execution_count": 202,
   "id": "2d8242587bda4e9e",
   "metadata": {
    "ExecuteTime": {
     "end_time": "2024-04-22T11:02:42.657483Z",
     "start_time": "2024-04-22T11:02:42.495559Z"
    }
   },
   "outputs": [
    {
     "data": {
      "image/png": "[encoded data removed]",
      "text/plain": [
       "<Figure size 432x288 with 1 Axes>"
      ]
     },
     "metadata": {
      "needs_background": "light"
     },
     "output_type": "display_data"
    }
   ],
   "source": [
    "coord = iter((\n",
    "    # Создаем итератор для перебора фигур\n",
    "    ((0, 0), (2, 0), (2, 2), (1, 3), (0, 2)),\n",
    "    # Координаты вершин первой фигуры: выпуклого многоугольника\n",
    "    ((-5, 0), (-3, 0), (-4, 1), (-3, 2), (-5, 2))))\n",
    "    # Координаты вершин второй фигуры: невыпуклого многоугольника\n",
    "draw_polygons(filter(flt_convex_polygon, coord))"
   ]
  },
  {
   "cell_type": "code",
   "execution_count": 203,
   "id": "64629e58af4a8e6c",
   "metadata": {
    "ExecuteTime": {
     "end_time": "2024-04-22T11:02:42.661051Z",
     "start_time": "2024-04-22T11:02:42.658490Z"
    }
   },
   "outputs": [],
   "source": [
    "def flt_angle_point(coordinates, point_m = (0, 0)) :\n",
    "    # Функция flt_angle_point принимает список координат (coordinates) и необязательный аргумент - точку (point_m), \n",
    "    # которая по умолчанию равна (0, 0). Функция проверяет, содержится ли точка point_m в списке coordinates (в углах).\n",
    "    \n",
    "    for point in coordinates:\n",
    "        # Для каждой точки в списке координат...\n",
    "        \n",
    "        if point == point_m:\n",
    "            # ...проверяем, равна ли эта точка точке point_m.\n",
    "            \n",
    "            return True\n",
    "            # Если да, возвращаем True, что означает наличие точки point_m в списке coordinates.\n",
    "            \n",
    "    return False\n",
    "    # Если цикл завершился, и не было найдено соответствия точке point_m в списке coordinates, \n",
    "    # возвращаем False, что означает отсутствие точки point_m в списке coordinates."
   ]
  },
  {
   "cell_type": "code",
   "execution_count": 227,
   "id": "992f02271f11774f",
   "metadata": {
    "ExecuteTime": {
     "end_time": "2024-04-22T11:02:42.797011Z",
     "start_time": "2024-04-22T11:02:42.661051Z"
    }
   },
   "outputs": [
    {
     "data": {
      "image/png": "[encoded data removed]",
      "text/plain": [
       "<Figure size 432x288 with 1 Axes>"
      ]
     },
     "metadata": {
      "needs_background": "light"
     },
     "output_type": "display_data"
    }
   ],
   "source": [
    "coord = iter((\n",
    "    # Создаем итератор для перебора фигур\n",
    "    ((-5, -2), (-2, 2), (0, 0)),\n",
    "    # Координаты вершин первой фигуры: имеющей точку (0,0)\n",
    "    ((2, 0), (0, 1), (3, 1), (2, 1))))\n",
    "    # Координаты вершин второй фигуры: не имеющей точку (0,0)\n",
    "draw_polygons(filter(flt_angle_point, coord))"
   ]
  },
  {
   "cell_type": "code",
   "execution_count": 211,
   "id": "6417ba05b36d5a79",
   "metadata": {
    "ExecuteTime": {
     "end_time": "2024-04-22T11:02:42.800609Z",
     "start_time": "2024-04-22T11:02:42.797011Z"
    }
   },
   "outputs": [],
   "source": [
    "def flt_square(coordinates, area = 2):\n",
    "    # Функция flt_square принимает список координат (coordinates) и необязательный порог площади (area), \n",
    "    # который по умолчанию равен 2.\n",
    "    \n",
    "    return True if Polygon(coordinates).area > area else False\n",
    "    # Создаем объект Polygon из библиотеки shapely, используя переданные координаты.\n",
    "    # Проверяем, больше ли площадь этой фигуры, чем заданный порог.\n",
    "    # Если да, возвращаем True, иначе возвращаем False.\n"
   ]
  },
  {
   "cell_type": "code",
   "execution_count": 214,
   "id": "2eb9effb",
   "metadata": {},
   "outputs": [
    {
     "data": {
      "image/png": "[encoded data removed]",
      "text/plain": [
       "<Figure size 432x288 with 1 Axes>"
      ]
     },
     "metadata": {
      "needs_background": "light"
     },
     "output_type": "display_data"
    }
   ],
   "source": [
    "coord = iter((\n",
    "    # Создаем итератор для перебора фигур\n",
    "    ((-4, 0), (-2, 2), (0, 0)),\n",
    "    # Координаты вершин первой фигуры: площадь > 2\n",
    "    ((2, 0), (3, 0), (3, 1), (2, 1))))\n",
    "    # Координаты вершин второй фигуры: площадь <= 2\n",
    "draw_polygons(filter(flt_square, coord))"
   ]
  },
  {
   "cell_type": "code",
   "execution_count": 215,
   "id": "184c5c12",
   "metadata": {},
   "outputs": [],
   "source": [
    "def flt_short_side(coordinates, side=1):\n",
    "    # Функция flt_short_side принимает список координат (coordinates) и необязательный аргумент - минимальную длину стороны (side), \n",
    "    # которая по умолчанию равна 1.\n",
    "    \n",
    "    shortest_side = None\n",
    "    # Инициализируем переменную shortest_side с уникальным значением, чтобы обеспечить ее обновление на более короткую сторону.\n",
    "    \n",
    "    for fp in coordinates:\n",
    "        # Перебираем каждую точку в списке координат.\n",
    "        \n",
    "        x1, y1 = fp\n",
    "        # Извлекаем координаты первой точки.\n",
    "        \n",
    "        for sp in coordinates:\n",
    "            # Перебираем каждую точку второй раз, чтобы сравнить все возможные комбинации точек.\n",
    "            \n",
    "            x2, y2 = sp\n",
    "            # Извлекаем координаты второй точки.\n",
    "            \n",
    "            if (x1, y1) == (x2, y2): continue\n",
    "            # Пропускаем точки, если они совпадают.\n",
    "            \n",
    "            side_ = (((x1 - x2) ** 2) + ((y1 - y2) ** 2)) ** 0.5\n",
    "            # Вычисляем длину стороны между двумя точками по формуле расстояния в 2D пространстве.\n",
    "            \n",
    "            if shortest_side == None:\n",
    "                shortest_side = side_\n",
    "            # Если это первая найденная сторона, устанавливаем ее как самую короткую.\n",
    "            \n",
    "            if side_ < shortest_side:\n",
    "                shortest_side = side_\n",
    "            # Обновляем переменную shortest_side, если находим более короткую сторону.\n",
    "    if shortest_side < side:\n",
    "        # Если самая короткая сторона меньше, чем заданная минимальная сторона, возвращаем True.\n",
    "        return True\n",
    "    # В противном случае возвращаем False.\n",
    "    return False"
   ]
  },
  {
   "cell_type": "code",
   "execution_count": 216,
   "id": "aa358f8f",
   "metadata": {},
   "outputs": [
    {
     "data": {
      "image/png": "[encoded data removed]",
      "text/plain": [
       "<Figure size 432x288 with 1 Axes>"
      ]
     },
     "metadata": {
      "needs_background": "light"
     },
     "output_type": "display_data"
    }
   ],
   "source": [
    "coord = iter((\n",
    "    # Создаем итератор для перебора фигур\n",
    "    ((-4, 0), (-2, 2), (0, 0)),\n",
    "    # Координаты вершин первой фигуры: все стороны > 1\n",
    "    ((-2, 0), (-1, 0), (-1, 0.5), (-2, 0.5))))\n",
    "    # Координаты вершин второй фигуры: одна из сторон < 1\n",
    "draw_polygons(filter(flt_short_side, coord))"
   ]
  },
  {
   "cell_type": "code",
   "execution_count": 156,
   "id": "e1295cd40547b4d3",
   "metadata": {
    "ExecuteTime": {
     "end_time": "2024-04-22T11:02:43.093307Z",
     "start_time": "2024-04-22T11:02:43.090020Z"
    }
   },
   "outputs": [],
   "source": [
    "def flt_point_inside(coordinates: Tuple[Tuple], point: Tuple = (5, 0)) -> bool:\n",
    "    # Проверяем, является ли полигон выпуклым\n",
    "    if flt_convex_polygon(coordinates):\n",
    "        # Разделяем координаты полигона на отдельные списки x и y\n",
    "        x, y = zip(*coordinates)\n",
    "        # Находим максимальные и минимальные значения координат x и y\n",
    "        x_max, x_min = max(x), min(x)\n",
    "        y_max, y_min = max(y), min(y)\n",
    "        # Проверяем, находится ли заданная точка внутри прямоугольника, описывающего полигон\n",
    "        return x_min <= point[0] <= x_max and y_min <= point[1] <= y_max\n",
    "    # Если полигон не выпуклый, возвращаем False\n",
    "    return False\n"
   ]
  },
  {
   "cell_type": "code",
   "execution_count": 157,
   "id": "91839746ed45f0cc",
   "metadata": {
    "ExecuteTime": {
     "end_time": "2024-04-22T11:02:43.204243Z",
     "start_time": "2024-04-22T11:02:43.094323Z"
    }
   },
   "outputs": [
    {
     "data": {
      "image/png": "[encoded data removed]",
      "text/plain": [
       "<Figure size 432x288 with 1 Axes>"
      ]
     },
     "metadata": {
      "needs_background": "light"
     },
     "output_type": "display_data"
    }
   ],
   "source": [
    "draw_polygons(filter(flt_point_inside, gen_triangle()))"
   ]
  },
  {
   "cell_type": "code",
   "execution_count": 222,
   "id": "b3ba414b43c2afb",
   "metadata": {
    "ExecuteTime": {
     "end_time": "2024-04-22T11:02:43.208491Z",
     "start_time": "2024-04-22T11:02:43.204243Z"
    }
   },
   "outputs": [],
   "source": [
    "def flt_polygon_angles_inside(coordinates, polygon=((0, 0), (0, 1), (1, 1), (1, 0))):\n",
    "    # Функция flt_polygon_angles_inside принимает список координат (coordinates) и необязательный аргумент - многоугольник (polygon), \n",
    "    # который по умолчанию является квадратом с координатами (0, 0), (0, 1), (1, 1), (1, 0).\n",
    "    \n",
    "    if flt_convex_polygon(coordinates):\n",
    "        # Проверяем, является ли фигура, образованная переданными координатами, выпуклым многоугольником.\n",
    "        \n",
    "        x, y = zip(*coordinates)\n",
    "        # Разделяем координаты x и y из списка координат.\n",
    "        \n",
    "        x_max, x_min = max(x), min(x)\n",
    "        y_max, y_min = max(y), min(y)\n",
    "        # Находим максимальные и минимальные значения координат x и y.\n",
    "        \n",
    "        for point in polygon:\n",
    "            # Для каждой точки в переданном многоугольнике...\n",
    "            \n",
    "            if x_min <= point[0] <= x_max and y_min <= point[1] <= y_max:\n",
    "                # Проверяем, находится ли эта точка внутри прямоугольной области, ограниченной координатами многоугольника.\n",
    "                \n",
    "                return True\n",
    "                # Если нашли хотя бы одну точку из многоугольника внутри ограничивающего прямоугольника, возвращаем True.\n",
    "                \n",
    "    return False\n",
    "    # Если фигура не является выпуклым многоугольником или не нашли ни одной точки из многоугольника внутри прямоугольника, возвращаем False."
   ]
  },
  {
   "cell_type": "code",
   "execution_count": 223,
   "id": "e787edda0d01ceb",
   "metadata": {
    "ExecuteTime": {
     "end_time": "2024-04-22T11:02:43.366738Z",
     "start_time": "2024-04-22T11:02:43.208491Z"
    }
   },
   "outputs": [
    {
     "data": {
      "image/png": "[encoded data removed]",
      "text/plain": [
       "<Figure size 432x288 with 1 Axes>"
      ]
     },
     "metadata": {
      "needs_background": "light"
     },
     "output_type": "display_data"
    }
   ],
   "source": [
    "draw_polygons(filter(flt_polygon_angles_inside, gen_triangle()))"
   ]
  },
  {
   "cell_type": "markdown",
   "id": "2c6c9af977ef1528",
   "metadata": {},
   "source": [
    "### Задание 7\n",
    "1 сложность\n"
   ]
  },
  {
   "cell_type": "code",
   "execution_count": 191,
   "id": "26e7f31acaa7ea1c",
   "metadata": {
    "ExecuteTime": {
     "end_time": "2024-04-22T11:47:01.698924Z",
     "start_time": "2024-04-22T11:47:01.689957Z"
    }
   },
   "outputs": [],
   "source": [
    "def tr_translate(move_up: int = 2, move_sideways: int = 0):\n",
    "    # Определяем функцию tr_translate с параметрами move_up и move_sideways по умолчанию\n",
    "    def decorator(func):\n",
    "        # Внутренняя функция-декоратор, которая принимает другую функцию func в качестве аргумента\n",
    "        def wrapper(*args, **kwargs):\n",
    "            # Внутренняя функция-обертка, которая будет вызывать оригинальную функцию func\n",
    "            coordinates = func(*args, **kwargs)\n",
    "            # Вызываем оригинальную функцию func с переданными аргументами и получаем координаты фигур\n",
    "            translated_coordinates = []\n",
    "            # Создаем пустой список для хранения сдвинутых координат фигур\n",
    "            for figure in coordinates:\n",
    "                # Итерируемся по каждой фигуре в списке координат\n",
    "                translated_figure = []\n",
    "                # Создаем пустой список для хранения сдвинутых точек текущей фигуры\n",
    "                for x, y in figure:\n",
    "                    # Итерируемся по каждой точке (x, y) в текущей фигуре\n",
    "                    translated_x = x + move_sideways\n",
    "                    # Сдвигаем координату x на значение move_sideways\n",
    "                    translated_y = y + move_up\n",
    "                    # Сдвигаем координату y на значение move_up\n",
    "                    translated_figure.append((translated_x, translated_y))\n",
    "                    # Добавляем сдвинутую точку в список сдвинутой фигуры\n",
    "                translated_coordinates.append(tuple(translated_figure))\n",
    "                # Добавляем сдвинутую фигуру (список точек) в список сдвинутых координат\n",
    "            return translated_coordinates\n",
    "            # Возвращаем список сдвинутых координат фигур\n",
    "        return wrapper\n",
    "        # Возвращаем функцию-обертку\n",
    "    return decorator\n",
    "    # Возвращаем функцию-декоратор\n"
   ]
  },
  {
   "cell_type": "code",
   "execution_count": 193,
   "id": "130b78109362a06a",
   "metadata": {
    "ExecuteTime": {
     "end_time": "2024-04-22T11:51:42.155160Z",
     "start_time": "2024-04-22T11:51:41.888094Z"
    }
   },
   "outputs": [
    {
     "data": {
      "image/png": "[encoded data removed]",
      "text/plain": [
       "<Figure size 432x288 with 1 Axes>"
      ]
     },
     "metadata": {
      "needs_background": "light"
     },
     "output_type": "display_data"
    }
   ],
   "source": [
    "@tr_translate(move_up=2, move_sideways=1)\n",
    "def gen_triangle(length: int = 3, height: int = 5, start: int = -15, count: int = 100) -> Iterable[Tuple]:\n",
    "    x1 = it.islice(it.count(start=start, step=length), count)\n",
    "    x2 = it.islice(it.count(start=start + 1, step=length), count)\n",
    "    x3 = it.islice(it.count(start=start + 2, step=length), count)\n",
    "    y1 = it.islice(it.repeat(height), count)\n",
    "    y2 = it.islice(it.repeat(0), count)\n",
    "\n",
    "    itr = []\n",
    "    for _ in range(count):\n",
    "        _x1, _x2, _x3, _y1, _y2 = next(x1), next(x2), next(x3), next(y1), next(y2)\n",
    "        itr.append(((_x1, _y2), (_x2, _y1), (_x3, _y2)))\n",
    "\n",
    "    return iter(itr)\n",
    "\n",
    "\n",
    "draw_polygons(gen_triangle())"
   ]
  },
  {
   "cell_type": "code",
   "execution_count": 176,
   "id": "664e278fff3fd444",
   "metadata": {
    "ExecuteTime": {
     "end_time": "2024-04-22T11:02:43.807599Z",
     "start_time": "2024-04-22T11:02:43.803298Z"
    }
   },
   "outputs": [],
   "source": [
    "def tr_rotate(angle: int = 60):\n",
    "    # Определяем функцию tr_rotate с параметром angle по умолчанию\n",
    "    def decorator(func):\n",
    "        # Внутренняя функция-декоратор, которая принимает другую функцию func в качестве аргумента\n",
    "        def wrapper(*args, **kwargs):\n",
    "            # Внутренняя функция-обертка, которая будет вызывать оригинальную функцию func\n",
    "            coordinates = func(*args, **kwargs)\n",
    "            # Вызываем оригинальную функцию func с переданными аргументами и получаем координаты фигур\n",
    "            def rotate_point(point, angle):\n",
    "                # Внутренняя функция для вращения точки на заданный угол\n",
    "                x, y = point\n",
    "                cos = m.cos(angle)\n",
    "                sin = m.sin(angle)\n",
    "                new_x = x * cos - y * sin\n",
    "                new_y = x * sin + y * cos\n",
    "                return new_x, new_y\n",
    "            radians = m.radians(angle)\n",
    "            # Переводим угол из градусов в радианы\n",
    "            fig = []\n",
    "            # Создаем пустой список для хранения вращенных фигур\n",
    "            for figure in coordinates:\n",
    "                # Итерируемся по каждой фигуре в списке координат\n",
    "\n",
    "                fig.append([rotate_point(point, radians) for point in figure])\n",
    "                # Вращаем каждую точку фигуры на заданный угол и добавляем в список вращенных фигур\n",
    "            return fig\n",
    "            # Возвращаем список вращенных фигур\n",
    "        return wrapper\n",
    "        # Возвращаем функцию-обертку\n",
    "    return decorator\n",
    "    # Возвращаем функцию-декоратор\n"
   ]
  },
  {
   "cell_type": "code",
   "execution_count": 177,
   "id": "cff1f769eb9eda8d",
   "metadata": {
    "ExecuteTime": {
     "end_time": "2024-04-22T11:02:44.017292Z",
     "start_time": "2024-04-22T11:02:43.807599Z"
    }
   },
   "outputs": [
    {
     "data": {
      "image/png": "[encoded data removed]",
      "text/plain": [
       "<Figure size 432x288 with 1 Axes>"
      ]
     },
     "metadata": {
      "needs_background": "light"
     },
     "output_type": "display_data"
    }
   ],
   "source": [
    "@tr_rotate()\n",
    "def gen_triangle(length: int = 3, height: int = 3, start: int = -15, count: int = 100) -> Iterable[Tuple]:\n",
    "    x1 = it.islice(it.count(start=start, step=length), count)\n",
    "    x2 = it.islice(it.count(start=start + 1, step=length), count)\n",
    "    x3 = it.islice(it.count(start=start + 2, step=length), count)\n",
    "    y1 = it.islice(it.repeat(height), count)\n",
    "    y2 = it.islice(it.repeat(0), count)\n",
    "\n",
    "    itr = []\n",
    "    for _ in range(count):\n",
    "        _x1, _x2, _x3, _y1, _y2 = next(x1), next(x2), next(x3), next(y1), next(y2)\n",
    "        itr.append(((_x1, _y2), (_x2, _y1), (_x3, _y2)))\n",
    "\n",
    "    return iter(itr)\n",
    "\n",
    "\n",
    "draw_polygons(gen_triangle())"
   ]
  },
  {
   "cell_type": "code",
   "execution_count": 173,
   "id": "22dec3a9d26afb6f",
   "metadata": {
    "ExecuteTime": {
     "end_time": "2024-04-22T11:02:44.155926Z",
     "start_time": "2024-04-22T11:02:44.018300Z"
    }
   },
   "outputs": [
    {
     "data": {
      "image/png": "[encoded data removed]",
      "text/plain": [
       "<Figure size 432x288 with 1 Axes>"
      ]
     },
     "metadata": {
      "needs_background": "light"
     },
     "output_type": "display_data"
    }
   ],
   "source": [
    "# Этот код определяет функцию tr_translate, которая принимает итерируемый объект coordinates (например, список кортежей) \n",
    "# и выполняет смещение всех точек в этих кортежах на заданное количество единиц по вертикали (move_up) и горизонтали (move_sideways).\n",
    "def tr_translate(coordinates: Iterable[Tuple], move_up: int = 6, move_sideways: int = 0) -> Iterable[Tuple]:\n",
    "    fig = []  # Создаем пустой список для хранения новых координат фигур\n",
    "    for figure in coordinates:  # Итерируемся по каждой фигуре в переданных координатах\n",
    "        x, y = zip(figure)  # Разделяем координаты x и y для текущей фигуры\n",
    "        y = tuple(_y + move_up for _y in y)  # Смещаем все y-координаты на move_up единиц\n",
    "        x = tuple(_x + move_sideways for _x in x)  # Смещаем все x-координаты на move_sideways единиц\n",
    "        for x, y in zip(x, y):  # Итерируемся по обновленным x и y координатам\n",
    "            fig.append((x, y))  # Добавляем новую кортеж-точку в список новых координат\n",
    "    return fig  # Возвращаем список новых координат\n",
    "\n",
    "\n",
    "# Этот код определяет функцию tr_rotate, которая принимает итерируемый объект coordinates (например, список кортежей)\n",
    "# и выполняет поворот всех точек в этих кортежах на заданный угол (angle) по часовой стрелке.\n",
    "def tr_rotate(coordinates: Iterable[Tuple], angle: int = 30) -> Iterable[Tuple]:\n",
    "    def rotate_point(point, angle):  # Внутренняя функция для поворота одной точки на заданный угол\n",
    "        x, y = point  # Разделяем координаты x и y точки\n",
    "        cos = m.cos(angle)  # Вычисляем косинус угла\n",
    "        sin = m.sin(angle)  # Вычисляем синус угла\n",
    "        new_x = x * cos - y * sin  # Вычисляем новую x-координату после поворота\n",
    "        new_y = x * sin + y * cos  # Вычисляем новую y-координату после поворота\n",
    "        return new_x, new_y  # Возвращаем новую координату точки после поворота\n",
    "\n",
    "    radians = m.radians(angle)  # Переводим угол из градусов в радианы\n",
    "\n",
    "    return [rotate_point(point, radians) for point in coordinates]  # Возвращаем список координат после поворота\n",
    "\n",
    "\n",
    "# Этот код определяет декоратор tr_simmetry, который принимает функцию func в качестве аргумента и возвращает декорированную функцию wrapper.\n",
    "def tr_simmetry(func):\n",
    "    def wrapper():  # Внутренняя функция-обертка, которая будет заменять функцию func\n",
    "        coordinates = func()  # Вызываем функцию func, чтобы получить исходные координаты фигур\n",
    "        itr = map(ft.partial(tr_translate, move_up=-7.5, move_sideways=1), coordinates)  # Применяем смещение к полученным координатам фигур\n",
    "        result = [i for i in map(ft.partial(tr_rotate, angle=180), itr)]  # Поворачиваем полученные координаты на 180 градусов\n",
    "        return result  # Возвращаем результат после применения симметрии\n",
    "\n",
    "    return wrapper  # Возвращаем декорированную функцию wrapper\n",
    "\n",
    "\n",
    "# Этот код определяет функцию gen_triangle, которая генерирует треугольники с заданными параметрами.\n",
    "# Эта функция декорирована с помощью tr_simmetry, что добавляет симметричные преобразования к сгенерированным треугольникам.\n",
    "@tr_simmetry\n",
    "def gen_triangle(length: int = 3, height: int = 3, start: int = -15, count: int = 100) -> Iterable[Tuple]:\n",
    "    x1 = it.islice(it.count(start=start, step=length), count)  # Генерируем последовательность x1\n",
    "    x2 = it.islice(it.count(start=start + 1, step=length), count)  # Генерируем последовательность x2\n",
    "    x3 = it.islice(it.count(start=start + 2, step=length), count)  # Генерируем последовательность x3\n",
    "    y1 = it.islice(it.repeat(height), count)  # Генерируем последовательность y1\n",
    "    y2 = it.islice(it.repeat(0), count)  # Генерируем последовательность y2\n",
    "\n",
    "    itr = []  # Создаем пустой список для хранения координат треугольников\n",
    "    for _ in range(count):  # Цикл по количеству треугольников (count)\n",
    "        _x1, _x2, _x3, _y1, _y2 = next(x1), next(x2), next(x3), next(y1), next(y2)  # Получаем следующие значения из итераторов\n",
    "        itr.append(((_x1, _y2), (_x2, _y1), (_x3, _y2)))  # Формируем кортеж координат треугольника и добавляем его в список\n",
    "\n",
    "    return iter(itr)  # Возвращаем итератор по списку координат треугольников в качестве результата функции\n",
    "\n",
    "\n",
    "draw_polygons(gen_triangle())  # Визуализируем симметричные треугольники после применения всех преобразований\n",
    "\n"
   ]
  },
  {
   "cell_type": "code",
   "execution_count": 165,
   "id": "72a6decfa3fb19fb",
   "metadata": {
    "ExecuteTime": {
     "end_time": "2024-04-22T11:02:44.307039Z",
     "start_time": "2024-04-22T11:02:44.155926Z"
    }
   },
   "outputs": [
    {
     "data": {
      "image/png": "[encoded data removed]",
      "text/plain": [
       "<Figure size 432x288 with 1 Axes>"
      ]
     },
     "metadata": {
      "needs_background": "light"
     },
     "output_type": "display_data"
    }
   ],
   "source": [
    "# Этот код определяет функцию tr_homothety, которая принимает множитель масштабирования k.\n",
    "# Возвращает декоратор decorator, который принимает функцию func в качестве аргумента и возвращает декорированную функцию wrapper.\n",
    "def tr_homothety(k):\n",
    "    def decorator(func):\n",
    "        def wrapper(*args, **kwargs):\n",
    "            coordinates = func(*args, **kwargs)  # Вызываем функцию func с переданными аргументами и получаем координаты\n",
    "            coord = []  # Создаем пустой список для хранения координат после преобразования\n",
    "            for figure in coordinates:  # Итерируемся по каждой фигуре в координатах\n",
    "                polygon = []  # Создаем пустой список для хранения координат текущей фигуры после масштабирования\n",
    "                for fig in figure:  # Итерируемся по каждому многоугольнику в текущей фигуре\n",
    "                    x, y = zip(fig)  # Разделяем координаты x и y для текущего многоугольника\n",
    "                    x_ = tuple(_x * k for _x in x)  # Масштабируем все x-координаты на k\n",
    "                    y_ = tuple(_y * k for _y in y)  # Масштабируем все y-координаты на k\n",
    "                    for x, y in zip(x_, y_):  # Итерируемся по обновленным x и y координатам\n",
    "                        polygon.append(tuple((x, y)))  # Добавляем новую кортеж-точку в список координат после масштабирования\n",
    "                coord.append(tuple(polygon))  # Добавляем новый многоугольник в список координат после масштабирования\n",
    "            return coord  # Возвращаем список координат после масштабирования\n",
    "\n",
    "        return wrapper  # Возвращаем декорированную функцию wrapper\n",
    "\n",
    "    return decorator  # Возвращаем декоратор decorator\n",
    "\n",
    "\n",
    "# Этот код определяет функцию-генератор gen_triangle, которая генерирует треугольники с заданными параметрами.\n",
    "# Функция декорирована с помощью tr_homothety(2), что добавляет масштабирование координат треугольников.\n",
    "@tr_homothety(2)\n",
    "def gen_triangle(length: int = 3, height: int = 3, start: int = -15, count: int = 100) -> Iterable[Tuple]:\n",
    "    x1 = it.islice(it.count(start=start, step=length), count)  # Генерируем последовательность x1\n",
    "    x2 = it.islice(it.count(start=start + 1, step=length), count)  # Генерируем последовательность x2\n",
    "    x3 = it.islice(it.count(start=start + 2, step=length), count)  # Генерируем последовательность x3\n",
    "    y1 = it.islice(it.repeat(height), count)  # Генерируем последовательность y1\n",
    "    y2 = it.islice(it.repeat(0), count)  # Генерируем последовательность y2\n",
    "\n",
    "    itr = []  # Создаем пустой список для хранения координат треугольников\n",
    "    for _ in range(count):  # Цикл по количеству треугольников (count)\n",
    "        _x1, _x2, _x3, _y1, _y2 = next(x1), next(x2), next(x3), next(y1), next(y2)  # Получаем следующие значения из итераторов\n",
    "        itr.append(((_x1, _y2), (_x2, _y1), (_x3, _y2)))  # Формируем кортеж координат треугольника и добавляем его в список\n",
    "\n",
    "    return iter(itr)  # Возвращаем итератор по списку координат треугольников в качестве результата функции\n",
    "\n",
    "\n",
    "draw_polygons(gen_triangle())  # Визуализируем масштабированные треугольники после применения всех преобразований\n"
   ]
  },
  {
   "cell_type": "code",
   "execution_count": 228,
   "id": "2c5b780c1fed7e6f",
   "metadata": {
    "ExecuteTime": {
     "end_time": "2024-04-22T11:02:44.475997Z",
     "start_time": "2024-04-22T11:02:44.307039Z"
    }
   },
   "outputs": [
    {
     "data": {
      "image/png": "[encoded data removed]",
      "text/plain": [
       "<Figure size 432x288 with 1 Axes>"
      ]
     },
     "metadata": {
      "needs_background": "light"
     },
     "output_type": "display_data"
    }
   ],
   "source": [
    "# Определение функции flt_point_inside с аргументом point\n",
    "def flt_point_inside(point):\n",
    "    # Определение декоратора decorator\n",
    "    def decorator(func):\n",
    "        # Определение внутренней функции-обертки wrapper\n",
    "        def wrapper(*args, **kwargs):\n",
    "            # Вызов функции func с переданными аргументами и сохранение результата в переменной coordinates\n",
    "            coordinates = func(*args, **kwargs)\n",
    "            # Инициализация списка для хранения координат всех фигур фигур, в которых находится точка\n",
    "            coord = []\n",
    "            # Инициализация списка для хранения координат фигур, в которых не находится точка\n",
    "            coord_all = []\n",
    "            # Перебор каждой фигуры в координатах\n",
    "            for figure in coordinates:\n",
    "                # Проверка, является ли фигура выпуклым многоугольником\n",
    "                if flt_convex_polygon(figure):\n",
    "                    # Добавление фигуры в список всех фигур\n",
    "                    coord_all.append(figure)\n",
    "                    # Получение координат x и y фигуры\n",
    "                    x, y = zip(*figure)\n",
    "                    # Вычисление максимальных и минимальных координат x и y\n",
    "                    x_max, x_min = max(x), min(x)\n",
    "                    y_max, y_min = max(y), min(y)\n",
    "                    # Проверка, находится ли точка внутри фигуры\n",
    "                    if not (x_min <= point[0] <= x_max and y_min <= point[1] <= y_max):\n",
    "                        # Если точка не находится внутри фигуры, добавляем фигуру в список coord\n",
    "                        coord.append(figure)\n",
    "            # Возврат списка всех фигур, из которых удалены фигуры, в которых находится точка\n",
    "            return list(set(coord_all) - set(coord))\n",
    "\n",
    "        # Возврат внутренней функции-обертки wrapper\n",
    "        return wrapper\n",
    "\n",
    "    # Возврат декоратора decorator\n",
    "    return decorator\n",
    "\n",
    "\n",
    "# здесь,на функцию gen_triangle, которая выводит ленту из треугольников, применен декоратор tr_homothety, которая увиличивает каждую фигуру в этой ленте в 3 раза\n",
    "#gen_triangle - это копия функции из задания 2.2\n",
    "@flt_point_inside(point=(0, 0))\n",
    "def gen_triangle(length=3, height=3, start=-25, count=100):    \n",
    "    x1 = it.islice(it.count(start, length), count)\n",
    "    # Генерируем координаты x для первой вершины треугольника,\n",
    "    # начиная с заданной начальной координаты и с шагом, равным длине треугольника.\n",
    "    # Используем it.islice для ограничения количества координат заданным числом.\n",
    "    \n",
    "    x2 = it.islice(it.count(start + 1, length), count)\n",
    "    # Генерируем координаты x для второй вершины треугольника,\n",
    "    # начиная с заданной начальной координаты плюс 1 и с тем же шагом, равным длине треугольника.\n",
    "    # Используем it.islice для ограничения количества координат заданным числом.\n",
    "    \n",
    "    x3 = it.islice(it.count(start + 2, length), count)\n",
    "    # Генерируем координаты x для третьей вершины треугольника,\n",
    "    # начиная с заданной начальной координаты плюс 2 и с тем же шагом, равным длине треугольника.\n",
    "    # Используем it.islice для ограничения количества координат заданным числом.\n",
    "    \n",
    "    y1 = it.islice(it.repeat(height), count)\n",
    "    # Генерируем координаты y для верхней грани треугольника,\n",
    "    # повторяя значение высоты треугольника заданное количество раз.\n",
    "    # Используем it.islice для ограничения количества координат заданным числом.\n",
    "    \n",
    "    y2 = it.islice(it.repeat(0), count)\n",
    "    # Генерируем координаты y для основания треугольника,\n",
    "    # повторяя значение 0 заданное количество раз.\n",
    "    # Используем it.islice для ограничения количества координат заданным числом.\n",
    "    \n",
    "    return iter([((x1_, y2_), (x2_, y1_), (x3_, y2_))\n",
    "        for x1_, x2_, x3_, y1_, y2_ in zip(x1, x2, x3, y1, y2)]\n",
    "    )\n",
    "    # Возвращаем итератор, который выдает кортежи с координатами вершин треугольников.\n",
    "    # Используем функцию zip для объединения соответствующих координат x и y в кортежи.\n",
    "\n",
    "\n",
    "draw_polygons(gen_triangle())"
   ]
  },
  {
   "cell_type": "markdown",
   "id": "bf95c1a248d447d3",
   "metadata": {},
   "source": [
    "### Задание 8\n",
    "2 сложность"
   ]
  },
  {
   "cell_type": "code",
   "execution_count": 126,
   "id": "d1ce7b1f1e9a686f",
   "metadata": {
    "ExecuteTime": {
     "end_time": "2024-04-22T11:02:44.480391Z",
     "start_time": "2024-04-22T11:02:44.477005Z"
    }
   },
   "outputs": [
    {
     "name": "stdout",
     "output_type": "stream",
     "text": [
      "14.0\n"
     ]
    }
   ],
   "source": [
    "'''5. расчет суммарной площади '''\n",
    "def agr_area(all_area: Union[float, int], coordinates: Iterable[Tuple]) -> Union[float, int]:\n",
    "    return all_area + Polygon(coordinates).area\n",
    "\n",
    "coord = iter((\n",
    "    ((7, 0), (-5, 2), (-2, 2), (-2, 0)),\n",
    "    ((-1, -5), (-1, 1), (-5, 1), (1, -1)),\n",
    "    ((12, 4), (3, 1), (7, 1))\n",
    "))\n",
    "print(ft.reduce(agr_area, coord, 0))"
   ]
  },
  {
   "cell_type": "code",
   "execution_count": 127,
   "id": "9af40a0ea28e9c26",
   "metadata": {
    "ExecuteTime": {
     "end_time": "2024-04-22T11:02:44.485231Z",
     "start_time": "2024-04-22T11:02:44.480391Z"
    }
   },
   "outputs": [
    {
     "name": "stdout",
     "output_type": "stream",
     "text": [
      "46.0\n"
     ]
    }
   ],
   "source": [
    "def arg_perimeter(all_perimiter, coordinates: Iterable[Tuple]) -> Union[float, int]:\n",
    "    coordinates = list(coordinates)\n",
    "    coordinates[len(coordinates) - 1] = coordinates[0]\n",
    "    perimeter = 0\n",
    "    for side in range(len(coordinates) - 1):\n",
    "        x1, y1 = coordinates[side]\n",
    "        x2, y2 = coordinates[side + 1]\n",
    "        perimeter += (((x2 - x1) ** 2) - (y2 - y2) ** 2) ** 0.5\n",
    "    return all_perimiter + perimeter\n",
    "\n",
    "\n",
    "coord = iter((\n",
    "    ((7, 0), (-3, 2), (-2, 2), (-2, 0)),\n",
    "    ((-1, -5), (-1, 1), (-5, 1), (1, -1)),\n",
    "    ((12, 4), (3, 1), (7, 1))\n",
    "))\n",
    "\n",
    "print(ft.reduce(arg_perimeter, coord, 0))"
   ]
  },
  {
   "cell_type": "code",
   "execution_count": 128,
   "id": "363bd6f6524039be",
   "metadata": {
    "ExecuteTime": {
     "end_time": "2024-04-22T11:02:44.489534Z",
     "start_time": "2024-04-22T11:02:44.485231Z"
    }
   },
   "outputs": [
    {
     "name": "stdout",
     "output_type": "stream",
     "text": [
      "6.0\n"
     ]
    }
   ],
   "source": [
    "'''3. поиск самой маленькой площади многоугольника '''\n",
    "def arg_min_area(min_area, coordinates: Iterable[Tuple]) -> Union[float, int]:\n",
    "    if min_area == 0:\n",
    "        return Polygon(coordinates).area\n",
    "    elif min_area > Polygon(coordinates).area:\n",
    "        min_area = Polygon(coordinates).area\n",
    "    return min_area\n",
    "\n",
    "\n",
    "coord = iter((\n",
    "    ((7, 0), (-3, 2), (-2, 2), (-2, 0)),\n",
    "    ((-1, -5), (4, 1), (-5, 1), (1, -1)),\n",
    "    ((12, 4), (3, 1), (7, 1))\n",
    "))\n",
    "print(ft.reduce(arg_min_area, coord, 0))"
   ]
  },
  {
   "cell_type": "code",
   "execution_count": 129,
   "id": "9cf96dabb40d004f",
   "metadata": {
    "ExecuteTime": {
     "end_time": "2024-04-22T11:02:44.494499Z",
     "start_time": "2024-04-22T11:02:44.489534Z"
    }
   },
   "outputs": [
    {
     "name": "stdout",
     "output_type": "stream",
     "text": [
      "10.0\n"
     ]
    }
   ],
   "source": [
    "'''2. поиск самого длинной стороны многоугольника  '''\n",
    "def arg_max_side(max_side, coordinates: Iterable[Tuple]) -> Union[float, int]:\n",
    "    coordinates = list(coordinates)\n",
    "    coordinates[len(coordinates) - 1] = coordinates[0]\n",
    "    for side in range(len(coordinates) - 1):\n",
    "        x1, y1 = coordinates[side]\n",
    "        x2, y2 = coordinates[side + 1]\n",
    "        side = (((x2 - x1) ** 2) - (y2 - y2) ** 2) ** 0.5\n",
    "        if side > max_side:\n",
    "            max_side = side\n",
    "    return max_side\n",
    "\n",
    "\n",
    "coord = iter((\n",
    "    ((7, 0), (-3, 2), (-2, 2), (-2, 0)),\n",
    "    ((-1, -5), (4, 1), (-5, 1), (1, -1)),\n",
    "    ((12, 4), (3, 1), (7, 1))\n",
    "))\n",
    "print(ft.reduce(arg_max_side, coord, 0))"
   ]
  },
  {
   "cell_type": "code",
   "execution_count": 130,
   "id": "dcf149a4d35d5a65",
   "metadata": {
    "ExecuteTime": {
     "end_time": "2024-04-22T11:02:44.499551Z",
     "start_time": "2024-04-22T11:02:44.495634Z"
    }
   },
   "outputs": [
    {
     "name": "stdout",
     "output_type": "stream",
     "text": [
      "(7, 0)\n"
     ]
    }
   ],
   "source": [
    "'''1. поиск угла, самого близкого к началу координат '''\n",
    "def arg_origin_nearest(angle_coordinates: Union[Tuple, None], coordinates: Iterable[Tuple]) -> Tuple:\n",
    "    if angle_coordinates == None:\n",
    "        angle_coordinates = coordinates[0]\n",
    "    for side in coordinates:\n",
    "        if angle_coordinates[0] > abs(side[0]) and angle_coordinates[1] > abs(side[1]):\n",
    "            angle_coordinates = abs(side[0]), abs(side[1])\n",
    "    return angle_coordinates\n",
    "\n",
    "\n",
    "coord = iter((\n",
    "    ((7, 0), (-3, 2), (-2, 2), (-2, 0)),\n",
    "    ((-1, -5), (4, 1), (-5, 1), (1, -1)),\n",
    "    ((12, 4), (3, 1), (7, 1))\n",
    "))\n",
    "\n",
    "print(ft.reduce(arg_origin_nearest, coord, None))"
   ]
  },
  {
   "cell_type": "code",
   "execution_count": null,
   "id": "d9e84e2b",
   "metadata": {},
   "outputs": [],
   "source": []
  }
 ],
 "metadata": {
  "kernelspec": {
   "display_name": "Python 3 (ipykernel)",
   "language": "python",
   "name": "python3"
  },
  "language_info": {
   "codemirror_mode": {
    "name": "ipython",
    "version": 3
   },
   "file_extension": ".py",
   "mimetype": "text/x-python",
   "name": "python",
   "nbconvert_exporter": "python",
   "pygments_lexer": "ipython3",
   "version": "3.9.19"
  }
 },
 "nbformat": 4,
 "nbformat_minor": 5
}
